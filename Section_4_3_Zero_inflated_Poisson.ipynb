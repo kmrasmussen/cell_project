{
  "nbformat": 4,
  "nbformat_minor": 0,
  "metadata": {
    "kernelspec": {
      "display_name": "Python 3",
      "language": "python",
      "name": "python3"
    },
    "language_info": {
      "codemirror_mode": {
        "name": "ipython",
        "version": 3
      },
      "file_extension": ".py",
      "mimetype": "text/x-python",
      "name": "python",
      "nbconvert_exporter": "python",
      "pygments_lexer": "ipython3",
      "version": "3.8.5"
    },
    "colab": {
      "name": "Section 4.3 - Zero-inflated Poisson.ipynb",
      "provenance": [],
      "collapsed_sections": [],
      "include_colab_link": true
    },
    "accelerator": "GPU"
  },
  "cells": [
    {
      "cell_type": "markdown",
      "metadata": {
        "id": "view-in-github",
        "colab_type": "text"
      },
      "source": [
        "<a href=\"https://colab.research.google.com/github/kmrasmussen/cell_project/blob/main/Section_4_3_Zero_inflated_Poisson.ipynb\" target=\"_parent\"><img src=\"https://colab.research.google.com/assets/colab-badge.svg\" alt=\"Open In Colab\"/></a>"
      ]
    },
    {
      "cell_type": "markdown",
      "metadata": {
        "id": "buzretRVnJYV"
      },
      "source": [
        "# ZIP\n",
        "\n",
        "Standard vanilla VAE but with zero-inflated Poisson likelihood"
      ]
    },
    {
      "cell_type": "code",
      "metadata": {
        "id": "OnG9WdZ3d9yX",
        "outputId": "eee066a7-09d0-405e-c602-d69e0992566c",
        "colab": {
          "base_uri": "https://localhost:8080/",
          "height": 245
        }
      },
      "source": [
        "!pip install pyro-ppl"
      ],
      "execution_count": 3,
      "outputs": [
        {
          "output_type": "stream",
          "text": [
            "Collecting pyro-ppl\n",
            "\u001b[?25l  Downloading https://files.pythonhosted.org/packages/3d/1b/946ff38dd8675b8fa114444df0940db078eb42e5354df46645a9e9467085/pyro_ppl-1.5.0-py3-none-any.whl (604kB)\n",
            "\u001b[K     |████████████████████████████████| 614kB 2.7MB/s \n",
            "\u001b[?25hRequirement already satisfied: tqdm>=4.36 in /usr/local/lib/python3.6/dist-packages (from pyro-ppl) (4.41.1)\n",
            "Requirement already satisfied: opt-einsum>=2.3.2 in /usr/local/lib/python3.6/dist-packages (from pyro-ppl) (3.3.0)\n",
            "Requirement already satisfied: torch>=1.6.0 in /usr/local/lib/python3.6/dist-packages (from pyro-ppl) (1.6.0+cu101)\n",
            "Collecting pyro-api>=0.1.1\n",
            "  Downloading https://files.pythonhosted.org/packages/fc/81/957ae78e6398460a7230b0eb9b8f1cb954c5e913e868e48d89324c68cec7/pyro_api-0.1.2-py3-none-any.whl\n",
            "Requirement already satisfied: numpy>=1.7 in /usr/local/lib/python3.6/dist-packages (from pyro-ppl) (1.18.5)\n",
            "Requirement already satisfied: future in /usr/local/lib/python3.6/dist-packages (from torch>=1.6.0->pyro-ppl) (0.16.0)\n",
            "Installing collected packages: pyro-api, pyro-ppl\n",
            "Successfully installed pyro-api-0.1.2 pyro-ppl-1.5.0\n"
          ],
          "name": "stdout"
        }
      ]
    },
    {
      "cell_type": "code",
      "metadata": {
        "id": "KUe0SSgYnJYW"
      },
      "source": [
        "import torch\n",
        "import torch.nn as nn\n",
        "import torch.nn.functional as F\n",
        "from torch.utils.data import DataLoader, Dataset\n",
        "import numpy as np\n",
        "import torch.optim as optim\n",
        "import matplotlib.pyplot as plt\n",
        "from sklearn.manifold import TSNE\n",
        "import pyro"
      ],
      "execution_count": 4,
      "outputs": []
    },
    {
      "cell_type": "code",
      "metadata": {
        "id": "Tf1QWZkNnf00",
        "outputId": "2049d418-278d-411e-ae74-d6dbcfd0fc38",
        "colab": {
          "base_uri": "https://localhost:8080/",
          "height": 35
        }
      },
      "source": [
        "from google.colab import drive\n",
        "drive.mount('/content/gdrive')"
      ],
      "execution_count": 5,
      "outputs": [
        {
          "output_type": "stream",
          "text": [
            "Mounted at /content/gdrive\n"
          ],
          "name": "stdout"
        }
      ]
    },
    {
      "cell_type": "code",
      "metadata": {
        "id": "U43uktD5n3TG"
      },
      "source": [
        "class CellDataset(Dataset):\n",
        "  def __init__(self, numpy_matrix, batch_labels):\n",
        "    self.X = torch.from_numpy(numpy_matrix)\n",
        "    self.n_genes = self.X.shape[1]\n",
        "    self.batch_labels = batch_labels.reshape(-1).astype(np.float32)\n",
        "    self.batch_label_max = int(np.max(self.batch_labels))\n",
        "\n",
        "    # Library sizes for each cell, mean and variance across cells\n",
        "    self.cell_log_library_sizes = torch.sum(self.X, dim = 1)\n",
        "    self.log_library_sizes_mean = self.cell_log_library_sizes.mean().item()\n",
        "    self.log_library_sizes_var = self.cell_log_library_sizes.var().item()\n",
        "    print('Library sizes mean', self.log_library_sizes_mean, 'var', self.log_library_sizes_var)\n",
        "    \n",
        "  def __len__(self):\n",
        "    return self.X.shape[0]\n",
        "\n",
        "  def __getitem__(self, idx):\n",
        "    return {'x': self.X[idx], 'library_size': self.cell_log_library_sizes[idx], 'batch_number': self.batch_labels[idx]}"
      ],
      "execution_count": 6,
      "outputs": []
    },
    {
      "cell_type": "code",
      "metadata": {
        "id": "ZkIiolUfnJYg"
      },
      "source": [
        "X = np.load('/content/gdrive/My Drive/uni_archive/cell/immune_control_subsampled_alone.npy')\n",
        "y = np.zeros(X.shape[0])"
      ],
      "execution_count": 7,
      "outputs": []
    },
    {
      "cell_type": "code",
      "metadata": {
        "id": "oHu2Aid1nJYx",
        "outputId": "fddf22b6-61dc-4320-e223-ad1fbf8acb79",
        "colab": {
          "base_uri": "https://localhost:8080/",
          "height": 35
        }
      },
      "source": [
        "dataset = CellDataset(X, y)\n",
        "minibatch_size = 32\n",
        "train_set, val_set, test_set = torch.utils.data.random_split(dataset, [7000, 3000, 3019])\n",
        "train_loader = DataLoader(train_set, batch_size=minibatch_size, shuffle=True)\n",
        "val_loader = DataLoader(val_set, batch_size=minibatch_size, shuffle=True)\n",
        "test_loader = DataLoader(test_set, batch_size=minibatch_size, shuffle=True)"
      ],
      "execution_count": 8,
      "outputs": [
        {
          "output_type": "stream",
          "text": [
            "Library sizes mean 545.81494140625 var 369664.1875\n"
          ],
          "name": "stdout"
        }
      ]
    },
    {
      "cell_type": "code",
      "metadata": {
        "id": "bPm4rZHjP-I8",
        "outputId": "9bc3df9e-e869-4d1c-b335-6b867db305fc",
        "colab": {
          "base_uri": "https://localhost:8080/",
          "height": 35
        }
      },
      "source": [
        "torch.cuda.is_available()"
      ],
      "execution_count": 9,
      "outputs": [
        {
          "output_type": "execute_result",
          "data": {
            "text/plain": [
              "True"
            ]
          },
          "metadata": {
            "tags": []
          },
          "execution_count": 9
        }
      ]
    },
    {
      "cell_type": "code",
      "metadata": {
        "id": "IUlTBKHtnJY8"
      },
      "source": [
        "class ZIP_VAE_FORSOEG2(nn.Module):\n",
        "    def __init__(self, x_dim, h_dim1, h_dim2, z_dim):\n",
        "        super().__init__()\n",
        "        \n",
        "        # encoder part\n",
        "        self.mu_1 = nn.Linear(x_dim, h_dim1)\n",
        "        torch.nn.init.xavier_uniform_(self.mu_1.weight)\n",
        "        self.mu_2 = nn.Linear(h_dim1, h_dim2)\n",
        "        torch.nn.init.xavier_uniform_(self.mu_2.weight)\n",
        "        self.mu_3 = nn.Linear(h_dim1, z_dim)\n",
        "        torch.nn.init.xavier_uniform_(self.mu_3.weight)\n",
        "\n",
        "        self.var_1 = nn.Linear(x_dim, h_dim1)\n",
        "        torch.nn.init.xavier_uniform_(self.var_1.weight)\n",
        "        self.var_2 = nn.Linear(h_dim1, h_dim2)\n",
        "        torch.nn.init.xavier_uniform_(self.var_2.weight)\n",
        "        self.var_3 = nn.Linear(h_dim1, z_dim)\n",
        "        torch.nn.init.xavier_uniform_(self.var_3.weight)\n",
        "\n",
        "        # decoder part\n",
        "        self.dec_1 = nn.Linear(z_dim, h_dim2)\n",
        "        #self.dec_2 = nn.Linear(h_dim2, h_dim1)\n",
        "        self.dec_3 = nn.Linear(h_dim2, x_dim)\n",
        "\n",
        "        self.dec_dropout_1 = nn.Linear(z_dim, h_dim2)\n",
        "        #self.dec_2 = nn.Linear(h_dim2, h_dim1)\n",
        "        self.dec_dropout_3 = nn.Linear(h_dim2, x_dim)\n",
        "        \n",
        "    def encoder(self, x):\n",
        "        mu = F.relu(self.mu_1(x))\n",
        "        #mu = F.relu(self.mu_2(mu))\n",
        "        mu = self.mu_3(mu)\n",
        "\n",
        "        log_var = F.relu(self.var_1(x))\n",
        "        #log_var = F.relu(self.var_2(log_var))\n",
        "        log_var = self.var_3(log_var)\n",
        "        return mu, log_var # mu, log_var\n",
        "    \n",
        "    def sampling(self, mu, log_var):\n",
        "        std = torch.exp(0.5*log_var)\n",
        "        eps = torch.randn_like(std)\n",
        "        return eps.mul(std).add_(mu) # return z sample\n",
        "        \n",
        "    def decoder(self, z):\n",
        "        h = F.relu(self.dec_1(z))\n",
        "        #h = F.relu(self.dec_2(h))\n",
        "        h = self.dec_3(h)\n",
        "        #h = F.sigmoid(h)\n",
        "\n",
        "        dropout = F.relu(self.dec_dropout_1(z))\n",
        "        dropout = self.dec_dropout_3(dropout)\n",
        "        return h, dropout\n",
        "    \n",
        "    def forward(self, x):\n",
        "        mu, log_var = self.encoder(x)\n",
        "        z = self.sampling(mu, log_var)\n",
        "        log_lambdas, dropout = self.decoder(z)\n",
        "        return log_lambdas, dropout, mu, log_var"
      ],
      "execution_count": 10,
      "outputs": []
    },
    {
      "cell_type": "code",
      "metadata": {
        "id": "IXFjmTUwnJZB"
      },
      "source": [
        "def train(model, dataloader, optimizer, loss_function, kld_beta):\n",
        "    model.train()\n",
        "    \n",
        "    total_train_loss = 0.\n",
        "    running_loss = 0.\n",
        "    running_recons_loss = 0.\n",
        "    running_kld_loss = 0.\n",
        "    for batch_idx, data in enumerate(dataloader):\n",
        "            \n",
        "        optimizer.zero_grad()\n",
        "\n",
        "        x = data['x']\n",
        "        if torch.cuda.is_available():\n",
        "          x = x.cuda()\n",
        "        log_lambdas, dropout, mu, log_var = model(x)\n",
        "        loss, recons_loss, kld_loss = loss_function(log_lambdas, dropout, mu, log_var, x, kld_beta)\n",
        "        #print('loss', loss)\n",
        "\n",
        "        if loss > 1e10:\n",
        "          print('Might want to skip this optimizing step')\n",
        "\n",
        "        loss.backward()\n",
        "        optimizer.step()\n",
        "\n",
        "        total_train_loss += loss.item()\n",
        "        running_loss += loss.item()\n",
        "        running_recons_loss += recons_loss.item()\n",
        "        running_kld_loss += kld_loss.item()\n",
        "        #if batch_idx % 100 == 99:\n",
        "        #    print('Running loss', np.round(running_loss / (100. * minibatch_size)))\n",
        "        #    running_loss = 0.\n",
        "    return total_train_loss / len(dataloader.dataset), running_recons_loss / len(dataloader.dataset), running_kld_loss / len(dataloader.dataset)"
      ],
      "execution_count": 11,
      "outputs": []
    },
    {
      "cell_type": "code",
      "metadata": {
        "id": "0W4RayVDnJZH"
      },
      "source": [
        "def validate(model, dataloader, optimizer, loss_function, kld_beta):\n",
        "    model.eval()\n",
        "    \n",
        "    total_val_loss = 0.\n",
        "    running_loss = 0.\n",
        "    with torch.no_grad():\n",
        "        for batch_idx, data in enumerate(dataloader):\n",
        "\n",
        "            x = data['x']\n",
        "            if torch.cuda.is_available():\n",
        "              x = x.cuda()\n",
        "            log_lambdas, dropout, mu, log_var = model(x)\n",
        "            loss, recons_loss, kld_loss = loss_function(log_lambdas, dropout, mu, log_var, x, kld_beta)\n",
        "            \n",
        "            total_val_loss += loss.item()\n",
        "            running_loss += loss.item()\n",
        "            #if batch_idx % 100 == 99:\n",
        "            #    print('Running loss', np.round(running_loss / (100. * minibatch_size)))\n",
        "            #    running_loss = 0.\n",
        "    return total_val_loss / len(dataloader.dataset)"
      ],
      "execution_count": 12,
      "outputs": []
    },
    {
      "cell_type": "code",
      "metadata": {
        "id": "Ekru9D9NnJZU"
      },
      "source": [
        "def poisson_loss_function_pyro(recons_x, mu, log_var, x, kld_beta):\n",
        "    log_lambdas = recons_x\n",
        "    log_lambdas = torch.clamp(input = log_lambdas, min=-9, max = 9.)\n",
        "    lambdas = torch.exp(log_lambdas) #+ 1.\n",
        "    poisson_dist = pyro.distributions.Poisson(lambdas) #.to_event(1)\n",
        "    KLD = -0.5 * torch.sum(1 + log_var - mu.pow(2) - log_var.exp())\n",
        "    log_probs = poisson_dist.log_prob(x)\n",
        "    poisson_likelihood = log_probs.sum()\n",
        "    elbo = None\n",
        "    if kld_beta == 0.:\n",
        "        elbo = poisson_likelihood\n",
        "    else:\n",
        "        elbo = poisson_likelihood - kld_beta * KLD\n",
        "    loss = -elbo\n",
        "    if torch.isnan(loss) or torch.isinf(loss):\n",
        "        print('log lambdas', log_lambdas, torch.isnan(log_lambdas).sum())\n",
        "        print('lambdas', lambdas, torch.isnan(log_lambdas).sum())\n",
        "        print('log probs', log_probs, torch.isnan(log_lambdas).sum())\n",
        "        raise Exception('NaN loss')\n",
        "    return loss"
      ],
      "execution_count": 13,
      "outputs": []
    },
    {
      "cell_type": "code",
      "metadata": {
        "id": "mins_Rovnl9u"
      },
      "source": [
        "def zip_loss_function_pyro(log_lambdas, dropout, mu, log_var, x, kld_beta):\n",
        "    log_lambdas = torch.clamp(input = log_lambdas, min=-9., max = 9.)\n",
        "    dropout = torch.clamp(input = dropout, min=-10., max = 9.)\n",
        "    lambdas = torch.exp(log_lambdas) #+ 1.\n",
        "    dropout = torch.sigmoid(dropout)\n",
        "    poisson_dist = pyro.distributions.zero_inflated.ZeroInflatedPoisson(gate = dropout, rate = lambdas) #pyro.distributions.Poisson(lambdas) #.to_event(1)\n",
        "    KLD = -0.5 * torch.sum(1 + log_var - mu.pow(2) - log_var.exp())\n",
        "    log_probs = poisson_dist.log_prob(x)\n",
        "    poisson_likelihood = log_probs.sum()\n",
        "    elbo = None\n",
        "    if kld_beta == 0.:\n",
        "        elbo = poisson_likelihood\n",
        "    else:\n",
        "        #print('KLD', KLD)\n",
        "        elbo = poisson_likelihood - kld_beta * KLD\n",
        "    loss = -elbo\n",
        "    if torch.isnan(loss) or torch.isinf(loss):\n",
        "        print('log lambdas', log_lambdas, torch.isnan(log_lambdas).sum())\n",
        "        print('lambdas', lambdas, torch.isnan(log_lambdas).sum())\n",
        "        print('log probs', log_probs, torch.isnan(log_lambdas).sum())\n",
        "        raise Exception('NaN loss')\n",
        "    return loss, poisson_likelihood, kld_beta * KLD"
      ],
      "execution_count": 21,
      "outputs": []
    },
    {
      "cell_type": "code",
      "metadata": {
        "id": "rv_ihNUhnJZZ",
        "outputId": "e8720f98-a68d-4876-ae02-8c935b19f955",
        "colab": {
          "base_uri": "https://localhost:8080/",
          "height": 1000
        }
      },
      "source": [
        "# build model\n",
        "vae = ZIP_VAE_FORSOEG2(x_dim=dataset.n_genes, h_dim1= 512, h_dim2=256, z_dim=20)\n",
        "if torch.cuda.is_available():\n",
        "    vae.cuda()\n",
        "optimizer = optim.Adam(vae.parameters(), lr=0.00001)\n",
        "\n",
        "n_epochs = 500\n",
        "train_history = []\n",
        "kld_history = []\n",
        "recons_history = []\n",
        "val_history = []\n",
        "ready_to_activate_kld = False\n",
        "activate_kld_after = 10\n",
        "ready_to_activate_aggresive = False\n",
        "for epoch in range(n_epochs):\n",
        "    print('Epoch', epoch)\n",
        "    kld_beta = 0.\n",
        "    if ready_to_activate_kld:\n",
        "        kld_beta = min(1.0, 0.1 * (epoch - activate_kld_after))\n",
        "    print('kld beta:', kld_beta)\n",
        "    train_loss, recons_loss, kld_loss = train(vae, train_loader, optimizer, zip_loss_function_pyro, kld_beta)\n",
        "    print('train loss', train_loss, 'recons', recons_loss, 'kld', kld_loss)\n",
        "    if train_loss < 1500. and ready_to_activate_kld == False:\n",
        "      activate_kld_after = epoch\n",
        "      #print('Ready for kld')\n",
        "      ready_to_activate_kld = True\n",
        "    if train_loss < 1000. and ready_to_activate_aggresive == False:\n",
        "      ready_to_activate_aggresive = True\n",
        "      print('Increasing learning rate')\n",
        "      for param_group in optimizer.param_groups:\n",
        "        param_group['lr'] = 0.0001\n",
        "    val_loss = validate(vae, val_loader, optimizer, zip_loss_function_pyro, kld_beta)\n",
        "    print('validation loss', val_loss)\n",
        "    train_history.append(train_loss)\n",
        "    val_history.append(val_loss)"
      ],
      "execution_count": 22,
      "outputs": [
        {
          "output_type": "stream",
          "text": [
            "Epoch 0\n",
            "kld beta: 0.0\n",
            "train loss 67817.63591517857 recons -67817.63591517857 kld nan\n",
            "validation loss 13856.698408854167\n",
            "Epoch 1\n",
            "kld beta: 0.0\n",
            "train loss 7432.974815290178 recons -7432.974815290178 kld nan\n",
            "validation loss 5171.749893229166\n",
            "Epoch 2\n",
            "kld beta: 0.0\n",
            "train loss 4960.512890066964 recons -4960.512890066964 kld nan\n",
            "validation loss 3997.0402330729166\n",
            "Epoch 3\n",
            "kld beta: 0.0\n",
            "train loss 4489.183912388393 recons -4489.183912388393 kld nan\n",
            "validation loss 3842.5500625\n",
            "Epoch 4\n",
            "kld beta: 0.0\n",
            "train loss 4036.422543526786 recons -4036.422543526786 kld nan\n",
            "validation loss 3321.73938671875\n",
            "Epoch 5\n",
            "kld beta: 0.0\n",
            "train loss 3849.189459263393 recons -3849.189459263393 kld nan\n",
            "validation loss 3211.8419322916666\n",
            "Epoch 6\n",
            "kld beta: 0.0\n",
            "train loss 3686.355719029018 recons -3686.355719029018 kld nan\n",
            "validation loss 2989.883349609375\n",
            "Epoch 7\n",
            "kld beta: 0.0\n",
            "train loss 3528.5116183035716 recons -3528.5116183035716 kld nan\n",
            "validation loss 2840.3751243489583\n",
            "Epoch 8\n",
            "kld beta: 0.0\n",
            "train loss 3490.0493175223214 recons -3490.0493175223214 kld nan\n",
            "validation loss 2744.1754524739586\n",
            "Epoch 9\n",
            "kld beta: 0.0\n",
            "train loss 3436.647982421875 recons -3436.647982421875 kld nan\n",
            "validation loss 2641.697650390625\n",
            "Epoch 10\n",
            "kld beta: 0.0\n",
            "train loss 3393.754515904018 recons -3393.754515904018 kld nan\n",
            "validation loss 2729.271806640625\n",
            "Epoch 11\n",
            "kld beta: 0.0\n",
            "train loss 3308.9038175223213 recons -3308.9038175223213 kld nan\n",
            "validation loss 2572.7531705729166\n",
            "Epoch 12\n",
            "kld beta: 0.0\n",
            "train loss 3327.9698214285713 recons -3327.9698214285713 kld nan\n",
            "validation loss 2632.9304290364585\n",
            "Epoch 13\n",
            "kld beta: 0.0\n",
            "train loss 3192.926923828125 recons -3192.926923828125 kld nan\n",
            "validation loss 2563.393443359375\n",
            "Epoch 14\n",
            "kld beta: 0.0\n",
            "train loss 3210.1300697544643 recons -3210.1300697544643 kld nan\n",
            "validation loss 2531.314320963542\n",
            "Epoch 15\n",
            "kld beta: 0.0\n",
            "train loss 3207.5841919642858 recons -3207.5841919642858 kld nan\n",
            "validation loss 2513.8368912760416\n",
            "Epoch 16\n",
            "kld beta: 0.0\n",
            "train loss 3116.33366796875 recons -3116.33366796875 kld nan\n",
            "validation loss 2418.3956158854166\n",
            "Epoch 17\n",
            "kld beta: 0.0\n",
            "train loss 3028.212749441964 recons -3028.212749441964 kld 0.0\n",
            "validation loss 2391.308118489583\n",
            "Epoch 18\n",
            "kld beta: 0.0\n",
            "train loss 3017.2245524553573 recons -3017.2245524553573 kld 0.0\n",
            "validation loss 2466.0581145833335\n",
            "Epoch 19\n",
            "kld beta: 0.0\n",
            "train loss 2962.235181361607 recons -2962.235181361607 kld 0.0\n",
            "validation loss 2462.3592415364583\n",
            "Epoch 20\n",
            "kld beta: 0.0\n",
            "train loss 3027.0764031808035 recons -3027.0764031808035 kld 0.0\n",
            "validation loss 2410.086393229167\n",
            "Epoch 21\n",
            "kld beta: 0.0\n",
            "train loss 2946.625056361607 recons -2946.625056361607 kld nan\n",
            "validation loss 2309.881216145833\n",
            "Epoch 22\n",
            "kld beta: 0.0\n",
            "train loss 2931.691437220982 recons -2931.691437220982 kld nan\n",
            "validation loss 2332.58245703125\n",
            "Epoch 23\n",
            "kld beta: 0.0\n",
            "train loss 2921.8380108816964 recons -2921.8380108816964 kld nan\n",
            "validation loss 2329.3793919270834\n",
            "Epoch 24\n",
            "kld beta: 0.0\n",
            "train loss 2894.494787109375 recons -2894.494787109375 kld nan\n",
            "validation loss 2344.7786080729165\n",
            "Epoch 25\n",
            "kld beta: 0.0\n",
            "train loss 2880.7540496651786 recons -2880.7540496651786 kld 0.0\n",
            "validation loss 2277.4718092447915\n",
            "Epoch 26\n",
            "kld beta: 0.0\n",
            "train loss 2878.819158761161 recons -2878.819158761161 kld 0.0\n",
            "validation loss 2280.3224482421874\n",
            "Epoch 27\n",
            "kld beta: 0.0\n",
            "train loss 2858.753080496652 recons -2858.753080496652 kld 0.0\n",
            "validation loss 2318.4527708333335\n",
            "Epoch 28\n",
            "kld beta: 0.0\n",
            "train loss 2875.713793108259 recons -2875.713793108259 kld 0.0\n",
            "validation loss 2173.2312760416667\n",
            "Epoch 29\n",
            "kld beta: 0.0\n",
            "train loss 2779.7448189174106 recons -2779.7448189174106 kld 0.0\n",
            "validation loss 2216.3161575520835\n",
            "Epoch 30\n",
            "kld beta: 0.0\n",
            "train loss 2809.026202706473 recons -2809.026202706473 kld 0.0\n",
            "validation loss 2251.106090169271\n",
            "Epoch 31\n",
            "kld beta: 0.0\n",
            "train loss 2787.59628125 recons -2787.59628125 kld 0.0\n",
            "validation loss 2174.819376953125\n",
            "Epoch 32\n",
            "kld beta: 0.0\n",
            "train loss 2759.5692151227677 recons -2759.5692151227677 kld 0.0\n",
            "validation loss 2207.739271484375\n",
            "Epoch 33\n",
            "kld beta: 0.0\n",
            "train loss 2670.3705528738838 recons -2670.3705528738838 kld 0.0\n",
            "validation loss 2232.4897180989583\n",
            "Epoch 34\n",
            "kld beta: 0.0\n",
            "train loss 2784.675251953125 recons -2784.675251953125 kld 0.0\n",
            "validation loss 2170.5761608072917\n",
            "Epoch 35\n",
            "kld beta: 0.0\n",
            "train loss 2684.680825055804 recons -2684.680825055804 kld 0.0\n",
            "validation loss 2199.713375\n",
            "Epoch 36\n",
            "kld beta: 0.0\n",
            "train loss 2673.0624913504466 recons -2673.0624913504466 kld 0.0\n",
            "validation loss 2110.4377154947915\n",
            "Epoch 37\n",
            "kld beta: 0.0\n",
            "train loss 2689.550020926339 recons -2689.550020926339 kld 0.0\n",
            "validation loss 2127.2080859375\n",
            "Epoch 38\n",
            "kld beta: 0.0\n",
            "train loss 2707.3067338169644 recons -2707.3067338169644 kld 0.0\n",
            "validation loss 2139.621733723958\n",
            "Epoch 39\n",
            "kld beta: 0.0\n",
            "train loss 2692.744223772321 recons -2692.744223772321 kld 0.0\n",
            "validation loss 2126.0046438802083\n",
            "Epoch 40\n",
            "kld beta: 0.0\n",
            "train loss 2587.1077198660714 recons -2587.1077198660714 kld 0.0\n",
            "validation loss 2194.21484765625\n",
            "Epoch 41\n",
            "kld beta: 0.0\n",
            "train loss 2622.9416999162945 recons -2622.9416999162945 kld 0.0\n",
            "validation loss 2118.1972936197917\n",
            "Epoch 42\n",
            "kld beta: 0.0\n",
            "train loss 2617.507521484375 recons -2617.507521484375 kld 0.0\n",
            "validation loss 2246.5280045572918\n",
            "Epoch 43\n",
            "kld beta: 0.0\n",
            "train loss 2576.63409375 recons -2576.63409375 kld 0.0\n",
            "validation loss 2117.6457955729165\n",
            "Epoch 44\n",
            "kld beta: 0.0\n",
            "train loss 2489.197840401786 recons -2489.197840401786 kld 0.0\n",
            "validation loss 2101.8415423177084\n",
            "Epoch 45\n",
            "kld beta: 0.0\n",
            "train loss 2518.959164620536 recons -2518.959164620536 kld 0.0\n",
            "validation loss 1942.22876953125\n",
            "Epoch 46\n",
            "kld beta: 0.0\n",
            "train loss 1929.9115913783482 recons -1929.9115913783482 kld 0.0\n",
            "validation loss 1190.4190218098959\n",
            "Epoch 47\n",
            "kld beta: 0.0\n",
            "train loss 981.7485179966518 recons -981.7485179966518 kld 0.0\n",
            "Increasing learning rate\n",
            "validation loss 983.5161529947917\n",
            "Epoch 48\n",
            "kld beta: 0.1\n",
            "train loss 859.5749790736608 recons -807.1928150111607 kld 52.38215917532784\n",
            "validation loss 855.9819833984375\n",
            "Epoch 49\n",
            "kld beta: 0.2\n",
            "train loss 739.5794782366071 recons -704.8568678850446 kld 34.722608651297435\n",
            "validation loss 850.7060732421875\n",
            "Epoch 50\n",
            "kld beta: 0.30000000000000004\n",
            "Might want to skip this optimizing step\n",
            "train loss 18808381.543169364 recons -809.7853235212053 kld 18807572.06030209\n",
            "validation loss 824.0079563802084\n",
            "Epoch 51\n",
            "kld beta: 0.4\n",
            "train loss 1370.3016085379463 recons -672.9592601841517 kld 697.3423177664621\n",
            "validation loss 813.7609765625\n",
            "Epoch 52\n",
            "kld beta: 0.5\n",
            "train loss 833.3630270647321 recons -734.2199794921875 kld 99.14305167933873\n",
            "validation loss 811.18139453125\n",
            "Epoch 53\n",
            "kld beta: 0.6000000000000001\n",
            "Might want to skip this optimizing step\n",
            "train loss 368340313.9424007 recons -656.6248147321429 kld 368339644.1048438\n",
            "validation loss 806.0730491536458\n",
            "Epoch 54\n",
            "kld beta: 0.7000000000000001\n",
            "train loss 673.0983529575893 recons -609.7844820033482 kld 63.31387168666295\n",
            "validation loss 822.585455078125\n",
            "Epoch 55\n",
            "kld beta: 0.8\n",
            "train loss 660.7608244977679 recons -600.1375221819196 kld 60.623305297851566\n",
            "validation loss 819.1685107421876\n",
            "Epoch 56\n",
            "kld beta: 0.9\n",
            "train loss 677.3732438616072 recons -611.4506153738839 kld 65.92262875802176\n",
            "validation loss 830.19036328125\n",
            "Epoch 57\n",
            "kld beta: 1.0\n",
            "train loss 663.5550930524554 recons -600.665613420759 kld 62.88947910853795\n",
            "validation loss 824.2468131510417\n",
            "Epoch 58\n",
            "kld beta: 1.0\n",
            "train loss 675.246103515625 recons -615.095326171875 kld 60.15077793666295\n",
            "validation loss 814.208783203125\n",
            "Epoch 59\n",
            "kld beta: 1.0\n",
            "train loss 657.2124328962053 recons -598.6818119419643 kld 58.53062040492466\n",
            "validation loss 825.5096595052083\n",
            "Epoch 60\n",
            "kld beta: 1.0\n",
            "train loss 650.3504345703125 recons -594.223867327009 kld 56.12656656319754\n",
            "validation loss 763.4449869791666\n",
            "Epoch 61\n",
            "kld beta: 1.0\n",
            "train loss 652.1525619419643 recons -597.811171875 kld 54.34139071219308\n",
            "validation loss 786.9520211588542\n",
            "Epoch 62\n",
            "kld beta: 1.0\n",
            "train loss 645.5333045479911 recons -592.0453138950893 kld 53.48799020821708\n",
            "validation loss 777.3965465494791\n",
            "Epoch 63\n",
            "kld beta: 1.0\n",
            "train loss 662.6712331194196 recons -581.7889796316964 kld 80.88225276402065\n",
            "validation loss 768.902201171875\n",
            "Epoch 64\n",
            "kld beta: 1.0\n",
            "train loss 623.9789055524553 recons -572.911185407366 kld 51.06772043282645\n",
            "validation loss 846.7617682291667\n",
            "Epoch 65\n",
            "kld beta: 1.0\n",
            "train loss 618.3358151506696 recons -569.9338653738839 kld 48.40195027378627\n",
            "validation loss 791.0755927734375\n",
            "Epoch 66\n",
            "kld beta: 1.0\n",
            "train loss 622.8834175502233 recons -573.0878232421875 kld 49.795594177246095\n",
            "validation loss 775.96428125\n",
            "Epoch 67\n",
            "kld beta: 1.0\n",
            "train loss 622.1795623604911 recons -574.824293108259 kld 47.35526916503906\n",
            "validation loss 833.1260979817708\n",
            "Epoch 68\n",
            "kld beta: 1.0\n",
            "train loss 620.2773881138393 recons -573.9176480189732 kld 46.35974136788504\n",
            "validation loss 767.2931070963542\n",
            "Epoch 69\n",
            "kld beta: 1.0\n",
            "train loss 643.2585789620535 recons -594.4645407366071 kld 48.794038635253905\n",
            "validation loss 783.1403434244792\n",
            "Epoch 70\n",
            "kld beta: 1.0\n",
            "train loss 625.0090108816964 recons -576.7074539620536 kld 48.301558576311386\n",
            "validation loss 767.2489544270833\n",
            "Epoch 71\n",
            "kld beta: 1.0\n",
            "train loss 616.4109354073661 recons -569.4276576450893 kld 46.983279139927454\n",
            "validation loss 824.1351337890625\n",
            "Epoch 72\n",
            "kld beta: 1.0\n",
            "train loss 613.57115625 recons -567.0764501953125 kld 46.49470655168806\n",
            "validation loss 740.3442356770834\n",
            "Epoch 73\n",
            "kld beta: 1.0\n",
            "train loss 605.7352883649554 recons -561.0601262555804 kld 44.67516346086774\n",
            "validation loss 809.9730397135417\n",
            "Epoch 74\n",
            "kld beta: 1.0\n",
            "train loss 599.9705392020089 recons -556.8939613560268 kld 43.076576956612726\n",
            "validation loss 756.3888059895834\n",
            "Epoch 75\n",
            "kld beta: 1.0\n",
            "train loss 601.4704773995536 recons -557.8119393136161 kld 43.65853812953404\n",
            "validation loss 755.4573098958333\n",
            "Epoch 76\n",
            "kld beta: 1.0\n",
            "train loss 594.1783073381696 recons -551.754931640625 kld 42.423376604352676\n",
            "validation loss 762.6584208984375\n",
            "Epoch 77\n",
            "kld beta: 1.0\n",
            "train loss 591.0184660993303 recons -549.9696337890625 kld 41.04883296421596\n",
            "validation loss 784.6790992838542\n",
            "Epoch 78\n",
            "kld beta: 1.0\n",
            "train loss 628.2086079799108 recons -582.6001870814732 kld 45.60841947719029\n",
            "validation loss 870.3375\n",
            "Epoch 79\n",
            "kld beta: 1.0\n",
            "train loss 605.3238285435268 recons -560.209058454241 kld 45.11476990618024\n",
            "validation loss 734.0187991536459\n",
            "Epoch 80\n",
            "kld beta: 1.0\n",
            "train loss 598.8825964006696 recons -555.8055446428572 kld 43.07705224609375\n",
            "validation loss 767.2174332682291\n",
            "Epoch 81\n",
            "kld beta: 1.0\n",
            "train loss 598.610638671875 recons -552.8401216517857 kld 45.770514500209266\n",
            "validation loss 771.4761383463542\n",
            "Epoch 82\n",
            "kld beta: 1.0\n",
            "train loss 590.943611328125 recons -548.3490267857143 kld 42.59458424595424\n",
            "validation loss 749.8835595703125\n",
            "Epoch 83\n",
            "kld beta: 1.0\n",
            "train loss 598.7232174944196 recons -556.5493777901786 kld 42.17383911132813\n",
            "validation loss 773.00289453125\n",
            "Epoch 84\n",
            "kld beta: 1.0\n",
            "train loss 597.9604736328125 recons -554.9370929129465 kld 43.023377467564174\n",
            "validation loss 767.757166015625\n",
            "Epoch 85\n",
            "kld beta: 1.0\n",
            "train loss 588.4234670758929 recons -546.9448120814732 kld 41.47865462820871\n",
            "validation loss 724.6283639322917\n",
            "Epoch 86\n",
            "kld beta: 1.0\n",
            "train loss 593.0880717075893 recons -552.6481858258928 kld 40.43988589041574\n",
            "validation loss 735.7084547526042\n",
            "Epoch 87\n",
            "kld beta: 1.0\n",
            "train loss 617.5540016741071 recons -573.3725101841518 kld 44.181491455078124\n",
            "validation loss 683.4333372395834\n",
            "Epoch 88\n",
            "kld beta: 1.0\n",
            "train loss 615.7457915736608 recons -570.4120958426339 kld 45.333697501046316\n",
            "validation loss 722.3170003255208\n",
            "Epoch 89\n",
            "kld beta: 1.0\n",
            "train loss 707.2270541294642 recons -651.041291015625 kld 56.185758605957034\n",
            "validation loss 707.5389440104167\n",
            "Epoch 90\n",
            "kld beta: 1.0\n",
            "train loss 590.7848491908483 recons -544.8476964285715 kld 45.93715302385603\n",
            "validation loss 755.4826962890625\n",
            "Epoch 91\n",
            "kld beta: 1.0\n",
            "train loss 593.108398297991 recons -549.0621223493304 kld 44.04627684674944\n",
            "validation loss 702.6185169270833\n",
            "Epoch 92\n",
            "kld beta: 1.0\n",
            "train loss 579.8355159040178 recons -539.8025961216517 kld 40.03291934640067\n",
            "validation loss 744.6835319010416\n",
            "Epoch 93\n",
            "kld beta: 1.0\n",
            "train loss 582.0191057477679 recons -542.4923996930803 kld 39.52670640345982\n",
            "validation loss 690.8575631510416\n",
            "Epoch 94\n",
            "kld beta: 1.0\n",
            "train loss 574.4680959821428 recons -535.4459619140625 kld 39.0221340070452\n",
            "validation loss 724.1597503255208\n",
            "Epoch 95\n",
            "kld beta: 1.0\n",
            "train loss 570.5437399553572 recons -531.716126953125 kld 38.827612513950896\n",
            "validation loss 703.5923255208334\n",
            "Epoch 96\n",
            "kld beta: 1.0\n",
            "train loss 578.5809195033482 recons -539.6833316127232 kld 38.89758545793806\n",
            "validation loss 713.6587705078125\n",
            "Epoch 97\n",
            "kld beta: 1.0\n",
            "train loss 577.3918517020089 recons -538.8402822265625 kld 38.55156889125279\n",
            "validation loss 728.1887060546875\n",
            "Epoch 98\n",
            "kld beta: 1.0\n",
            "train loss 577.3553600725446 recons -539.233185407366 kld 38.122175197056364\n",
            "validation loss 687.3032877604167\n",
            "Epoch 99\n",
            "kld beta: 1.0\n",
            "train loss 581.2624535435268 recons -542.2987290736608 kld 38.96372419084821\n",
            "validation loss 688.8331966145834\n",
            "Epoch 100\n",
            "kld beta: 1.0\n",
            "train loss 604.7857650669642 recons -558.8505263671875 kld 45.93523885672433\n",
            "validation loss 707.3632692057291\n",
            "Epoch 101\n",
            "kld beta: 1.0\n",
            "train loss 576.7192349330358 recons -535.2757356305804 kld 41.44349936349052\n",
            "validation loss 696.7800514322917\n",
            "Epoch 102\n",
            "kld beta: 1.0\n",
            "train loss 567.206068359375 recons -528.2630552455357 kld 38.943013654436385\n",
            "validation loss 705.6751383463542\n",
            "Epoch 103\n",
            "kld beta: 1.0\n",
            "train loss 568.5650344587053 recons -530.7696736886161 kld 37.795360604422434\n",
            "validation loss 687.2733004557292\n",
            "Epoch 104\n",
            "kld beta: 1.0\n",
            "train loss 598.7226268136161 recons -543.4858038504465 kld 55.23682210867746\n",
            "validation loss 683.080390625\n",
            "Epoch 105\n",
            "kld beta: 1.0\n",
            "train loss 44036.879593331476 recons -589.4566833147321 kld 43447.42410579137\n",
            "validation loss 686.0534283854166\n",
            "Epoch 106\n",
            "kld beta: 1.0\n",
            "train loss 578.8107424665178 recons -539.761970703125 kld 39.04877178083147\n",
            "validation loss 689.5170764973958\n",
            "Epoch 107\n",
            "kld beta: 1.0\n",
            "train loss 589.6276007254464 recons -548.219482282366 kld 41.40811888776507\n",
            "validation loss 684.5067203776042\n",
            "Epoch 108\n",
            "kld beta: 1.0\n",
            "train loss 570.639306640625 recons -530.9045637555804 kld 39.73474385288783\n",
            "validation loss 668.1144934895833\n",
            "Epoch 109\n",
            "kld beta: 1.0\n",
            "train loss 565.3243042689733 recons -527.6569038783482 kld 37.6674011492048\n",
            "validation loss 688.908720703125\n",
            "Epoch 110\n",
            "kld beta: 1.0\n",
            "train loss 562.6841651785714 recons -525.0973021763393 kld 37.58686287144252\n",
            "validation loss 698.78133203125\n",
            "Epoch 111\n",
            "kld beta: 1.0\n",
            "train loss 624.1596022600446 recons -584.5535207868304 kld 39.606083286830355\n",
            "validation loss 682.3702255859375\n",
            "Epoch 112\n",
            "kld beta: 1.0\n",
            "train loss 1938.5891803850448 recons -547.3779299665179 kld 1391.2111998291016\n",
            "validation loss 670.5273421223958\n",
            "Epoch 113\n",
            "kld beta: 1.0\n",
            "train loss 568.6287961774553 recons -531.0463087332589 kld 37.582486162458146\n",
            "validation loss 678.5699752604166\n",
            "Epoch 114\n",
            "kld beta: 1.0\n",
            "train loss 561.8260837053572 recons -525.208783203125 kld 36.617300310407366\n",
            "validation loss 726.4878714192708\n",
            "Epoch 115\n",
            "kld beta: 1.0\n",
            "train loss 581.8157357700893 recons -540.5017894810268 kld 41.31394763183594\n",
            "validation loss 685.701947265625\n",
            "Epoch 116\n",
            "kld beta: 1.0\n",
            "train loss 566.3855601283482 recons -526.2462663225447 kld 40.13929351806641\n",
            "validation loss 692.8588430989583\n",
            "Epoch 117\n",
            "kld beta: 1.0\n",
            "train loss 564.9374422433036 recons -527.2364305245536 kld 37.7010105242048\n",
            "validation loss 709.6587581380209\n",
            "Epoch 118\n",
            "kld beta: 1.0\n",
            "train loss 576.2556004464286 recons -533.7152154017857 kld 42.54038417271205\n",
            "validation loss 716.5258509114583\n",
            "Epoch 119\n",
            "kld beta: 1.0\n",
            "train loss 724.7495599888393 recons -575.7415087890626 kld 149.00805041503907\n",
            "validation loss 682.1104560546875\n",
            "Epoch 120\n",
            "kld beta: 1.0\n",
            "train loss 568.1972935267858 recons -529.7262476283482 kld 38.4710451398577\n",
            "validation loss 684.239810546875\n",
            "Epoch 121\n",
            "kld beta: 1.0\n",
            "train loss 558.0624222935268 recons -520.1736148158482 kld 37.88880668422154\n",
            "validation loss 684.705150390625\n",
            "Epoch 122\n",
            "kld beta: 1.0\n",
            "train loss 612.4355366908483 recons -564.0755712890625 kld 48.359965035574774\n",
            "validation loss 684.3554690755209\n",
            "Epoch 123\n",
            "kld beta: 1.0\n",
            "train loss 556.7550456194197 recons -516.1694998604911 kld 40.58554666573661\n",
            "validation loss 667.9120960286458\n",
            "Epoch 124\n",
            "kld beta: 1.0\n",
            "train loss 556.5303189174107 recons -517.3832794363839 kld 39.14703956821987\n",
            "validation loss 687.8846399739583\n",
            "Epoch 125\n",
            "kld beta: 1.0\n",
            "train loss 562.9269496372768 recons -521.8964988839285 kld 41.03045096261161\n",
            "validation loss 655.4712880859375\n",
            "Epoch 126\n",
            "kld beta: 1.0\n",
            "train loss 552.7782472098214 recons -515.2838138950893 kld 37.494433445521764\n",
            "validation loss 662.1983743489583\n",
            "Epoch 127\n",
            "kld beta: 1.0\n",
            "train loss 560.4950046037947 recons -521.8894546595982 kld 38.60554950823103\n",
            "validation loss 661.7817718098959\n",
            "Epoch 128\n",
            "kld beta: 1.0\n",
            "train loss 552.1467272600446 recons -515.4293551897322 kld 36.71737216622489\n",
            "validation loss 658.7522027994792\n",
            "Epoch 129\n",
            "kld beta: 1.0\n",
            "train loss 576.9643133370536 recons -519.885802734375 kld 57.0785105242048\n",
            "validation loss 659.9144427083334\n",
            "Epoch 130\n",
            "kld beta: 1.0\n",
            "train loss 552.2731488560268 recons -517.1857585100446 kld 35.08738924734933\n",
            "validation loss 691.4863492838541\n",
            "Epoch 131\n",
            "kld beta: 1.0\n",
            "train loss 555.7523394252232 recons -519.0422575334821 kld 36.710082188197546\n",
            "validation loss 652.6898284505208\n",
            "Epoch 132\n",
            "kld beta: 1.0\n",
            "train loss 551.1323377511161 recons -514.6599381975446 kld 36.47240040806361\n",
            "validation loss 663.6034671223958\n",
            "Epoch 133\n",
            "kld beta: 1.0\n",
            "train loss 547.9119186662947 recons -512.6863450055804 kld 35.225572771344865\n",
            "validation loss 721.7336676432292\n",
            "Epoch 134\n",
            "kld beta: 1.0\n",
            "train loss 548.7983201729911 recons -512.4558518415179 kld 36.342468549455916\n",
            "validation loss 665.1225374348959\n",
            "Epoch 135\n",
            "kld beta: 1.0\n",
            "train loss 545.7529441964285 recons -510.4698304966518 kld 35.28311476353237\n",
            "validation loss 675.2190520833333\n",
            "Epoch 136\n",
            "kld beta: 1.0\n",
            "train loss 549.6042349330357 recons -514.7509741908482 kld 34.85325962611607\n",
            "validation loss 715.3568089192709\n",
            "Epoch 137\n",
            "kld beta: 1.0\n",
            "train loss 558.1867278180804 recons -521.4487506975446 kld 36.737977826799664\n",
            "validation loss 694.4092659505209\n",
            "Epoch 138\n",
            "kld beta: 1.0\n",
            "train loss 548.9828133370536 recons -512.8220948660714 kld 36.16071914236886\n",
            "validation loss 642.9196481119792\n",
            "Epoch 139\n",
            "kld beta: 1.0\n",
            "train loss 546.2659714006696 recons -510.6794702845982 kld 35.58650255475725\n",
            "validation loss 661.3178001302083\n",
            "Epoch 140\n",
            "kld beta: 1.0\n",
            "train loss 551.296787109375 recons -512.6603560267857 kld 38.63643222481864\n",
            "validation loss 682.5850654296875\n",
            "Epoch 141\n",
            "kld beta: 1.0\n",
            "train loss 547.1337935267857 recons -510.8660765904018 kld 36.26771665736607\n",
            "validation loss 651.5292744140625\n",
            "Epoch 142\n",
            "kld beta: 1.0\n",
            "train loss 547.1765119977679 recons -511.4432416294643 kld 35.73327069963727\n",
            "validation loss 670.0354781901042\n",
            "Epoch 143\n",
            "kld beta: 1.0\n",
            "train loss 544.5620234375 recons -508.73248046875 kld 35.82954238455636\n",
            "validation loss 651.0210393880209\n",
            "Epoch 144\n",
            "kld beta: 1.0\n",
            "train loss 546.9767476283482 recons -510.58209709821426 kld 36.39465101841518\n",
            "validation loss 657.7078990885417\n",
            "Epoch 145\n",
            "kld beta: 1.0\n",
            "train loss 541.2202437220982 recons -506.2025994698661 kld 35.01764382498605\n",
            "validation loss 671.3379182942708\n",
            "Epoch 146\n",
            "kld beta: 1.0\n",
            "train loss 542.7587513950892 recons -507.96688420758926 kld 34.79186678641183\n",
            "validation loss 643.2770130208334\n",
            "Epoch 147\n",
            "kld beta: 1.0\n",
            "train loss 890.189482421875 recons -523.1095185546875 kld 367.079951625279\n",
            "validation loss 674.535908203125\n",
            "Epoch 148\n",
            "kld beta: 1.0\n",
            "train loss 542.6470811941964 recons -507.1037220982143 kld 35.543358511788504\n",
            "validation loss 668.7284775390625\n",
            "Epoch 149\n",
            "kld beta: 1.0\n",
            "train loss 542.3482667410715 recons -507.8772017299107 kld 34.47106543840681\n",
            "validation loss 666.6271852213541\n",
            "Epoch 150\n",
            "kld beta: 1.0\n",
            "train loss 565.1702866908482 recons -521.8160258091518 kld 43.35426146589007\n",
            "validation loss 660.2539752604167\n",
            "Epoch 151\n",
            "kld beta: 1.0\n",
            "train loss 542.4430768694197 recons -505.9450436662946 kld 36.49803405761719\n",
            "validation loss 654.2702805989584\n",
            "Epoch 152\n",
            "kld beta: 1.0\n",
            "train loss 540.6760698939732 recons -505.4751166294643 kld 35.20095322963169\n",
            "validation loss 641.439521484375\n",
            "Epoch 153\n",
            "kld beta: 1.0\n",
            "train loss 537.3116005859375 recons -503.0195609654018 kld 34.29203945486886\n",
            "validation loss 642.5839938151041\n",
            "Epoch 154\n",
            "kld beta: 1.0\n",
            "train loss 539.7818826729911 recons -505.0014891183036 kld 34.78039392089844\n",
            "validation loss 641.225955078125\n",
            "Epoch 155\n",
            "kld beta: 1.0\n",
            "train loss 544.2180770089286 recons -509.7132583705357 kld 34.5048193359375\n",
            "validation loss 642.668025390625\n",
            "Epoch 156\n",
            "kld beta: 1.0\n",
            "train loss 542.4150902622767 recons -507.5014185267857 kld 34.91367299107143\n",
            "validation loss 652.750185546875\n",
            "Epoch 157\n",
            "kld beta: 1.0\n",
            "train loss 535.8048909040178 recons -498.8688500279018 kld 36.936040640694756\n",
            "validation loss 644.1821692708334\n",
            "Epoch 158\n",
            "kld beta: 1.0\n",
            "train loss 830.5553399832589 recons -514.7431953125 kld 315.81214870779854\n",
            "validation loss 652.3090680338541\n",
            "Epoch 159\n",
            "kld beta: 1.0\n",
            "train loss 544.0520182756696 recons -508.7226714564732 kld 35.329349417550226\n",
            "validation loss 653.7476468098959\n",
            "Epoch 160\n",
            "kld beta: 1.0\n",
            "train loss 540.2458383091517 recons -503.8096149553571 kld 36.436223440987725\n",
            "validation loss 646.1681627604166\n",
            "Epoch 161\n",
            "kld beta: 1.0\n",
            "train loss 539.5513226841518 recons -502.4660414341518 kld 37.0852837437221\n",
            "validation loss 672.1708479817709\n",
            "Epoch 162\n",
            "kld beta: 1.0\n",
            "train loss 539.024054827009 recons -502.668544921875 kld 36.35550959995815\n",
            "validation loss 644.6814059244791\n",
            "Epoch 163\n",
            "kld beta: 1.0\n",
            "train loss 542.8183212890625 recons -507.3370542689732 kld 35.48126668875558\n",
            "validation loss 655.6929088541667\n",
            "Epoch 164\n",
            "kld beta: 1.0\n",
            "train loss 535.9486393694197 recons -500.537689453125 kld 35.41094958496094\n",
            "validation loss 657.4217327473958\n",
            "Epoch 165\n",
            "kld beta: 1.0\n",
            "train loss 534.7975267857142 recons -500.2341820591518 kld 34.563345232282366\n",
            "validation loss 649.2811422526041\n",
            "Epoch 166\n",
            "kld beta: 1.0\n",
            "train loss 538.0078526785715 recons -503.2833716517857 kld 34.72448095703125\n",
            "validation loss 651.45064453125\n",
            "Epoch 167\n",
            "kld beta: 1.0\n",
            "train loss 538.8530046037946 recons -503.293822265625 kld 35.55918341936384\n",
            "validation loss 654.2396608072917\n",
            "Epoch 168\n",
            "kld beta: 1.0\n",
            "train loss 537.4645732421875 recons -499.0189086216518 kld 38.445667471749445\n",
            "validation loss 646.623224609375\n",
            "Epoch 169\n",
            "kld beta: 1.0\n",
            "train loss 554.6015239955357 recons -515.8823069196428 kld 38.719216413225446\n",
            "validation loss 648.3325963541666\n",
            "Epoch 170\n",
            "kld beta: 1.0\n",
            "train loss 535.3570954241071 recons -496.66011565290177 kld 38.69697774832589\n",
            "validation loss 651.9219371744791\n",
            "Epoch 171\n",
            "kld beta: 1.0\n",
            "train loss 533.0149829799108 recons -497.19200223214284 kld 35.82298072160993\n",
            "validation loss 635.730453125\n",
            "Epoch 172\n",
            "kld beta: 1.0\n",
            "train loss 528.9501282087053 recons -494.5541820591518 kld 34.39594605364118\n",
            "validation loss 666.8924189453126\n",
            "Epoch 173\n",
            "kld beta: 1.0\n",
            "train loss 551.4482018694197 recons -513.9416810825893 kld 37.506518589564735\n",
            "validation loss 630.3335725911459\n",
            "Epoch 174\n",
            "kld beta: 1.0\n",
            "train loss 554.4099547991071 recons -519.4920700334822 kld 34.91788546316964\n",
            "validation loss 641.6411617838542\n",
            "Epoch 175\n",
            "kld beta: 1.0\n",
            "train loss 11898.73406389509 recons -507.35247865513395 kld 11391.38198967634\n",
            "validation loss 650.523544921875\n",
            "Epoch 176\n",
            "kld beta: 1.0\n",
            "train loss 533.9139527064732 recons -497.00640234375 kld 36.90754884556362\n",
            "validation loss 636.5664140625\n",
            "Epoch 177\n",
            "kld beta: 1.0\n",
            "train loss 536.06193359375 recons -500.0382144252232 kld 36.02371869768415\n",
            "validation loss 632.4227275390625\n",
            "Epoch 178\n",
            "kld beta: 1.0\n",
            "train loss 531.3721487165178 recons -496.6088279854911 kld 34.76332039969308\n",
            "validation loss 639.1554723307291\n",
            "Epoch 179\n",
            "kld beta: 1.0\n",
            "train loss 526.5598671875 recons -491.8027202845982 kld 34.757146981375556\n",
            "validation loss 629.5233675130208\n",
            "Epoch 180\n",
            "kld beta: 1.0\n",
            "train loss 564.2063695591518 recons -516.270255859375 kld 47.93611456298828\n",
            "validation loss 637.3125081380208\n",
            "Epoch 181\n",
            "kld beta: 1.0\n",
            "train loss 524.4286575055803 recons -489.9719408482143 kld 34.45671613420759\n",
            "validation loss 676.0953785807292\n",
            "Epoch 182\n",
            "kld beta: 1.0\n",
            "train loss 528.2829426618304 recons -494.205611328125 kld 34.0773304007394\n",
            "validation loss 655.5692027994792\n",
            "Epoch 183\n",
            "kld beta: 1.0\n",
            "train loss 552.7073713727679 recons -512.9206047712054 kld 39.78676611328125\n",
            "validation loss 637.7710751953125\n",
            "Epoch 184\n",
            "kld beta: 1.0\n",
            "train loss 526.7805041852679 recons -491.0933150111607 kld 35.687188991001676\n",
            "validation loss 630.9775361328125\n",
            "Epoch 185\n",
            "kld beta: 1.0\n"
          ],
          "name": "stdout"
        },
        {
          "output_type": "error",
          "ename": "KeyboardInterrupt",
          "evalue": "ignored",
          "traceback": [
            "\u001b[0;31m---------------------------------------------------------------------------\u001b[0m",
            "\u001b[0;31mKeyboardInterrupt\u001b[0m                         Traceback (most recent call last)",
            "\u001b[0;32m<ipython-input-22-191aabaa8817>\u001b[0m in \u001b[0;36m<module>\u001b[0;34m()\u001b[0m\n\u001b[1;32m     19\u001b[0m         \u001b[0mkld_beta\u001b[0m \u001b[0;34m=\u001b[0m \u001b[0mmin\u001b[0m\u001b[0;34m(\u001b[0m\u001b[0;36m1.0\u001b[0m\u001b[0;34m,\u001b[0m \u001b[0;36m0.1\u001b[0m \u001b[0;34m*\u001b[0m \u001b[0;34m(\u001b[0m\u001b[0mepoch\u001b[0m \u001b[0;34m-\u001b[0m \u001b[0mactivate_kld_after\u001b[0m\u001b[0;34m)\u001b[0m\u001b[0;34m)\u001b[0m\u001b[0;34m\u001b[0m\u001b[0;34m\u001b[0m\u001b[0m\n\u001b[1;32m     20\u001b[0m     \u001b[0mprint\u001b[0m\u001b[0;34m(\u001b[0m\u001b[0;34m'kld beta:'\u001b[0m\u001b[0;34m,\u001b[0m \u001b[0mkld_beta\u001b[0m\u001b[0;34m)\u001b[0m\u001b[0;34m\u001b[0m\u001b[0;34m\u001b[0m\u001b[0m\n\u001b[0;32m---> 21\u001b[0;31m     \u001b[0mtrain_loss\u001b[0m\u001b[0;34m,\u001b[0m \u001b[0mrecons_loss\u001b[0m\u001b[0;34m,\u001b[0m \u001b[0mkld_loss\u001b[0m \u001b[0;34m=\u001b[0m \u001b[0mtrain\u001b[0m\u001b[0;34m(\u001b[0m\u001b[0mvae\u001b[0m\u001b[0;34m,\u001b[0m \u001b[0mtrain_loader\u001b[0m\u001b[0;34m,\u001b[0m \u001b[0moptimizer\u001b[0m\u001b[0;34m,\u001b[0m \u001b[0mzip_loss_function_pyro\u001b[0m\u001b[0;34m,\u001b[0m \u001b[0mkld_beta\u001b[0m\u001b[0;34m)\u001b[0m\u001b[0;34m\u001b[0m\u001b[0;34m\u001b[0m\u001b[0m\n\u001b[0m\u001b[1;32m     22\u001b[0m     \u001b[0mprint\u001b[0m\u001b[0;34m(\u001b[0m\u001b[0;34m'train loss'\u001b[0m\u001b[0;34m,\u001b[0m \u001b[0mtrain_loss\u001b[0m\u001b[0;34m,\u001b[0m \u001b[0;34m'recons'\u001b[0m\u001b[0;34m,\u001b[0m \u001b[0mrecons_loss\u001b[0m\u001b[0;34m,\u001b[0m \u001b[0;34m'kld'\u001b[0m\u001b[0;34m,\u001b[0m \u001b[0mkld_loss\u001b[0m\u001b[0;34m)\u001b[0m\u001b[0;34m\u001b[0m\u001b[0;34m\u001b[0m\u001b[0m\n\u001b[1;32m     23\u001b[0m     \u001b[0;32mif\u001b[0m \u001b[0mtrain_loss\u001b[0m \u001b[0;34m<\u001b[0m \u001b[0;36m1500.\u001b[0m \u001b[0;32mand\u001b[0m \u001b[0mready_to_activate_kld\u001b[0m \u001b[0;34m==\u001b[0m \u001b[0;32mFalse\u001b[0m\u001b[0;34m:\u001b[0m\u001b[0;34m\u001b[0m\u001b[0;34m\u001b[0m\u001b[0m\n",
            "\u001b[0;32m<ipython-input-11-c75338bc9235>\u001b[0m in \u001b[0;36mtrain\u001b[0;34m(model, dataloader, optimizer, loss_function, kld_beta)\u001b[0m\n\u001b[1;32m     20\u001b[0m           \u001b[0mprint\u001b[0m\u001b[0;34m(\u001b[0m\u001b[0;34m'Might want to skip this optimizing step'\u001b[0m\u001b[0;34m)\u001b[0m\u001b[0;34m\u001b[0m\u001b[0;34m\u001b[0m\u001b[0m\n\u001b[1;32m     21\u001b[0m \u001b[0;34m\u001b[0m\u001b[0m\n\u001b[0;32m---> 22\u001b[0;31m         \u001b[0mloss\u001b[0m\u001b[0;34m.\u001b[0m\u001b[0mbackward\u001b[0m\u001b[0;34m(\u001b[0m\u001b[0;34m)\u001b[0m\u001b[0;34m\u001b[0m\u001b[0;34m\u001b[0m\u001b[0m\n\u001b[0m\u001b[1;32m     23\u001b[0m         \u001b[0moptimizer\u001b[0m\u001b[0;34m.\u001b[0m\u001b[0mstep\u001b[0m\u001b[0;34m(\u001b[0m\u001b[0;34m)\u001b[0m\u001b[0;34m\u001b[0m\u001b[0;34m\u001b[0m\u001b[0m\n\u001b[1;32m     24\u001b[0m \u001b[0;34m\u001b[0m\u001b[0m\n",
            "\u001b[0;32m/usr/local/lib/python3.6/dist-packages/torch/tensor.py\u001b[0m in \u001b[0;36mbackward\u001b[0;34m(self, gradient, retain_graph, create_graph)\u001b[0m\n\u001b[1;32m    183\u001b[0m                 \u001b[0mproducts\u001b[0m\u001b[0;34m.\u001b[0m \u001b[0mDefaults\u001b[0m \u001b[0mto\u001b[0m\u001b[0;31m \u001b[0m\u001b[0;31m`\u001b[0m\u001b[0;31m`\u001b[0m\u001b[0;32mFalse\u001b[0m\u001b[0;31m`\u001b[0m\u001b[0;31m`\u001b[0m\u001b[0;34m.\u001b[0m\u001b[0;34m\u001b[0m\u001b[0;34m\u001b[0m\u001b[0m\n\u001b[1;32m    184\u001b[0m         \"\"\"\n\u001b[0;32m--> 185\u001b[0;31m         \u001b[0mtorch\u001b[0m\u001b[0;34m.\u001b[0m\u001b[0mautograd\u001b[0m\u001b[0;34m.\u001b[0m\u001b[0mbackward\u001b[0m\u001b[0;34m(\u001b[0m\u001b[0mself\u001b[0m\u001b[0;34m,\u001b[0m \u001b[0mgradient\u001b[0m\u001b[0;34m,\u001b[0m \u001b[0mretain_graph\u001b[0m\u001b[0;34m,\u001b[0m \u001b[0mcreate_graph\u001b[0m\u001b[0;34m)\u001b[0m\u001b[0;34m\u001b[0m\u001b[0;34m\u001b[0m\u001b[0m\n\u001b[0m\u001b[1;32m    186\u001b[0m \u001b[0;34m\u001b[0m\u001b[0m\n\u001b[1;32m    187\u001b[0m     \u001b[0;32mdef\u001b[0m \u001b[0mregister_hook\u001b[0m\u001b[0;34m(\u001b[0m\u001b[0mself\u001b[0m\u001b[0;34m,\u001b[0m \u001b[0mhook\u001b[0m\u001b[0;34m)\u001b[0m\u001b[0;34m:\u001b[0m\u001b[0;34m\u001b[0m\u001b[0;34m\u001b[0m\u001b[0m\n",
            "\u001b[0;32m/usr/local/lib/python3.6/dist-packages/torch/autograd/__init__.py\u001b[0m in \u001b[0;36mbackward\u001b[0;34m(tensors, grad_tensors, retain_graph, create_graph, grad_variables)\u001b[0m\n\u001b[1;32m    125\u001b[0m     Variable._execution_engine.run_backward(\n\u001b[1;32m    126\u001b[0m         \u001b[0mtensors\u001b[0m\u001b[0;34m,\u001b[0m \u001b[0mgrad_tensors\u001b[0m\u001b[0;34m,\u001b[0m \u001b[0mretain_graph\u001b[0m\u001b[0;34m,\u001b[0m \u001b[0mcreate_graph\u001b[0m\u001b[0;34m,\u001b[0m\u001b[0;34m\u001b[0m\u001b[0;34m\u001b[0m\u001b[0m\n\u001b[0;32m--> 127\u001b[0;31m         allow_unreachable=True)  # allow_unreachable flag\n\u001b[0m\u001b[1;32m    128\u001b[0m \u001b[0;34m\u001b[0m\u001b[0m\n\u001b[1;32m    129\u001b[0m \u001b[0;34m\u001b[0m\u001b[0m\n",
            "\u001b[0;31mKeyboardInterrupt\u001b[0m: "
          ]
        }
      ]
    },
    {
      "cell_type": "code",
      "metadata": {
        "id": "56BJ6eyfnJZi",
        "outputId": "a43130da-2e26-439b-d96c-d23e02305050",
        "colab": {
          "base_uri": "https://localhost:8080/",
          "height": 35
        }
      },
      "source": [
        "test_loss = validate(vae, test_loader, optimizer, zip_loss_function_pyro, kld_beta = 1.0)\n",
        "print('Test loss', test_loss)"
      ],
      "execution_count": 23,
      "outputs": [
        {
          "output_type": "stream",
          "text": [
            "Test loss 655.4706533102849\n"
          ],
          "name": "stdout"
        }
      ]
    },
    {
      "cell_type": "code",
      "metadata": {
        "id": "vxUReD9zsNyu",
        "outputId": "6568d8c4-8354-46c5-907f-7d4b50a498a3",
        "colab": {
          "base_uri": "https://localhost:8080/",
          "height": 225
        }
      },
      "source": [
        "vae"
      ],
      "execution_count": null,
      "outputs": [
        {
          "output_type": "execute_result",
          "data": {
            "text/plain": [
              "ZIP_VAE_FORSOEG2(\n",
              "  (mu_1): Linear(in_features=4000, out_features=512, bias=True)\n",
              "  (mu_2): Linear(in_features=512, out_features=256, bias=True)\n",
              "  (mu_3): Linear(in_features=512, out_features=20, bias=True)\n",
              "  (var_1): Linear(in_features=4000, out_features=512, bias=True)\n",
              "  (var_2): Linear(in_features=512, out_features=256, bias=True)\n",
              "  (var_3): Linear(in_features=512, out_features=20, bias=True)\n",
              "  (dec_1): Linear(in_features=20, out_features=256, bias=True)\n",
              "  (dec_3): Linear(in_features=256, out_features=4000, bias=True)\n",
              "  (dec_dropout_1): Linear(in_features=20, out_features=256, bias=True)\n",
              "  (dec_dropout_3): Linear(in_features=256, out_features=4000, bias=True)\n",
              ")"
            ]
          },
          "metadata": {
            "tags": []
          },
          "execution_count": 36
        }
      ]
    },
    {
      "cell_type": "code",
      "metadata": {
        "id": "hIpMLhJ6j6p_"
      },
      "source": [
        "train_history = np.array(train_history)"
      ],
      "execution_count": null,
      "outputs": []
    },
    {
      "cell_type": "code",
      "metadata": {
        "id": "W8M7zntLkAYw"
      },
      "source": [
        "train_history[165] = train_history[164]"
      ],
      "execution_count": null,
      "outputs": []
    },
    {
      "cell_type": "code",
      "metadata": {
        "id": "eVtP5VI3nJZ4",
        "outputId": "9db0fc38-b471-4c9e-b2ba-a014fbd3ae27",
        "colab": {
          "base_uri": "https://localhost:8080/",
          "height": 295
        }
      },
      "source": [
        "plt.plot(np.arange(2,len(train_history)), train_history[2:], label='train')\n",
        "plt.plot(np.arange(2,len(train_history)), val_history[2:], label='val')\n",
        "plt.axhline(test_loss, c='red', label='test ' + str(int(test_loss)))\n",
        "plt.title('Loss ZIP VAE on IMMUNE')\n",
        "plt.xlabel('Epochs')\n",
        "plt.ylabel('Loss')\n",
        "plt.legend()\n",
        "plt.savefig('/content/gdrive/My Drive/Colab Notebooks/Colab Cell Experiments/plots/zip_vae_forsoeg2_aggressive_a_history.png')"
      ],
      "execution_count": null,
      "outputs": [
        {
          "output_type": "display_data",
          "data": {
            "image/png": "[encoded data removed]",
            "text/plain": [
              "<Figure size 432x288 with 1 Axes>"
            ]
          },
          "metadata": {
            "tags": [],
            "needs_background": "light"
          }
        }
      ]
    },
    {
      "cell_type": "code",
      "metadata": {
        "id": "sLyPtofMgDug"
      },
      "source": [
        "#torch.save(vae, '/content/gdrive/My Drive/Colab Notebooks/Colab Cell Experiments/outputs/zip_vae_forsoeg2_aggresive_a.pkl')"
      ],
      "execution_count": null,
      "outputs": []
    },
    {
      "cell_type": "markdown",
      "metadata": {
        "id": "mO18SAW5nJaB"
      },
      "source": [
        "# Plot it all"
      ]
    },
    {
      "cell_type": "code",
      "metadata": {
        "id": "GSn1mOVFnJaC"
      },
      "source": [
        "X_tensor = torch.tensor(X)"
      ],
      "execution_count": null,
      "outputs": []
    },
    {
      "cell_type": "code",
      "metadata": {
        "id": "mhaD8jP1TSAK",
        "outputId": "0636cc49-0362-40d8-bc04-9c73ee6af739",
        "colab": {
          "base_uri": "https://localhost:8080/",
          "height": 35
        }
      },
      "source": [
        "torch.cuda.is_available()"
      ],
      "execution_count": null,
      "outputs": [
        {
          "output_type": "execute_result",
          "data": {
            "text/plain": [
              "True"
            ]
          },
          "metadata": {
            "tags": []
          },
          "execution_count": 35
        }
      ]
    },
    {
      "cell_type": "code",
      "metadata": {
        "id": "3DCxkA1YU98R"
      },
      "source": [
        "if torch.cuda.is_available():\n",
        "  X_tensor = X_tensor.cuda()"
      ],
      "execution_count": null,
      "outputs": []
    },
    {
      "cell_type": "code",
      "metadata": {
        "id": "PJAgt8mVnJaL"
      },
      "source": [
        "X_encoded = vae.encoder(X_tensor.float())"
      ],
      "execution_count": null,
      "outputs": []
    },
    {
      "cell_type": "code",
      "metadata": {
        "id": "DoOLQ89EnJaT"
      },
      "source": [
        "X_encoded_means = X_encoded[0]"
      ],
      "execution_count": null,
      "outputs": []
    },
    {
      "cell_type": "code",
      "metadata": {
        "id": "ClspdiYtVwry",
        "outputId": "4e904d15-d176-4a4f-a982-5b19165b5756",
        "colab": {
          "base_uri": "https://localhost:8080/",
          "height": 156
        }
      },
      "source": [
        "X_encoded_means.cpu()"
      ],
      "execution_count": null,
      "outputs": [
        {
          "output_type": "execute_result",
          "data": {
            "text/plain": [
              "tensor([[-0.8895,  0.2600,  0.5370,  ...,  1.5225,  1.8514,  0.9220],\n",
              "        [ 0.0519, -1.2115, -0.0133,  ..., -2.4756, -2.0484,  0.8484],\n",
              "        [ 0.5229,  0.2378,  1.3798,  ..., -2.0123, -0.8380,  3.6613],\n",
              "        ...,\n",
              "        [-0.1771, -1.4606, -0.6591,  ..., -0.2644, -1.4738, -1.1531],\n",
              "        [ 0.9850,  0.7420,  0.5417,  ...,  0.4935,  1.3731,  0.0760],\n",
              "        [ 2.2770, -0.1258,  0.4462,  ...,  0.7765, -0.4128,  0.9020]],\n",
              "       grad_fn=<CopyBackwards>)"
            ]
          },
          "metadata": {
            "tags": []
          },
          "execution_count": 39
        }
      ]
    },
    {
      "cell_type": "code",
      "metadata": {
        "id": "rF2GKJgoVzTM",
        "outputId": "d5f6167d-db83-4b13-c07f-c3e11c3a98db",
        "colab": {
          "base_uri": "https://localhost:8080/",
          "height": 156
        }
      },
      "source": [
        "X_encoded_means"
      ],
      "execution_count": null,
      "outputs": [
        {
          "output_type": "execute_result",
          "data": {
            "text/plain": [
              "tensor([[-0.8895,  0.2600,  0.5370,  ...,  1.5225,  1.8514,  0.9220],\n",
              "        [ 0.0519, -1.2115, -0.0133,  ..., -2.4756, -2.0484,  0.8484],\n",
              "        [ 0.5229,  0.2378,  1.3798,  ..., -2.0123, -0.8380,  3.6613],\n",
              "        ...,\n",
              "        [-0.1771, -1.4606, -0.6591,  ..., -0.2644, -1.4738, -1.1531],\n",
              "        [ 0.9850,  0.7420,  0.5417,  ...,  0.4935,  1.3731,  0.0760],\n",
              "        [ 2.2770, -0.1258,  0.4462,  ...,  0.7765, -0.4128,  0.9020]],\n",
              "       device='cuda:0', grad_fn=<AddmmBackward>)"
            ]
          },
          "metadata": {
            "tags": []
          },
          "execution_count": 40
        }
      ]
    },
    {
      "cell_type": "code",
      "metadata": {
        "id": "RBM55rqqnJaX"
      },
      "source": [
        "import umap\n",
        "reducer = umap.UMAP()\n",
        "X_encoded_umap = reducer.fit_transform(X_encoded_means.detach().cpu())"
      ],
      "execution_count": null,
      "outputs": []
    },
    {
      "cell_type": "code",
      "metadata": {
        "id": "pLQSSB54nJac",
        "outputId": "29705ce4-95a1-4fa5-f0bf-7f98c0d57073",
        "colab": {
          "base_uri": "https://localhost:8080/",
          "height": 295
        }
      },
      "source": [
        "plt.title('ZIP VAE + UMAP on IMMUNE')\n",
        "plt.xlabel('Dimension 1')\n",
        "plt.ylabel('Dimension 2')\n",
        "plt.scatter(X_encoded_umap[:,0], X_encoded_umap[:,1])\n",
        "plt.savefig('/content/gdrive/My Drive/Colab Notebooks/Colab Cell Experiments/plots/zip_vae_forsoeg2_aggresive_a_umap.png')"
      ],
      "execution_count": null,
      "outputs": [
        {
          "output_type": "display_data",
          "data": {
            "image/png": "[encoded data removed]",
            "text/plain": [
              "<Figure size 432x288 with 1 Axes>"
            ]
          },
          "metadata": {
            "tags": [],
            "needs_background": "light"
          }
        }
      ]
    },
    {
      "cell_type": "markdown",
      "metadata": {
        "id": "DR_z3qmanJak"
      },
      "source": [
        "## Generate cells"
      ]
    },
    {
      "cell_type": "code",
      "metadata": {
        "id": "wyVdl0QynJak"
      },
      "source": [
        "Z_samples = torch.randn(1000, 20)"
      ],
      "execution_count": null,
      "outputs": []
    },
    {
      "cell_type": "code",
      "metadata": {
        "id": "5rH0uTdWnJaq"
      },
      "source": [
        "Z_samples_umap_transformed = reducer.transform(Z_samples)"
      ],
      "execution_count": null,
      "outputs": []
    },
    {
      "cell_type": "code",
      "metadata": {
        "id": "v3S_G7JknJav"
      },
      "source": [
        "absolute_zero = torch.zeros(1, 20)"
      ],
      "execution_count": null,
      "outputs": []
    },
    {
      "cell_type": "code",
      "metadata": {
        "id": "b9RkgGV6nJa1",
        "outputId": "0892782f-adc2-4556-dd72-f7f04f771e7c"
      },
      "source": [
        "plt.scatter(X_encoded_umap[:,0], X_encoded_umap[:,1])\n",
        "plt.scatter(Z_samples_umap_transformed[:,0], Z_samples_umap_transformed[:,1])\n",
        "plt.scatter(absolute_zero[:,0], absolute_zero[:,1], c='red')"
      ],
      "execution_count": null,
      "outputs": [
        {
          "output_type": "execute_result",
          "data": {
            "text/plain": [
              "<matplotlib.collections.PathCollection at 0x13f8630a0>"
            ]
          },
          "metadata": {
            "tags": []
          },
          "execution_count": 115
        },
        {
          "output_type": "display_data",
          "data": {
            "image/png": "[encoded data removed]",
            "text/plain": [
              "<Figure size 432x288 with 1 Axes>"
            ]
          },
          "metadata": {
            "tags": [],
            "needs_background": "light"
          }
        }
      ]
    },
    {
      "cell_type": "code",
      "metadata": {
        "id": "G3GCrWqDnJa6"
      },
      "source": [
        "generated_decoded = None\n",
        "with torch.no_grad():\n",
        "    generated_decoded = vae.decoder(Z_samples)"
      ],
      "execution_count": null,
      "outputs": []
    },
    {
      "cell_type": "code",
      "metadata": {
        "id": "wd4958NgnJa_",
        "outputId": "fd75176a-c668-461b-9f2b-ac32aee20242"
      },
      "source": [
        "generated_decoded.shape"
      ],
      "execution_count": null,
      "outputs": [
        {
          "output_type": "execute_result",
          "data": {
            "text/plain": [
              "torch.Size([1000, 4000])"
            ]
          },
          "metadata": {
            "tags": []
          },
          "execution_count": 72
        }
      ]
    },
    {
      "cell_type": "code",
      "metadata": {
        "id": "A7GpRdSHnJbD"
      },
      "source": [
        ""
      ],
      "execution_count": null,
      "outputs": []
    }
  ]
}