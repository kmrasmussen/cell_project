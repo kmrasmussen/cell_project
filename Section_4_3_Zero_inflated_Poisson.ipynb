{
  "nbformat": 4,
  "nbformat_minor": 0,
  "metadata": {
    "kernelspec": {
      "display_name": "Python 3",
      "language": "python",
      "name": "python3"
    },
    "language_info": {
      "codemirror_mode": {
        "name": "ipython",
        "version": 3
      },
      "file_extension": ".py",
      "mimetype": "text/x-python",
      "name": "python",
      "nbconvert_exporter": "python",
      "pygments_lexer": "ipython3",
      "version": "3.8.5"
    },
    "colab": {
      "name": "Section 4.3 - Zero-inflated Poisson.ipynb",
      "provenance": [],
      "collapsed_sections": [],
      "include_colab_link": true
    },
    "accelerator": "GPU"
  },
  "cells": [
    {
      "cell_type": "markdown",
      "metadata": {
        "id": "view-in-github",
        "colab_type": "text"
      },
      "source": [
        "<a href=\"https://colab.research.google.com/github/kmrasmussen/cell_project/blob/main/Section_4_3_Zero_inflated_Poisson.ipynb\" target=\"_parent\"><img src=\"https://colab.research.google.com/assets/colab-badge.svg\" alt=\"Open In Colab\"/></a>"
      ]
    },
    {
      "cell_type": "markdown",
      "metadata": {
        "id": "buzretRVnJYV"
      },
      "source": [
        "# ZIP\n",
        "\n",
        "Standard vanilla VAE but with zero-inflated Poisson likelihood"
      ]
    },
    {
      "cell_type": "code",
      "metadata": {
        "id": "OnG9WdZ3d9yX",
        "outputId": "82509ac3-8763-46d9-ebec-c31c02bb9557",
        "colab": {
          "base_uri": "https://localhost:8080/",
          "height": 245
        }
      },
      "source": [
        "!pip install pyro-ppl"
      ],
      "execution_count": null,
      "outputs": [
        {
          "output_type": "stream",
          "text": [
            "Collecting pyro-ppl\n",
            "\u001b[?25l  Downloading https://files.pythonhosted.org/packages/f9/85/c294ab8062bef14aac4f87770f22a0b7a5cd9204d0777c6eb37fa4b9320d/pyro_ppl-1.4.0-py3-none-any.whl (573kB)\n",
            "\r\u001b[K     |▋                               | 10kB 19.0MB/s eta 0:00:01\r\u001b[K     |█▏                              | 20kB 3.2MB/s eta 0:00:01\r\u001b[K     |█▊                              | 30kB 4.2MB/s eta 0:00:01\r\u001b[K     |██▎                             | 40kB 4.5MB/s eta 0:00:01\r\u001b[K     |██▉                             | 51kB 3.7MB/s eta 0:00:01\r\u001b[K     |███▍                            | 61kB 4.0MB/s eta 0:00:01\r\u001b[K     |████                            | 71kB 4.5MB/s eta 0:00:01\r\u001b[K     |████▋                           | 81kB 4.7MB/s eta 0:00:01\r\u001b[K     |█████▏                          | 92kB 5.0MB/s eta 0:00:01\r\u001b[K     |█████▊                          | 102kB 4.9MB/s eta 0:00:01\r\u001b[K     |██████▎                         | 112kB 4.9MB/s eta 0:00:01\r\u001b[K     |██████▉                         | 122kB 4.9MB/s eta 0:00:01\r\u001b[K     |███████▍                        | 133kB 4.9MB/s eta 0:00:01\r\u001b[K     |████████                        | 143kB 4.9MB/s eta 0:00:01\r\u001b[K     |████████▋                       | 153kB 4.9MB/s eta 0:00:01\r\u001b[K     |█████████▏                      | 163kB 4.9MB/s eta 0:00:01\r\u001b[K     |█████████▊                      | 174kB 4.9MB/s eta 0:00:01\r\u001b[K     |██████████▎                     | 184kB 4.9MB/s eta 0:00:01\r\u001b[K     |██████████▉                     | 194kB 4.9MB/s eta 0:00:01\r\u001b[K     |███████████▍                    | 204kB 4.9MB/s eta 0:00:01\r\u001b[K     |████████████                    | 215kB 4.9MB/s eta 0:00:01\r\u001b[K     |████████████▋                   | 225kB 4.9MB/s eta 0:00:01\r\u001b[K     |█████████████▏                  | 235kB 4.9MB/s eta 0:00:01\r\u001b[K     |█████████████▊                  | 245kB 4.9MB/s eta 0:00:01\r\u001b[K     |██████████████▎                 | 256kB 4.9MB/s eta 0:00:01\r\u001b[K     |██████████████▉                 | 266kB 4.9MB/s eta 0:00:01\r\u001b[K     |███████████████▍                | 276kB 4.9MB/s eta 0:00:01\r\u001b[K     |████████████████                | 286kB 4.9MB/s eta 0:00:01\r\u001b[K     |████████████████▋               | 296kB 4.9MB/s eta 0:00:01\r\u001b[K     |█████████████████▏              | 307kB 4.9MB/s eta 0:00:01\r\u001b[K     |█████████████████▊              | 317kB 4.9MB/s eta 0:00:01\r\u001b[K     |██████████████████▎             | 327kB 4.9MB/s eta 0:00:01\r\u001b[K     |██████████████████▉             | 337kB 4.9MB/s eta 0:00:01\r\u001b[K     |███████████████████▍            | 348kB 4.9MB/s eta 0:00:01\r\u001b[K     |████████████████████            | 358kB 4.9MB/s eta 0:00:01\r\u001b[K     |████████████████████▋           | 368kB 4.9MB/s eta 0:00:01\r\u001b[K     |█████████████████████▏          | 378kB 4.9MB/s eta 0:00:01\r\u001b[K     |█████████████████████▊          | 389kB 4.9MB/s eta 0:00:01\r\u001b[K     |██████████████████████▎         | 399kB 4.9MB/s eta 0:00:01\r\u001b[K     |██████████████████████▉         | 409kB 4.9MB/s eta 0:00:01\r\u001b[K     |███████████████████████▍        | 419kB 4.9MB/s eta 0:00:01\r\u001b[K     |████████████████████████        | 430kB 4.9MB/s eta 0:00:01\r\u001b[K     |████████████████████████▋       | 440kB 4.9MB/s eta 0:00:01\r\u001b[K     |█████████████████████████▏      | 450kB 4.9MB/s eta 0:00:01\r\u001b[K     |█████████████████████████▊      | 460kB 4.9MB/s eta 0:00:01\r\u001b[K     |██████████████████████████▎     | 471kB 4.9MB/s eta 0:00:01\r\u001b[K     |██████████████████████████▉     | 481kB 4.9MB/s eta 0:00:01\r\u001b[K     |███████████████████████████▍    | 491kB 4.9MB/s eta 0:00:01\r\u001b[K     |████████████████████████████    | 501kB 4.9MB/s eta 0:00:01\r\u001b[K     |████████████████████████████▋   | 512kB 4.9MB/s eta 0:00:01\r\u001b[K     |█████████████████████████████▏  | 522kB 4.9MB/s eta 0:00:01\r\u001b[K     |█████████████████████████████▊  | 532kB 4.9MB/s eta 0:00:01\r\u001b[K     |██████████████████████████████▎ | 542kB 4.9MB/s eta 0:00:01\r\u001b[K     |██████████████████████████████▉ | 552kB 4.9MB/s eta 0:00:01\r\u001b[K     |███████████████████████████████▍| 563kB 4.9MB/s eta 0:00:01\r\u001b[K     |████████████████████████████████| 573kB 4.9MB/s \n",
            "\u001b[?25hRequirement already satisfied: opt-einsum>=2.3.2 in /usr/local/lib/python3.6/dist-packages (from pyro-ppl) (3.3.0)\n",
            "Collecting pyro-api>=0.1.1\n",
            "  Downloading https://files.pythonhosted.org/packages/fc/81/957ae78e6398460a7230b0eb9b8f1cb954c5e913e868e48d89324c68cec7/pyro_api-0.1.2-py3-none-any.whl\n",
            "Requirement already satisfied: numpy>=1.7 in /usr/local/lib/python3.6/dist-packages (from pyro-ppl) (1.18.5)\n",
            "Requirement already satisfied: torch>=1.5.0 in /usr/local/lib/python3.6/dist-packages (from pyro-ppl) (1.6.0+cu101)\n",
            "Requirement already satisfied: tqdm>=4.36 in /usr/local/lib/python3.6/dist-packages (from pyro-ppl) (4.41.1)\n",
            "Requirement already satisfied: future in /usr/local/lib/python3.6/dist-packages (from torch>=1.5.0->pyro-ppl) (0.16.0)\n",
            "Installing collected packages: pyro-api, pyro-ppl\n",
            "Successfully installed pyro-api-0.1.2 pyro-ppl-1.4.0\n"
          ],
          "name": "stdout"
        }
      ]
    },
    {
      "cell_type": "code",
      "metadata": {
        "id": "KUe0SSgYnJYW"
      },
      "source": [
        "import torch\n",
        "import torch.nn as nn\n",
        "import torch.nn.functional as F\n",
        "from torch.utils.data import DataLoader, Dataset\n",
        "import numpy as np\n",
        "import torch.optim as optim\n",
        "import matplotlib.pyplot as plt\n",
        "from sklearn.manifold import TSNE\n",
        "import pyro"
      ],
      "execution_count": null,
      "outputs": []
    },
    {
      "cell_type": "code",
      "metadata": {
        "id": "Tf1QWZkNnf00",
        "outputId": "66b34568-dc9d-42a5-b6b6-ab5a79b8b744",
        "colab": {
          "base_uri": "https://localhost:8080/",
          "height": 35
        }
      },
      "source": [
        "from google.colab import drive\n",
        "drive.mount('/content/gdrive')"
      ],
      "execution_count": null,
      "outputs": [
        {
          "output_type": "stream",
          "text": [
            "Mounted at /content/gdrive\n"
          ],
          "name": "stdout"
        }
      ]
    },
    {
      "cell_type": "code",
      "metadata": {
        "id": "U43uktD5n3TG"
      },
      "source": [
        "class CellDataset(Dataset):\n",
        "  def __init__(self, numpy_matrix, batch_labels):\n",
        "    self.X = torch.from_numpy(numpy_matrix)\n",
        "    self.n_genes = self.X.shape[1]\n",
        "    self.batch_labels = batch_labels.reshape(-1).astype(np.float32)\n",
        "    self.batch_label_max = int(np.max(self.batch_labels))\n",
        "\n",
        "    # Library sizes for each cell, mean and variance across cells\n",
        "    self.cell_log_library_sizes = torch.sum(self.X, dim = 1)\n",
        "    self.log_library_sizes_mean = self.cell_log_library_sizes.mean().item()\n",
        "    self.log_library_sizes_var = self.cell_log_library_sizes.var().item()\n",
        "    print('Library sizes mean', self.log_library_sizes_mean, 'var', self.log_library_sizes_var)\n",
        "    \n",
        "  def __len__(self):\n",
        "    return self.X.shape[0]\n",
        "\n",
        "  def __getitem__(self, idx):\n",
        "    return {'x': self.X[idx], 'library_size': self.cell_log_library_sizes[idx], 'batch_number': self.batch_labels[idx]}"
      ],
      "execution_count": null,
      "outputs": []
    },
    {
      "cell_type": "code",
      "metadata": {
        "id": "ZkIiolUfnJYg"
      },
      "source": [
        "X = np.load('/content/gdrive/My Drive/uni_archive/cell/immune_control_subsampled_alone.npy')\n",
        "y = np.zeros(X.shape[0])"
      ],
      "execution_count": null,
      "outputs": []
    },
    {
      "cell_type": "code",
      "metadata": {
        "id": "oHu2Aid1nJYx",
        "outputId": "c17be1fb-a8eb-456b-e499-637f85e003db",
        "colab": {
          "base_uri": "https://localhost:8080/",
          "height": 35
        }
      },
      "source": [
        "dataset = CellDataset(X, y)\n",
        "minibatch_size = 32\n",
        "train_set, val_set, test_set = torch.utils.data.random_split(dataset, [7000, 3000, 3019])\n",
        "train_loader = DataLoader(train_set, batch_size=minibatch_size, shuffle=True)\n",
        "val_loader = DataLoader(val_set, batch_size=minibatch_size, shuffle=True)\n",
        "test_loader = DataLoader(test_set, batch_size=minibatch_size, shuffle=True)"
      ],
      "execution_count": null,
      "outputs": [
        {
          "output_type": "stream",
          "text": [
            "Library sizes mean 545.81494140625 var 369664.1875\n"
          ],
          "name": "stdout"
        }
      ]
    },
    {
      "cell_type": "code",
      "metadata": {
        "id": "bPm4rZHjP-I8",
        "outputId": "9ccdebff-8eb9-4a83-ee3a-85c9062ee68c",
        "colab": {
          "base_uri": "https://localhost:8080/",
          "height": 35
        }
      },
      "source": [
        "torch.cuda.is_available()"
      ],
      "execution_count": null,
      "outputs": [
        {
          "output_type": "execute_result",
          "data": {
            "text/plain": [
              "True"
            ]
          },
          "metadata": {
            "tags": []
          },
          "execution_count": 7
        }
      ]
    },
    {
      "cell_type": "code",
      "metadata": {
        "id": "IUlTBKHtnJY8"
      },
      "source": [
        "class ZIP_VAE_FORSOEG2(nn.Module):\n",
        "    def __init__(self, x_dim, h_dim1, h_dim2, z_dim):\n",
        "        super().__init__()\n",
        "        \n",
        "        # encoder part\n",
        "        self.mu_1 = nn.Linear(x_dim, h_dim1)\n",
        "        torch.nn.init.xavier_uniform_(self.mu_1.weight)\n",
        "        self.mu_2 = nn.Linear(h_dim1, h_dim2)\n",
        "        torch.nn.init.xavier_uniform_(self.mu_2.weight)\n",
        "        self.mu_3 = nn.Linear(h_dim1, z_dim)\n",
        "        torch.nn.init.xavier_uniform_(self.mu_3.weight)\n",
        "\n",
        "        self.var_1 = nn.Linear(x_dim, h_dim1)\n",
        "        torch.nn.init.xavier_uniform_(self.var_1.weight)\n",
        "        self.var_2 = nn.Linear(h_dim1, h_dim2)\n",
        "        torch.nn.init.xavier_uniform_(self.var_2.weight)\n",
        "        self.var_3 = nn.Linear(h_dim1, z_dim)\n",
        "        torch.nn.init.xavier_uniform_(self.var_3.weight)\n",
        "\n",
        "        # decoder part\n",
        "        self.dec_1 = nn.Linear(z_dim, h_dim2)\n",
        "        #self.dec_2 = nn.Linear(h_dim2, h_dim1)\n",
        "        self.dec_3 = nn.Linear(h_dim2, x_dim)\n",
        "\n",
        "        self.dec_dropout_1 = nn.Linear(z_dim, h_dim2)\n",
        "        #self.dec_2 = nn.Linear(h_dim2, h_dim1)\n",
        "        self.dec_dropout_3 = nn.Linear(h_dim2, x_dim)\n",
        "        \n",
        "    def encoder(self, x):\n",
        "        mu = F.relu(self.mu_1(x))\n",
        "        #mu = F.relu(self.mu_2(mu))\n",
        "        mu = self.mu_3(mu)\n",
        "\n",
        "        log_var = F.relu(self.var_1(x))\n",
        "        #log_var = F.relu(self.var_2(log_var))\n",
        "        log_var = self.var_3(log_var)\n",
        "        return mu, log_var # mu, log_var\n",
        "    \n",
        "    def sampling(self, mu, log_var):\n",
        "        std = torch.exp(0.5*log_var)\n",
        "        eps = torch.randn_like(std)\n",
        "        return eps.mul(std).add_(mu) # return z sample\n",
        "        \n",
        "    def decoder(self, z):\n",
        "        h = F.relu(self.dec_1(z))\n",
        "        #h = F.relu(self.dec_2(h))\n",
        "        h = self.dec_3(h)\n",
        "        #h = F.sigmoid(h)\n",
        "\n",
        "        dropout = F.relu(self.dec_dropout_1(z))\n",
        "        dropout = self.dec_dropout_3(dropout)\n",
        "        return h, dropout\n",
        "    \n",
        "    def forward(self, x):\n",
        "        mu, log_var = self.encoder(x)\n",
        "        z = self.sampling(mu, log_var)\n",
        "        log_lambdas, dropout = self.decoder(z)\n",
        "        return log_lambdas, dropout, mu, log_var"
      ],
      "execution_count": null,
      "outputs": []
    },
    {
      "cell_type": "code",
      "metadata": {
        "id": "IXFjmTUwnJZB"
      },
      "source": [
        "def train(model, dataloader, optimizer, loss_function, kld_beta):\n",
        "    model.train()\n",
        "    \n",
        "    total_train_loss = 0.\n",
        "    running_loss = 0.\n",
        "    running_recons_loss = 0.\n",
        "    running_kld_loss = 0.\n",
        "    for batch_idx, data in enumerate(dataloader):\n",
        "            \n",
        "        optimizer.zero_grad()\n",
        "\n",
        "        x = data['x']\n",
        "        if torch.cuda.is_available():\n",
        "          x = x.cuda()\n",
        "        log_lambdas, dropout, mu, log_var = model(x)\n",
        "        loss, recons_loss, kld_loss = loss_function(log_lambdas, dropout, mu, log_var, x, kld_beta)\n",
        "        #print('loss', loss)\n",
        "\n",
        "        if loss > 1e10:\n",
        "          print('Might want to skip this optimizing step')\n",
        "\n",
        "        loss.backward()\n",
        "        optimizer.step()\n",
        "\n",
        "        total_train_loss += loss.item()\n",
        "        running_loss += loss.item()\n",
        "        running_recons_loss += recons_loss.item()\n",
        "        running_kld_loss += kld_loss.item()\n",
        "        #if batch_idx % 100 == 99:\n",
        "        #    print('Running loss', np.round(running_loss / (100. * minibatch_size)))\n",
        "        #    running_loss = 0.\n",
        "    return total_train_loss / len(dataloader.dataset), running_recons_loss / len(dataloader.dataset), running_kld_loss / len(dataloader.dataset)"
      ],
      "execution_count": null,
      "outputs": []
    },
    {
      "cell_type": "code",
      "metadata": {
        "id": "0W4RayVDnJZH"
      },
      "source": [
        "def validate(model, dataloader, optimizer, loss_function, kld_beta):\n",
        "    model.eval()\n",
        "    \n",
        "    total_val_loss = 0.\n",
        "    running_loss = 0.\n",
        "    with torch.no_grad():\n",
        "        for batch_idx, data in enumerate(dataloader):\n",
        "\n",
        "            x = data['x']\n",
        "            if torch.cuda.is_available():\n",
        "              x = x.cuda()\n",
        "            log_lambdas, dropout, mu, log_var = model(x)\n",
        "            loss, recons_loss, kld_loss = loss_function(log_lambdas, dropout, mu, log_var, x, kld_beta)\n",
        "            \n",
        "            total_val_loss += loss.item()\n",
        "            running_loss += loss.item()\n",
        "            #if batch_idx % 100 == 99:\n",
        "            #    print('Running loss', np.round(running_loss / (100. * minibatch_size)))\n",
        "            #    running_loss = 0.\n",
        "    return total_val_loss / len(dataloader.dataset)"
      ],
      "execution_count": null,
      "outputs": []
    },
    {
      "cell_type": "code",
      "metadata": {
        "id": "Ekru9D9NnJZU"
      },
      "source": [
        "def poisson_loss_function_pyro(recons_x, mu, log_var, x, kld_beta):\n",
        "    log_lambdas = recons_x\n",
        "    log_lambdas = torch.clamp(input = log_lambdas, min=-9, max = 9.)\n",
        "    lambdas = torch.exp(log_lambdas) #+ 1.\n",
        "    poisson_dist = pyro.distributions.Poisson(lambdas) #.to_event(1)\n",
        "    KLD = -0.5 * torch.sum(1 + log_var - mu.pow(2) - log_var.exp())\n",
        "    log_probs = poisson_dist.log_prob(x)\n",
        "    poisson_likelihood = log_probs.sum()\n",
        "    elbo = None\n",
        "    if kld_beta == 0.:\n",
        "        elbo = poisson_likelihood\n",
        "    else:\n",
        "        elbo = poisson_likelihood - kld_beta * KLD\n",
        "    loss = -elbo\n",
        "    if torch.isnan(loss) or torch.isinf(loss):\n",
        "        print('log lambdas', log_lambdas, torch.isnan(log_lambdas).sum())\n",
        "        print('lambdas', lambdas, torch.isnan(log_lambdas).sum())\n",
        "        print('log probs', log_probs, torch.isnan(log_lambdas).sum())\n",
        "        raise Exception('NaN loss')\n",
        "    return loss"
      ],
      "execution_count": null,
      "outputs": []
    },
    {
      "cell_type": "code",
      "metadata": {
        "id": "mins_Rovnl9u"
      },
      "source": [
        "def zip_loss_function_pyro(log_lambdas, dropout, mu, log_var, x, kld_beta):\n",
        "    log_lambdas = torch.clamp(input = log_lambdas, min=-9., max = 9.)\n",
        "    dropout = torch.clamp(input = dropout, min=-10., max = 9.)\n",
        "    lambdas = torch.exp(log_lambdas) #+ 1.\n",
        "    dropout = torch.sigmoid(dropout)\n",
        "    poisson_dist = pyro.distributions.zero_inflated.ZeroInflatedPoisson(dropout, lambdas) #pyro.distributions.Poisson(lambdas) #.to_event(1)\n",
        "    KLD = -0.5 * torch.sum(1 + log_var - mu.pow(2) - log_var.exp())\n",
        "    log_probs = poisson_dist.log_prob(x)\n",
        "    poisson_likelihood = log_probs.sum()\n",
        "    elbo = None\n",
        "    if kld_beta == 0.:\n",
        "        elbo = poisson_likelihood\n",
        "    else:\n",
        "        elbo = poisson_likelihood - kld_beta * KLD\n",
        "    loss = -elbo\n",
        "    if torch.isnan(loss) or torch.isinf(loss):\n",
        "        print('log lambdas', log_lambdas, torch.isnan(log_lambdas).sum())\n",
        "        print('lambdas', lambdas, torch.isnan(log_lambdas).sum())\n",
        "        print('log probs', log_probs, torch.isnan(log_lambdas).sum())\n",
        "        raise Exception('NaN loss')\n",
        "    return loss, poisson_likelihood, kld_beta * KLD"
      ],
      "execution_count": null,
      "outputs": []
    },
    {
      "cell_type": "code",
      "metadata": {
        "id": "rv_ihNUhnJZZ",
        "outputId": "bd3ab87a-eba2-400a-f2fa-ddcd47f344a4",
        "colab": {
          "base_uri": "https://localhost:8080/",
          "height": 1000
        }
      },
      "source": [
        "# build model\n",
        "vae = ZIP_VAE_FORSOEG2(x_dim=dataset.n_genes, h_dim1= 512, h_dim2=256, z_dim=20)\n",
        "if torch.cuda.is_available():\n",
        "    vae.cuda()\n",
        "optimizer = optim.Adam(vae.parameters(), lr=0.00001)\n",
        "\n",
        "n_epochs = 500\n",
        "train_history = []\n",
        "kld_history = []\n",
        "recons_history = []\n",
        "val_history = []\n",
        "ready_to_activate_kld = False\n",
        "activate_kld_after = 10\n",
        "ready_to_activate_aggresive = False\n",
        "for epoch in range(n_epochs):\n",
        "    print('Epoch', epoch)\n",
        "    kld_beta = 0.\n",
        "    if ready_to_activate_kld:\n",
        "        kld_beta = min(1.0, 0.1 * (epoch - activate_kld_after))\n",
        "    print('kld beta:', kld_beta)\n",
        "    train_loss, recons_loss, kld_loss = train(vae, train_loader, optimizer, zip_loss_function_pyro, kld_beta)\n",
        "    print('train loss', train_loss, 'recons', recons_loss, 'kld', kld_loss)\n",
        "    if train_loss < 1500. and ready_to_activate_kld == False:\n",
        "      activate_kld_after = epoch\n",
        "      #print('Ready for kld')\n",
        "      ready_to_activate_kld = True\n",
        "    if train_loss < 1000. and ready_to_activate_aggresive == False:\n",
        "      ready_to_activate_aggresive = True\n",
        "      print('Increasing learning rate')\n",
        "      for param_group in optimizer.param_groups:\n",
        "        param_group['lr'] = 0.0001\n",
        "    val_loss = validate(vae, val_loader, optimizer, zip_loss_function_pyro, kld_beta)\n",
        "    print('validation loss', val_loss)\n",
        "    train_history.append(train_loss)\n",
        "    val_history.append(val_loss)"
      ],
      "execution_count": null,
      "outputs": [
        {
          "output_type": "stream",
          "text": [
            "Epoch 0\n",
            "kld beta: 0.0\n",
            "train loss 40214.10885379464 recons -40214.10885379464 kld nan\n",
            "validation loss 6424.052330729167\n",
            "Epoch 1\n",
            "kld beta: 0.0\n",
            "train loss 6152.296083705357 recons -6152.296083705357 kld nan\n",
            "validation loss 5271.3016015625\n",
            "Epoch 2\n",
            "kld beta: 0.0\n",
            "train loss 5234.671559709822 recons -5234.671559709822 kld nan\n",
            "validation loss 4079.3010416666666\n",
            "Epoch 3\n",
            "kld beta: 0.0\n",
            "train loss 4460.103142299107 recons -4460.103142299107 kld nan\n",
            "validation loss 3882.20523046875\n",
            "Epoch 4\n",
            "kld beta: 0.0\n",
            "train loss 4035.1161149553573 recons -4035.1161149553573 kld nan\n",
            "validation loss 3499.2599375\n",
            "Epoch 5\n",
            "kld beta: 0.0\n",
            "train loss 3871.894921875 recons -3871.894921875 kld nan\n",
            "validation loss 3415.8796575520832\n",
            "Epoch 6\n",
            "kld beta: 0.0\n",
            "train loss 3668.5162310267856 recons -3668.5162310267856 kld nan\n",
            "validation loss 3272.8817994791666\n",
            "Epoch 7\n",
            "kld beta: 0.0\n",
            "train loss 3558.487920200893 recons -3558.487920200893 kld nan\n",
            "validation loss 3064.0797239583335\n",
            "Epoch 8\n",
            "kld beta: 0.0\n",
            "train loss 3427.0477843191966 recons -3427.0477843191966 kld nan\n",
            "validation loss 2796.4193229166667\n",
            "Epoch 9\n",
            "kld beta: 0.0\n",
            "train loss 3345.4087014508927 recons -3345.4087014508927 kld nan\n",
            "validation loss 2845.6781139322916\n",
            "Epoch 10\n",
            "kld beta: 0.0\n",
            "train loss 3290.440041015625 recons -3290.440041015625 kld nan\n",
            "validation loss 2756.7482350260416\n",
            "Epoch 11\n",
            "kld beta: 0.0\n",
            "train loss 3282.5327313058037 recons -3282.5327313058037 kld nan\n",
            "validation loss 2821.4944713541668\n",
            "Epoch 12\n",
            "kld beta: 0.0\n",
            "train loss 3257.173209263393 recons -3257.173209263393 kld nan\n",
            "validation loss 2967.3620266927082\n",
            "Epoch 13\n",
            "kld beta: 0.0\n",
            "train loss 3228.9610217633926 recons -3228.9610217633926 kld nan\n",
            "validation loss 2598.1379173177083\n",
            "Epoch 14\n",
            "kld beta: 0.0\n",
            "train loss 3194.4024461495537 recons -3194.4024461495537 kld nan\n",
            "validation loss 2664.58065625\n",
            "Epoch 15\n",
            "kld beta: 0.0\n",
            "train loss 3182.89212890625 recons -3182.89212890625 kld nan\n",
            "validation loss 2705.66339453125\n",
            "Epoch 16\n",
            "kld beta: 0.0\n",
            "train loss 3188.455461495536 recons -3188.455461495536 kld nan\n",
            "validation loss 2666.0914388020833\n",
            "Epoch 17\n",
            "kld beta: 0.0\n",
            "train loss 3162.200064732143 recons -3162.200064732143 kld nan\n",
            "validation loss 2716.846343098958\n",
            "Epoch 18\n",
            "kld beta: 0.0\n",
            "train loss 3188.336978236607 recons -3188.336978236607 kld nan\n",
            "validation loss 2645.9815162760415\n",
            "Epoch 19\n",
            "kld beta: 0.0\n",
            "train loss 3093.985179408482 recons -3093.985179408482 kld nan\n",
            "validation loss 2556.366517578125\n",
            "Epoch 20\n",
            "kld beta: 0.0\n",
            "train loss 3166.8246768973213 recons -3166.8246768973213 kld nan\n",
            "validation loss 2676.917576171875\n",
            "Epoch 21\n",
            "kld beta: 0.0\n",
            "train loss 3114.8144296875 recons -3114.8144296875 kld nan\n",
            "validation loss 2612.4293951822915\n",
            "Epoch 22\n",
            "kld beta: 0.0\n",
            "train loss 3144.3888178013394 recons -3144.3888178013394 kld nan\n",
            "validation loss 2625.3329140625\n",
            "Epoch 23\n",
            "kld beta: 0.0\n",
            "train loss 3119.0271887555805 recons -3119.0271887555805 kld nan\n",
            "validation loss 2662.4461412760415\n",
            "Epoch 24\n",
            "kld beta: 0.0\n",
            "train loss 3144.3832991071426 recons -3144.3832991071426 kld nan\n",
            "validation loss 2625.971435546875\n",
            "Epoch 25\n",
            "kld beta: 0.0\n",
            "train loss 3094.667333426339 recons -3094.667333426339 kld nan\n",
            "validation loss 2643.4422890625\n",
            "Epoch 26\n",
            "kld beta: 0.0\n",
            "train loss 3050.3120103236606 recons -3050.3120103236606 kld nan\n",
            "validation loss 2569.0864733072917\n",
            "Epoch 27\n",
            "kld beta: 0.0\n",
            "train loss 3094.7991904296873 recons -3094.7991904296873 kld nan\n",
            "validation loss 2663.96022265625\n",
            "Epoch 28\n",
            "kld beta: 0.0\n",
            "train loss 3099.9990145089287 recons -3099.9990145089287 kld nan\n",
            "validation loss 2523.6228802083333\n",
            "Epoch 29\n",
            "kld beta: 0.0\n",
            "train loss 3040.703225167411 recons -3040.703225167411 kld nan\n",
            "validation loss 2631.4394505208334\n",
            "Epoch 30\n",
            "kld beta: 0.0\n",
            "train loss 3062.7573487723216 recons -3062.7573487723216 kld nan\n",
            "validation loss 2513.414236328125\n",
            "Epoch 31\n",
            "kld beta: 0.0\n",
            "train loss 3038.6520421316964 recons -3038.6520421316964 kld nan\n",
            "validation loss 2574.15389453125\n",
            "Epoch 32\n",
            "kld beta: 0.0\n",
            "train loss 3030.6148256138395 recons -3030.6148256138395 kld nan\n",
            "validation loss 2565.142036783854\n",
            "Epoch 33\n",
            "kld beta: 0.0\n",
            "train loss 3007.2609958147323 recons -3007.2609958147323 kld nan\n",
            "validation loss 2497.9341822916667\n",
            "Epoch 34\n",
            "kld beta: 0.0\n",
            "train loss 3023.3229261997767 recons -3023.3229261997767 kld nan\n",
            "validation loss 2520.188998046875\n",
            "Epoch 35\n",
            "kld beta: 0.0\n",
            "train loss 2995.357948939732 recons -2995.357948939732 kld nan\n",
            "validation loss 2555.2110149739583\n",
            "Epoch 36\n",
            "kld beta: 0.0\n",
            "train loss 2933.4490784040177 recons -2933.4490784040177 kld nan\n",
            "validation loss 2517.817586588542\n",
            "Epoch 37\n",
            "kld beta: 0.0\n",
            "train loss 2920.6436470424105 recons -2920.6436470424105 kld nan\n",
            "validation loss 2547.2135533854166\n",
            "Epoch 38\n",
            "kld beta: 0.0\n",
            "train loss 2927.7271809430804 recons -2927.7271809430804 kld nan\n",
            "validation loss 2440.686483723958\n",
            "Epoch 39\n",
            "kld beta: 0.0\n",
            "train loss 2891.157002232143 recons -2891.157002232143 kld nan\n",
            "validation loss 2479.702478515625\n",
            "Epoch 40\n",
            "kld beta: 0.0\n",
            "train loss 2885.975616350446 recons -2885.975616350446 kld nan\n",
            "validation loss 2457.6781334635416\n",
            "Epoch 41\n",
            "kld beta: 0.0\n",
            "train loss 2815.232203404018 recons -2815.232203404018 kld nan\n",
            "validation loss 2466.058257161458\n",
            "Epoch 42\n",
            "kld beta: 0.0\n",
            "train loss 2877.7222276785715 recons -2877.7222276785715 kld nan\n",
            "validation loss 2422.67765234375\n",
            "Epoch 43\n",
            "kld beta: 0.0\n",
            "train loss 2888.113332449777 recons -2888.113332449777 kld nan\n",
            "validation loss 2447.9014973958333\n",
            "Epoch 44\n",
            "kld beta: 0.0\n",
            "train loss 2911.089607979911 recons -2911.089607979911 kld nan\n",
            "validation loss 2308.7998880208334\n",
            "Epoch 45\n",
            "kld beta: 0.0\n",
            "train loss 2834.8054401506697 recons -2834.8054401506697 kld nan\n",
            "validation loss 2193.5338600260416\n",
            "Epoch 46\n",
            "kld beta: 0.0\n",
            "train loss 2868.838375139509 recons -2868.838375139509 kld nan\n",
            "validation loss 2423.689432291667\n",
            "Epoch 47\n",
            "kld beta: 0.0\n",
            "train loss 2845.8493020368305 recons -2845.8493020368305 kld nan\n",
            "validation loss 2492.7902252604167\n",
            "Epoch 48\n",
            "kld beta: 0.0\n",
            "train loss 2812.8664455915177 recons -2812.8664455915177 kld nan\n",
            "validation loss 2274.8188645833334\n",
            "Epoch 49\n",
            "kld beta: 0.0\n",
            "train loss 2778.7969543805802 recons -2778.7969543805802 kld nan\n",
            "validation loss 2387.858152669271\n",
            "Epoch 50\n",
            "kld beta: 0.0\n",
            "train loss 2785.8843819754466 recons -2785.8843819754466 kld nan\n",
            "validation loss 2270.2278548177082\n",
            "Epoch 51\n",
            "kld beta: 0.0\n",
            "train loss 2742.2770655691966 recons -2742.2770655691966 kld nan\n",
            "validation loss 2338.101574869792\n",
            "Epoch 52\n",
            "kld beta: 0.0\n",
            "train loss 2720.6387837611605 recons -2720.6387837611605 kld nan\n",
            "validation loss 2432.277833984375\n",
            "Epoch 53\n",
            "kld beta: 0.0\n",
            "train loss 2771.9930764508927 recons -2771.9930764508927 kld nan\n",
            "validation loss 2326.9961806640626\n",
            "Epoch 54\n",
            "kld beta: 0.0\n",
            "train loss 2769.4475629185267 recons -2769.4475629185267 kld nan\n",
            "validation loss 2179.5304384765627\n",
            "Epoch 55\n",
            "kld beta: 0.0\n",
            "train loss 2748.790643973214 recons -2748.790643973214 kld nan\n",
            "validation loss 2407.0849713541666\n",
            "Epoch 56\n",
            "kld beta: 0.0\n",
            "train loss 2747.447103934152 recons -2747.447103934152 kld nan\n",
            "validation loss 2400.100626302083\n",
            "Epoch 57\n",
            "kld beta: 0.0\n",
            "train loss 2735.394068777902 recons -2735.394068777902 kld nan\n",
            "validation loss 2341.691466145833\n",
            "Epoch 58\n",
            "kld beta: 0.0\n",
            "train loss 2718.836013671875 recons -2718.836013671875 kld nan\n",
            "validation loss 2327.681556640625\n",
            "Epoch 59\n",
            "kld beta: 0.0\n",
            "train loss 2665.8879503348217 recons -2665.8879503348217 kld nan\n",
            "validation loss 2209.918158203125\n",
            "Epoch 60\n",
            "kld beta: 0.0\n",
            "train loss 2683.2998895089286 recons -2683.2998895089286 kld nan\n",
            "validation loss 2169.604568359375\n",
            "Epoch 61\n",
            "kld beta: 0.0\n",
            "train loss 2620.216742327009 recons -2620.216742327009 kld nan\n",
            "validation loss 2156.36648828125\n",
            "Epoch 62\n",
            "kld beta: 0.0\n",
            "train loss 2555.6795538504466 recons -2555.6795538504466 kld nan\n",
            "validation loss 2124.346322265625\n",
            "Epoch 63\n",
            "kld beta: 0.0\n",
            "train loss 2541.6482332589285 recons -2541.6482332589285 kld nan\n",
            "validation loss 2204.1850416666666\n",
            "Epoch 64\n",
            "kld beta: 0.0\n",
            "train loss 2392.5824474051337 recons -2392.5824474051337 kld nan\n",
            "validation loss 2068.110369140625\n",
            "Epoch 65\n",
            "kld beta: 0.0\n",
            "train loss 2387.9262151227676 recons -2387.9262151227676 kld 0.0\n",
            "validation loss 2040.4730572916667\n",
            "Epoch 66\n",
            "kld beta: 0.0\n",
            "train loss 2387.3023717912947 recons -2387.3023717912947 kld 0.0\n",
            "validation loss 1778.3611419270833\n",
            "Epoch 67\n",
            "kld beta: 0.0\n",
            "train loss 2106.222138811384 recons -2106.222138811384 kld 0.0\n",
            "validation loss 1725.9726442057292\n",
            "Epoch 68\n",
            "kld beta: 0.0\n",
            "train loss 1496.9213376116072 recons -1496.9213376116072 kld 0.0\n",
            "validation loss 937.6181012369792\n",
            "Epoch 69\n",
            "kld beta: 0.1\n",
            "train loss 778.7267900390625 recons -743.8152737165178 kld 34.91151383536202\n",
            "Increasing learning rate\n",
            "validation loss 801.182583984375\n",
            "Epoch 70\n",
            "kld beta: 0.2\n",
            "Might want to skip this optimizing step\n",
            "train loss 395761260.52624035 recons -876.2872905970983 kld 395760402.0957122\n",
            "validation loss 768.6056201171875\n",
            "Epoch 71\n",
            "kld beta: 0.30000000000000004\n",
            "train loss 883.631408203125 recons -696.6014716796875 kld 187.02993776157925\n",
            "validation loss 760.0909352213541\n",
            "Epoch 72\n",
            "kld beta: 0.4\n",
            "Might want to skip this optimizing step\n",
            "train loss 106606314.59737137 recons -652.6641544363839 kld 106605665.88204516\n",
            "validation loss 762.3150598958333\n",
            "Epoch 73\n",
            "kld beta: 0.5\n",
            "train loss 1356.5959758649553 recons -656.7291106305804 kld 699.866897391183\n",
            "validation loss 773.5986842447917\n",
            "Epoch 74\n",
            "kld beta: 0.6000000000000001\n",
            "train loss 666.4440599888393 recons -611.1548844866071 kld 55.289175013950896\n",
            "validation loss 764.502318359375\n",
            "Epoch 75\n",
            "kld beta: 0.7000000000000001\n",
            "train loss 671.9403510044643 recons -613.1129723772322 kld 58.82737924630301\n",
            "validation loss 829.236451171875\n",
            "Epoch 76\n",
            "kld beta: 0.8\n",
            "train loss 669.6041895926339 recons -592.8051449497768 kld 76.79904714529854\n",
            "validation loss 748.5407861328125\n",
            "Epoch 77\n",
            "kld beta: 0.9\n",
            "train loss 650.4668392857143 recons -586.3097359095982 kld 64.15710379464285\n",
            "validation loss 746.4755240885416\n",
            "Epoch 78\n",
            "kld beta: 1.0\n",
            "train loss 649.6062289341518 recons -585.24059765625 kld 64.36563163539341\n",
            "validation loss 810.6804111328125\n",
            "Epoch 79\n",
            "kld beta: 1.0\n",
            "train loss 643.063013671875 recons -575.3783238002233 kld 67.68468927873884\n",
            "validation loss 715.5444192708334\n",
            "Epoch 80\n",
            "kld beta: 1.0\n",
            "train loss 647.5486838727678 recons -589.0842878069196 kld 58.464397635323664\n",
            "validation loss 740.1837903645834\n",
            "Epoch 81\n",
            "kld beta: 1.0\n",
            "train loss 645.5350177176339 recons -590.2418445870536 kld 55.293172372000555\n",
            "validation loss 793.40655859375\n",
            "Epoch 82\n",
            "kld beta: 1.0\n",
            "train loss 653.5675602678572 recons -597.5387229352679 kld 56.02883641706194\n",
            "validation loss 837.2738157552084\n",
            "Epoch 83\n",
            "kld beta: 1.0\n",
            "train loss 665.1740209263393 recons -600.3396222098214 kld 64.83439801897322\n",
            "validation loss 718.279404296875\n",
            "Epoch 84\n",
            "kld beta: 1.0\n",
            "train loss 619.7544072265625 recons -567.7664154575892 kld 51.98799233572824\n",
            "validation loss 728.8855618489583\n",
            "Epoch 85\n",
            "kld beta: 1.0\n",
            "train loss 683.07425 recons -585.6489669363839 kld 97.42528171212332\n",
            "validation loss 737.9762516276041\n",
            "Epoch 86\n",
            "kld beta: 1.0\n",
            "train loss 637.790718889509 recons -584.4003759765625 kld 53.39034191894531\n",
            "validation loss 700.1720130208333\n",
            "Epoch 87\n",
            "kld beta: 1.0\n",
            "train loss 626.1876630859375 recons -575.3241102120536 kld 50.8635537109375\n",
            "validation loss 705.3819749348959\n",
            "Epoch 88\n",
            "kld beta: 1.0\n",
            "train loss 626.0754952566964 recons -578.2037572544643 kld 47.871736511230466\n",
            "validation loss 698.942708984375\n",
            "Epoch 89\n",
            "kld beta: 1.0\n",
            "train loss 655.9224440569196 recons -601.0683978794643 kld 54.85404767717634\n",
            "validation loss 766.4081438802083\n",
            "Epoch 90\n",
            "kld beta: 1.0\n",
            "train loss 627.2440011160714 recons -573.388943359375 kld 53.85505657958984\n",
            "validation loss 726.2679759114583\n",
            "Epoch 91\n",
            "kld beta: 1.0\n",
            "train loss 615.5863734654018 recons -564.8735383649554 kld 50.71283461216518\n",
            "validation loss 739.1665061848959\n",
            "Epoch 92\n",
            "kld beta: 1.0\n",
            "train loss 607.2132142857142 recons -559.8765627790178 kld 47.33665262276786\n",
            "validation loss 729.1893421223958\n",
            "Epoch 93\n",
            "kld beta: 1.0\n",
            "train loss 616.9124924665178 recons -569.4124566127232 kld 47.50003611537388\n",
            "validation loss 734.2196233723959\n",
            "Epoch 94\n",
            "kld beta: 1.0\n",
            "train loss 607.7277829241071 recons -561.6170905412946 kld 46.11069305419922\n",
            "validation loss 695.1311422526041\n",
            "Epoch 95\n",
            "kld beta: 1.0\n",
            "train loss 637.7771032366071 recons -586.0486926618304 kld 51.72841186523438\n",
            "validation loss 697.0517337239584\n",
            "Epoch 96\n",
            "kld beta: 1.0\n",
            "train loss 609.6422742745535 recons -560.5837352120536 kld 49.05853826032366\n",
            "validation loss 701.4457757161458\n",
            "Epoch 97\n",
            "kld beta: 1.0\n",
            "train loss 606.485916155134 recons -559.0843903459821 kld 47.401526288713725\n",
            "validation loss 695.2842317708333\n",
            "Epoch 98\n",
            "kld beta: 1.0\n",
            "train loss 610.3453674665178 recons -562.260400390625 kld 48.084966474260604\n",
            "validation loss 702.0042444661458\n",
            "Epoch 99\n",
            "kld beta: 1.0\n",
            "train loss 597.5962779017857 recons -552.1003125 kld 45.49596578543527\n",
            "validation loss 698.5985179036459\n",
            "Epoch 100\n",
            "kld beta: 1.0\n",
            "train loss 594.9525658482142 recons -548.8560637555804 kld 46.09650367082868\n",
            "validation loss 704.3254348958334\n",
            "Epoch 101\n",
            "kld beta: 1.0\n",
            "train loss 592.697669921875 recons -549.130296735491 kld 43.56737190464565\n",
            "validation loss 699.1988662109375\n",
            "Epoch 102\n",
            "kld beta: 1.0\n",
            "train loss 599.0222061941964 recons -554.6094814453126 kld 44.412724426269534\n",
            "validation loss 757.2010094401041\n",
            "Epoch 103\n",
            "kld beta: 1.0\n",
            "train loss 608.201863420759 recons -563.7363484933036 kld 44.46551402064732\n",
            "validation loss 716.3764977213542\n",
            "Epoch 104\n",
            "kld beta: 1.0\n",
            "train loss 595.4436010044643 recons -551.62629296875 kld 43.817308428083145\n",
            "validation loss 682.6467330729166\n",
            "Epoch 105\n",
            "kld beta: 1.0\n",
            "train loss 597.0420559430804 recons -552.4963992745536 kld 44.545657828194756\n",
            "validation loss 693.0138655598959\n",
            "Epoch 106\n",
            "kld beta: 1.0\n",
            "train loss 609.5715092075893 recons -565.2796669921875 kld 44.29184454345703\n",
            "validation loss 669.8757177734375\n",
            "Epoch 107\n",
            "kld beta: 1.0\n",
            "train loss 605.3016293247767 recons -559.9158005022322 kld 45.38582916259766\n",
            "validation loss 666.1613450520833\n",
            "Epoch 108\n",
            "kld beta: 1.0\n",
            "train loss 2493.4490073939733 recons -577.9672590680804 kld 1915.481695792062\n",
            "validation loss 682.8893229166666\n",
            "Epoch 109\n",
            "kld beta: 1.0\n",
            "train loss 596.1028424944196 recons -548.4894488002232 kld 47.61339471435547\n",
            "validation loss 718.9724036458333\n",
            "Epoch 110\n",
            "kld beta: 1.0\n",
            "train loss 585.8117566964286 recons -543.0912603236607 kld 42.720496834891186\n",
            "validation loss 675.5623756510416\n",
            "Epoch 111\n",
            "kld beta: 1.0\n",
            "train loss 576.8657908761161 recons -535.0068519810268 kld 41.858938371930805\n",
            "validation loss 705.9913528645833\n",
            "Epoch 112\n",
            "kld beta: 1.0\n",
            "train loss 585.3781428571428 recons -542.8456157924107 kld 42.5325265851702\n",
            "validation loss 673.6669772135417\n",
            "Epoch 113\n",
            "kld beta: 1.0\n",
            "train loss 600.5218141741071 recons -556.2783776506697 kld 44.24343772670201\n",
            "validation loss 675.322701171875\n",
            "Epoch 114\n",
            "kld beta: 1.0\n",
            "train loss 596.3472978515625 recons -551.7480870535715 kld 44.599208234514506\n",
            "validation loss 687.071119140625\n",
            "Epoch 115\n",
            "kld beta: 1.0\n",
            "train loss 586.908277483259 recons -543.6513773716517 kld 43.256900050571986\n",
            "validation loss 657.8953997395834\n",
            "Epoch 116\n",
            "kld beta: 1.0\n",
            "train loss 588.2079059709821 recons -546.879040876116 kld 41.328864467075896\n",
            "validation loss 661.1169791666666\n",
            "Epoch 117\n",
            "kld beta: 1.0\n",
            "train loss 585.2588837890625 recons -541.1455622209821 kld 44.11332304164341\n",
            "validation loss 658.9487737630209\n",
            "Epoch 118\n",
            "kld beta: 1.0\n",
            "train loss 572.5813981584821 recons -531.4854614955357 kld 41.0959340297154\n",
            "validation loss 678.5444720052084\n",
            "Epoch 119\n",
            "kld beta: 1.0\n",
            "train loss 370367.10346595984 recons -585.1444061104911 kld 369781.95253340364\n",
            "validation loss 708.1633779296875\n",
            "Epoch 120\n",
            "kld beta: 1.0\n",
            "train loss 577.322234514509 recons -536.330683733259 kld 40.99155055454799\n",
            "validation loss 699.7918538411458\n",
            "Epoch 121\n",
            "kld beta: 1.0\n",
            "train loss 595.881287109375 recons -552.6476530412947 kld 43.233633047921316\n",
            "validation loss 675.4976442057292\n",
            "Epoch 122\n",
            "kld beta: 1.0\n",
            "train loss 577.8831043526785 recons -536.7695750558036 kld 41.113529933384484\n",
            "validation loss 686.0368333333333\n",
            "Epoch 123\n",
            "kld beta: 1.0\n",
            "train loss 592.2563464006696 recons -549.1659828404017 kld 43.090364589146205\n",
            "validation loss 659.8115999348959\n",
            "Epoch 124\n",
            "kld beta: 1.0\n",
            "train loss 572.8338872767857 recons -532.5841082589286 kld 40.24977880859375\n",
            "validation loss 669.14702734375\n",
            "Epoch 125\n",
            "kld beta: 1.0\n",
            "train loss 613.8503415178571 recons -568.5105539899554 kld 45.339785670689174\n",
            "validation loss 696.7523004557291\n",
            "Epoch 126\n",
            "kld beta: 1.0\n",
            "train loss 592.7391243024554 recons -542.7665445033482 kld 49.97257803780692\n",
            "validation loss 702.20765234375\n",
            "Epoch 127\n",
            "kld beta: 1.0\n",
            "train loss 567.9632562779018 recons -526.0647427455357 kld 41.898514883858816\n",
            "validation loss 679.0696559244792\n",
            "Epoch 128\n",
            "kld beta: 1.0\n",
            "train loss 763.1113639787947 recons -561.1128115234375 kld 201.9985563092913\n",
            "validation loss 657.2805123697917\n",
            "Epoch 129\n",
            "kld beta: 1.0\n",
            "train loss 568.5260502232143 recons -529.0853589564732 kld 39.44069158935547\n",
            "validation loss 665.6442581380209\n",
            "Epoch 130\n",
            "kld beta: 1.0\n",
            "train loss 586.6127092633928 recons -544.7189560546875 kld 41.89375545828683\n",
            "validation loss 656.8597119140625\n",
            "Epoch 131\n",
            "kld beta: 1.0\n",
            "train loss 572.0657594866071 recons -531.9785380859375 kld 40.087220336914065\n",
            "validation loss 662.7169352213542\n",
            "Epoch 132\n",
            "kld beta: 1.0\n",
            "train loss 572.267080217634 recons -532.4914249441964 kld 39.77565458461216\n",
            "validation loss 647.5929847005208\n",
            "Epoch 133\n",
            "kld beta: 1.0\n",
            "train loss 589.2397374441964 recons -548.0738500279018 kld 41.16588734654018\n",
            "validation loss 644.43622265625\n",
            "Epoch 134\n",
            "kld beta: 1.0\n",
            "train loss 619.7226880580357 recons -536.2564818638393 kld 83.46620459856305\n",
            "validation loss 685.1970911458334\n",
            "Epoch 135\n",
            "kld beta: 1.0\n",
            "train loss 577.6630154854911 recons -533.8435322265625 kld 43.81948350306919\n",
            "validation loss 675.329005859375\n",
            "Epoch 136\n",
            "kld beta: 1.0\n",
            "train loss 564.7917290736607 recons -525.5670757533483 kld 39.22465332903181\n",
            "validation loss 654.6377493489583\n",
            "Epoch 137\n",
            "kld beta: 1.0\n",
            "train loss 577.5261072823661 recons -536.6182848772321 kld 40.90782049560547\n",
            "validation loss 639.1686839192708\n",
            "Epoch 138\n",
            "kld beta: 1.0\n",
            "train loss 560.3978970424107 recons -522.4229400111607 kld 37.97495837402344\n",
            "validation loss 663.9756318359375\n",
            "Epoch 139\n",
            "kld beta: 1.0\n",
            "train loss 572.4917979910714 recons -531.3959771205357 kld 41.095818725585936\n",
            "validation loss 664.1638404947917\n",
            "Epoch 140\n",
            "kld beta: 1.0\n",
            "train loss 590.6930998883929 recons -548.8654503348214 kld 41.82764935302735\n",
            "validation loss 672.990021484375\n",
            "Epoch 141\n",
            "kld beta: 1.0\n",
            "Might want to skip this optimizing step\n",
            "train loss 19422142269.59048 recons -543.5744306640624 kld 19422141745.608868\n",
            "validation loss 649.49269921875\n",
            "Epoch 142\n",
            "kld beta: 1.0\n",
            "train loss 582.1059754464286 recons -537.9591623883929 kld 44.14681093924386\n",
            "validation loss 648.0652884114584\n",
            "Epoch 143\n",
            "kld beta: 1.0\n",
            "train loss 566.7293254743304 recons -525.9647282366071 kld 40.764596758161275\n",
            "validation loss 640.3184046223959\n",
            "Epoch 144\n",
            "kld beta: 1.0\n",
            "train loss 573.7304494977678 recons -532.3526609933035 kld 41.37779062325614\n",
            "validation loss 694.5317574869791\n",
            "Epoch 145\n",
            "kld beta: 1.0\n",
            "train loss 569.3410089285715 recons -528.9441107700893 kld 40.396899832589284\n",
            "validation loss 661.7662405598958\n",
            "Epoch 146\n",
            "kld beta: 1.0\n",
            "train loss 574.8692780412946 recons -534.6710016741072 kld 40.198275774274556\n",
            "validation loss 652.9477649739583\n",
            "Epoch 147\n",
            "kld beta: 1.0\n",
            "train loss 561.9463553292411 recons -522.3615299944197 kld 39.58482566615513\n",
            "validation loss 641.8487945963542\n",
            "Epoch 148\n",
            "kld beta: 1.0\n",
            "train loss 560.8377861328125 recons -522.1284108537947 kld 38.70937544468471\n",
            "validation loss 659.8803938802083\n",
            "Epoch 149\n",
            "kld beta: 1.0\n",
            "train loss 556.6504211774553 recons -518.6238408203125 kld 38.02658048793248\n",
            "validation loss 636.8096285807292\n",
            "Epoch 150\n",
            "kld beta: 1.0\n",
            "train loss 684.8495277622768 recons -539.9735495256697 kld 144.87598168073382\n",
            "validation loss 650.7884078776042\n",
            "Epoch 151\n",
            "kld beta: 1.0\n",
            "train loss 579.2448208705357 recons -536.747146623884 kld 42.49767333112444\n",
            "validation loss 648.2820354817708\n",
            "Epoch 152\n",
            "kld beta: 1.0\n",
            "train loss 577.3766032366071 recons -531.8735069754464 kld 45.503097542899\n",
            "validation loss 646.0608365885416\n",
            "Epoch 153\n",
            "kld beta: 1.0\n",
            "train loss 565.7737367466518 recons -526.8687366071429 kld 38.90499990408761\n",
            "validation loss 635.7099850260416\n",
            "Epoch 154\n",
            "kld beta: 1.0\n",
            "train loss 565.7003935546875 recons -526.6328773716518 kld 39.06751762172154\n",
            "validation loss 641.7608466796875\n",
            "Epoch 155\n",
            "kld beta: 1.0\n",
            "train loss 555.8874771205357 recons -517.463484375 kld 38.42399249267578\n",
            "validation loss 638.0405179036459\n",
            "Epoch 156\n",
            "kld beta: 1.0\n",
            "train loss 550.5733948102678 recons -513.7507234933036 kld 36.82267036655971\n",
            "validation loss 650.4037649739583\n",
            "Epoch 157\n",
            "kld beta: 1.0\n",
            "train loss 550.1338577008928 recons -512.5930203683035 kld 37.540838117327006\n",
            "validation loss 646.9612822265625\n",
            "Epoch 158\n",
            "kld beta: 1.0\n",
            "train loss 586.3814250837054 recons -539.2947660435268 kld 47.086660356794084\n",
            "validation loss 640.05916015625\n",
            "Epoch 159\n",
            "kld beta: 1.0\n",
            "train loss 552.1925837053572 recons -514.6327631138392 kld 37.5598194405692\n",
            "validation loss 662.483869140625\n",
            "Epoch 160\n",
            "kld beta: 1.0\n",
            "train loss 591.5796174665179 recons -537.3345359933036 kld 54.24508393205915\n",
            "validation loss 632.3828411458334\n",
            "Epoch 161\n",
            "kld beta: 1.0\n",
            "train loss 547.3440888671875 recons -508.5621848493304 kld 38.781903573172436\n",
            "validation loss 646.06323828125\n",
            "Epoch 162\n",
            "kld beta: 1.0\n",
            "train loss 552.6058325892857 recons -515.0450828683036 kld 37.56074973842076\n",
            "validation loss 640.7997913411458\n",
            "Epoch 163\n",
            "kld beta: 1.0\n",
            "train loss 546.8154337332589 recons -510.0592744140625 kld 36.756158229282924\n",
            "validation loss 626.3869739583333\n",
            "Epoch 164\n",
            "kld beta: 1.0\n",
            "train loss 558.3011102120536 recons -519.2162668805804 kld 39.084842581612726\n",
            "validation loss 709.387673828125\n",
            "Epoch 165\n",
            "kld beta: 1.0\n",
            "train loss 8792.1271953125 recons -635.1535422712053 kld 8156.973396022252\n",
            "validation loss 695.4727884114583\n",
            "Epoch 166\n",
            "kld beta: 1.0\n",
            "train loss 551.7033832310268 recons -513.7915601283482 kld 37.91182366071428\n",
            "validation loss 632.671673828125\n",
            "Epoch 167\n",
            "kld beta: 1.0\n",
            "train loss 569.4322505580357 recons -529.7773971819197 kld 39.65485302734375\n",
            "validation loss 650.4015504557292\n",
            "Epoch 168\n",
            "kld beta: 1.0\n",
            "train loss 572.7564580078125 recons -533.6343617466517 kld 39.12209680175781\n",
            "validation loss 679.5423782552083\n",
            "Epoch 169\n",
            "kld beta: 1.0\n",
            "train loss 562.4746344866071 recons -521.9355492466518 kld 40.53908351353237\n",
            "validation loss 636.4559166666667\n",
            "Epoch 170\n",
            "kld beta: 1.0\n"
          ],
          "name": "stdout"
        },
        {
          "output_type": "error",
          "ename": "KeyboardInterrupt",
          "evalue": "ignored",
          "traceback": [
            "\u001b[0;31m---------------------------------------------------------------------------\u001b[0m",
            "\u001b[0;31mKeyboardInterrupt\u001b[0m                         Traceback (most recent call last)",
            "\u001b[0;32m<ipython-input-31-191aabaa8817>\u001b[0m in \u001b[0;36m<module>\u001b[0;34m()\u001b[0m\n\u001b[1;32m     19\u001b[0m         \u001b[0mkld_beta\u001b[0m \u001b[0;34m=\u001b[0m \u001b[0mmin\u001b[0m\u001b[0;34m(\u001b[0m\u001b[0;36m1.0\u001b[0m\u001b[0;34m,\u001b[0m \u001b[0;36m0.1\u001b[0m \u001b[0;34m*\u001b[0m \u001b[0;34m(\u001b[0m\u001b[0mepoch\u001b[0m \u001b[0;34m-\u001b[0m \u001b[0mactivate_kld_after\u001b[0m\u001b[0;34m)\u001b[0m\u001b[0;34m)\u001b[0m\u001b[0;34m\u001b[0m\u001b[0;34m\u001b[0m\u001b[0m\n\u001b[1;32m     20\u001b[0m     \u001b[0mprint\u001b[0m\u001b[0;34m(\u001b[0m\u001b[0;34m'kld beta:'\u001b[0m\u001b[0;34m,\u001b[0m \u001b[0mkld_beta\u001b[0m\u001b[0;34m)\u001b[0m\u001b[0;34m\u001b[0m\u001b[0;34m\u001b[0m\u001b[0m\n\u001b[0;32m---> 21\u001b[0;31m     \u001b[0mtrain_loss\u001b[0m\u001b[0;34m,\u001b[0m \u001b[0mrecons_loss\u001b[0m\u001b[0;34m,\u001b[0m \u001b[0mkld_loss\u001b[0m \u001b[0;34m=\u001b[0m \u001b[0mtrain\u001b[0m\u001b[0;34m(\u001b[0m\u001b[0mvae\u001b[0m\u001b[0;34m,\u001b[0m \u001b[0mtrain_loader\u001b[0m\u001b[0;34m,\u001b[0m \u001b[0moptimizer\u001b[0m\u001b[0;34m,\u001b[0m \u001b[0mzip_loss_function_pyro\u001b[0m\u001b[0;34m,\u001b[0m \u001b[0mkld_beta\u001b[0m\u001b[0;34m)\u001b[0m\u001b[0;34m\u001b[0m\u001b[0;34m\u001b[0m\u001b[0m\n\u001b[0m\u001b[1;32m     22\u001b[0m     \u001b[0mprint\u001b[0m\u001b[0;34m(\u001b[0m\u001b[0;34m'train loss'\u001b[0m\u001b[0;34m,\u001b[0m \u001b[0mtrain_loss\u001b[0m\u001b[0;34m,\u001b[0m \u001b[0;34m'recons'\u001b[0m\u001b[0;34m,\u001b[0m \u001b[0mrecons_loss\u001b[0m\u001b[0;34m,\u001b[0m \u001b[0;34m'kld'\u001b[0m\u001b[0;34m,\u001b[0m \u001b[0mkld_loss\u001b[0m\u001b[0;34m)\u001b[0m\u001b[0;34m\u001b[0m\u001b[0;34m\u001b[0m\u001b[0m\n\u001b[1;32m     23\u001b[0m     \u001b[0;32mif\u001b[0m \u001b[0mtrain_loss\u001b[0m \u001b[0;34m<\u001b[0m \u001b[0;36m1500.\u001b[0m \u001b[0;32mand\u001b[0m \u001b[0mready_to_activate_kld\u001b[0m \u001b[0;34m==\u001b[0m \u001b[0;32mFalse\u001b[0m\u001b[0;34m:\u001b[0m\u001b[0;34m\u001b[0m\u001b[0;34m\u001b[0m\u001b[0m\n",
            "\u001b[0;32m<ipython-input-9-c75338bc9235>\u001b[0m in \u001b[0;36mtrain\u001b[0;34m(model, dataloader, optimizer, loss_function, kld_beta)\u001b[0m\n\u001b[1;32m     20\u001b[0m           \u001b[0mprint\u001b[0m\u001b[0;34m(\u001b[0m\u001b[0;34m'Might want to skip this optimizing step'\u001b[0m\u001b[0;34m)\u001b[0m\u001b[0;34m\u001b[0m\u001b[0;34m\u001b[0m\u001b[0m\n\u001b[1;32m     21\u001b[0m \u001b[0;34m\u001b[0m\u001b[0m\n\u001b[0;32m---> 22\u001b[0;31m         \u001b[0mloss\u001b[0m\u001b[0;34m.\u001b[0m\u001b[0mbackward\u001b[0m\u001b[0;34m(\u001b[0m\u001b[0;34m)\u001b[0m\u001b[0;34m\u001b[0m\u001b[0;34m\u001b[0m\u001b[0m\n\u001b[0m\u001b[1;32m     23\u001b[0m         \u001b[0moptimizer\u001b[0m\u001b[0;34m.\u001b[0m\u001b[0mstep\u001b[0m\u001b[0;34m(\u001b[0m\u001b[0;34m)\u001b[0m\u001b[0;34m\u001b[0m\u001b[0;34m\u001b[0m\u001b[0m\n\u001b[1;32m     24\u001b[0m \u001b[0;34m\u001b[0m\u001b[0m\n",
            "\u001b[0;32m/usr/local/lib/python3.6/dist-packages/torch/tensor.py\u001b[0m in \u001b[0;36mbackward\u001b[0;34m(self, gradient, retain_graph, create_graph)\u001b[0m\n\u001b[1;32m    183\u001b[0m                 \u001b[0mproducts\u001b[0m\u001b[0;34m.\u001b[0m \u001b[0mDefaults\u001b[0m \u001b[0mto\u001b[0m\u001b[0;31m \u001b[0m\u001b[0;31m`\u001b[0m\u001b[0;31m`\u001b[0m\u001b[0;32mFalse\u001b[0m\u001b[0;31m`\u001b[0m\u001b[0;31m`\u001b[0m\u001b[0;34m.\u001b[0m\u001b[0;34m\u001b[0m\u001b[0;34m\u001b[0m\u001b[0m\n\u001b[1;32m    184\u001b[0m         \"\"\"\n\u001b[0;32m--> 185\u001b[0;31m         \u001b[0mtorch\u001b[0m\u001b[0;34m.\u001b[0m\u001b[0mautograd\u001b[0m\u001b[0;34m.\u001b[0m\u001b[0mbackward\u001b[0m\u001b[0;34m(\u001b[0m\u001b[0mself\u001b[0m\u001b[0;34m,\u001b[0m \u001b[0mgradient\u001b[0m\u001b[0;34m,\u001b[0m \u001b[0mretain_graph\u001b[0m\u001b[0;34m,\u001b[0m \u001b[0mcreate_graph\u001b[0m\u001b[0;34m)\u001b[0m\u001b[0;34m\u001b[0m\u001b[0;34m\u001b[0m\u001b[0m\n\u001b[0m\u001b[1;32m    186\u001b[0m \u001b[0;34m\u001b[0m\u001b[0m\n\u001b[1;32m    187\u001b[0m     \u001b[0;32mdef\u001b[0m \u001b[0mregister_hook\u001b[0m\u001b[0;34m(\u001b[0m\u001b[0mself\u001b[0m\u001b[0;34m,\u001b[0m \u001b[0mhook\u001b[0m\u001b[0;34m)\u001b[0m\u001b[0;34m:\u001b[0m\u001b[0;34m\u001b[0m\u001b[0;34m\u001b[0m\u001b[0m\n",
            "\u001b[0;32m/usr/local/lib/python3.6/dist-packages/torch/autograd/__init__.py\u001b[0m in \u001b[0;36mbackward\u001b[0;34m(tensors, grad_tensors, retain_graph, create_graph, grad_variables)\u001b[0m\n\u001b[1;32m    125\u001b[0m     Variable._execution_engine.run_backward(\n\u001b[1;32m    126\u001b[0m         \u001b[0mtensors\u001b[0m\u001b[0;34m,\u001b[0m \u001b[0mgrad_tensors\u001b[0m\u001b[0;34m,\u001b[0m \u001b[0mretain_graph\u001b[0m\u001b[0;34m,\u001b[0m \u001b[0mcreate_graph\u001b[0m\u001b[0;34m,\u001b[0m\u001b[0;34m\u001b[0m\u001b[0;34m\u001b[0m\u001b[0m\n\u001b[0;32m--> 127\u001b[0;31m         allow_unreachable=True)  # allow_unreachable flag\n\u001b[0m\u001b[1;32m    128\u001b[0m \u001b[0;34m\u001b[0m\u001b[0m\n\u001b[1;32m    129\u001b[0m \u001b[0;34m\u001b[0m\u001b[0m\n",
            "\u001b[0;31mKeyboardInterrupt\u001b[0m: "
          ]
        }
      ]
    },
    {
      "cell_type": "code",
      "metadata": {
        "id": "56BJ6eyfnJZi",
        "outputId": "4245c61b-2759-48ea-febb-e94e99e7677a",
        "colab": {
          "base_uri": "https://localhost:8080/",
          "height": 35
        }
      },
      "source": [
        "test_loss = validate(vae, test_loader, optimizer, zip_loss_function_pyro, kld_beta = 1.0)\n",
        "print('Test loss', test_loss)"
      ],
      "execution_count": null,
      "outputs": [
        {
          "output_type": "stream",
          "text": [
            "Test loss 614.5314942214931\n"
          ],
          "name": "stdout"
        }
      ]
    },
    {
      "cell_type": "code",
      "metadata": {
        "id": "vxUReD9zsNyu",
        "outputId": "6568d8c4-8354-46c5-907f-7d4b50a498a3",
        "colab": {
          "base_uri": "https://localhost:8080/",
          "height": 225
        }
      },
      "source": [
        "vae"
      ],
      "execution_count": null,
      "outputs": [
        {
          "output_type": "execute_result",
          "data": {
            "text/plain": [
              "ZIP_VAE_FORSOEG2(\n",
              "  (mu_1): Linear(in_features=4000, out_features=512, bias=True)\n",
              "  (mu_2): Linear(in_features=512, out_features=256, bias=True)\n",
              "  (mu_3): Linear(in_features=512, out_features=20, bias=True)\n",
              "  (var_1): Linear(in_features=4000, out_features=512, bias=True)\n",
              "  (var_2): Linear(in_features=512, out_features=256, bias=True)\n",
              "  (var_3): Linear(in_features=512, out_features=20, bias=True)\n",
              "  (dec_1): Linear(in_features=20, out_features=256, bias=True)\n",
              "  (dec_3): Linear(in_features=256, out_features=4000, bias=True)\n",
              "  (dec_dropout_1): Linear(in_features=20, out_features=256, bias=True)\n",
              "  (dec_dropout_3): Linear(in_features=256, out_features=4000, bias=True)\n",
              ")"
            ]
          },
          "metadata": {
            "tags": []
          },
          "execution_count": 36
        }
      ]
    },
    {
      "cell_type": "code",
      "metadata": {
        "id": "hIpMLhJ6j6p_"
      },
      "source": [
        "train_history = np.array(train_history)"
      ],
      "execution_count": null,
      "outputs": []
    },
    {
      "cell_type": "code",
      "metadata": {
        "id": "W8M7zntLkAYw"
      },
      "source": [
        "train_history[165] = train_history[164]"
      ],
      "execution_count": null,
      "outputs": []
    },
    {
      "cell_type": "code",
      "metadata": {
        "id": "eVtP5VI3nJZ4",
        "outputId": "9db0fc38-b471-4c9e-b2ba-a014fbd3ae27",
        "colab": {
          "base_uri": "https://localhost:8080/",
          "height": 295
        }
      },
      "source": [
        "plt.plot(np.arange(2,len(train_history)), train_history[2:], label='train')\n",
        "plt.plot(np.arange(2,len(train_history)), val_history[2:], label='val')\n",
        "plt.axhline(test_loss, c='red', label='test ' + str(int(test_loss)))\n",
        "plt.title('Loss ZIP VAE on IMMUNE')\n",
        "plt.xlabel('Epochs')\n",
        "plt.ylabel('Loss')\n",
        "plt.legend()\n",
        "plt.savefig('/content/gdrive/My Drive/Colab Notebooks/Colab Cell Experiments/plots/zip_vae_forsoeg2_aggressive_a_history.png')"
      ],
      "execution_count": null,
      "outputs": [
        {
          "output_type": "display_data",
          "data": {
            "image/png": "[encoded data removed]",
            "text/plain": [
              "<Figure size 432x288 with 1 Axes>"
            ]
          },
          "metadata": {
            "tags": [],
            "needs_background": "light"
          }
        }
      ]
    },
    {
      "cell_type": "code",
      "metadata": {
        "id": "sLyPtofMgDug"
      },
      "source": [
        "#torch.save(vae, '/content/gdrive/My Drive/Colab Notebooks/Colab Cell Experiments/outputs/zip_vae_forsoeg2_aggresive_a.pkl')"
      ],
      "execution_count": null,
      "outputs": []
    },
    {
      "cell_type": "markdown",
      "metadata": {
        "id": "mO18SAW5nJaB"
      },
      "source": [
        "# Plot it all"
      ]
    },
    {
      "cell_type": "code",
      "metadata": {
        "id": "GSn1mOVFnJaC"
      },
      "source": [
        "X_tensor = torch.tensor(X)"
      ],
      "execution_count": null,
      "outputs": []
    },
    {
      "cell_type": "code",
      "metadata": {
        "id": "mhaD8jP1TSAK",
        "outputId": "0636cc49-0362-40d8-bc04-9c73ee6af739",
        "colab": {
          "base_uri": "https://localhost:8080/",
          "height": 35
        }
      },
      "source": [
        "torch.cuda.is_available()"
      ],
      "execution_count": null,
      "outputs": [
        {
          "output_type": "execute_result",
          "data": {
            "text/plain": [
              "True"
            ]
          },
          "metadata": {
            "tags": []
          },
          "execution_count": 35
        }
      ]
    },
    {
      "cell_type": "code",
      "metadata": {
        "id": "3DCxkA1YU98R"
      },
      "source": [
        "if torch.cuda.is_available():\n",
        "  X_tensor = X_tensor.cuda()"
      ],
      "execution_count": null,
      "outputs": []
    },
    {
      "cell_type": "code",
      "metadata": {
        "id": "PJAgt8mVnJaL"
      },
      "source": [
        "X_encoded = vae.encoder(X_tensor.float())"
      ],
      "execution_count": null,
      "outputs": []
    },
    {
      "cell_type": "code",
      "metadata": {
        "id": "DoOLQ89EnJaT"
      },
      "source": [
        "X_encoded_means = X_encoded[0]"
      ],
      "execution_count": null,
      "outputs": []
    },
    {
      "cell_type": "code",
      "metadata": {
        "id": "ClspdiYtVwry",
        "outputId": "4e904d15-d176-4a4f-a982-5b19165b5756",
        "colab": {
          "base_uri": "https://localhost:8080/",
          "height": 156
        }
      },
      "source": [
        "X_encoded_means.cpu()"
      ],
      "execution_count": null,
      "outputs": [
        {
          "output_type": "execute_result",
          "data": {
            "text/plain": [
              "tensor([[-0.8895,  0.2600,  0.5370,  ...,  1.5225,  1.8514,  0.9220],\n",
              "        [ 0.0519, -1.2115, -0.0133,  ..., -2.4756, -2.0484,  0.8484],\n",
              "        [ 0.5229,  0.2378,  1.3798,  ..., -2.0123, -0.8380,  3.6613],\n",
              "        ...,\n",
              "        [-0.1771, -1.4606, -0.6591,  ..., -0.2644, -1.4738, -1.1531],\n",
              "        [ 0.9850,  0.7420,  0.5417,  ...,  0.4935,  1.3731,  0.0760],\n",
              "        [ 2.2770, -0.1258,  0.4462,  ...,  0.7765, -0.4128,  0.9020]],\n",
              "       grad_fn=<CopyBackwards>)"
            ]
          },
          "metadata": {
            "tags": []
          },
          "execution_count": 39
        }
      ]
    },
    {
      "cell_type": "code",
      "metadata": {
        "id": "rF2GKJgoVzTM",
        "outputId": "d5f6167d-db83-4b13-c07f-c3e11c3a98db",
        "colab": {
          "base_uri": "https://localhost:8080/",
          "height": 156
        }
      },
      "source": [
        "X_encoded_means"
      ],
      "execution_count": null,
      "outputs": [
        {
          "output_type": "execute_result",
          "data": {
            "text/plain": [
              "tensor([[-0.8895,  0.2600,  0.5370,  ...,  1.5225,  1.8514,  0.9220],\n",
              "        [ 0.0519, -1.2115, -0.0133,  ..., -2.4756, -2.0484,  0.8484],\n",
              "        [ 0.5229,  0.2378,  1.3798,  ..., -2.0123, -0.8380,  3.6613],\n",
              "        ...,\n",
              "        [-0.1771, -1.4606, -0.6591,  ..., -0.2644, -1.4738, -1.1531],\n",
              "        [ 0.9850,  0.7420,  0.5417,  ...,  0.4935,  1.3731,  0.0760],\n",
              "        [ 2.2770, -0.1258,  0.4462,  ...,  0.7765, -0.4128,  0.9020]],\n",
              "       device='cuda:0', grad_fn=<AddmmBackward>)"
            ]
          },
          "metadata": {
            "tags": []
          },
          "execution_count": 40
        }
      ]
    },
    {
      "cell_type": "code",
      "metadata": {
        "id": "RBM55rqqnJaX"
      },
      "source": [
        "import umap\n",
        "reducer = umap.UMAP()\n",
        "X_encoded_umap = reducer.fit_transform(X_encoded_means.detach().cpu())"
      ],
      "execution_count": null,
      "outputs": []
    },
    {
      "cell_type": "code",
      "metadata": {
        "id": "pLQSSB54nJac",
        "outputId": "29705ce4-95a1-4fa5-f0bf-7f98c0d57073",
        "colab": {
          "base_uri": "https://localhost:8080/",
          "height": 295
        }
      },
      "source": [
        "plt.title('ZIP VAE + UMAP on IMMUNE')\n",
        "plt.xlabel('Dimension 1')\n",
        "plt.ylabel('Dimension 2')\n",
        "plt.scatter(X_encoded_umap[:,0], X_encoded_umap[:,1])\n",
        "plt.savefig('/content/gdrive/My Drive/Colab Notebooks/Colab Cell Experiments/plots/zip_vae_forsoeg2_aggresive_a_umap.png')"
      ],
      "execution_count": null,
      "outputs": [
        {
          "output_type": "display_data",
          "data": {
            "image/png": "[encoded data removed]",
            "text/plain": [
              "<Figure size 432x288 with 1 Axes>"
            ]
          },
          "metadata": {
            "tags": [],
            "needs_background": "light"
          }
        }
      ]
    },
    {
      "cell_type": "markdown",
      "metadata": {
        "id": "DR_z3qmanJak"
      },
      "source": [
        "## Generate cells"
      ]
    },
    {
      "cell_type": "code",
      "metadata": {
        "id": "wyVdl0QynJak"
      },
      "source": [
        "Z_samples = torch.randn(1000, 20)"
      ],
      "execution_count": null,
      "outputs": []
    },
    {
      "cell_type": "code",
      "metadata": {
        "id": "5rH0uTdWnJaq"
      },
      "source": [
        "Z_samples_umap_transformed = reducer.transform(Z_samples)"
      ],
      "execution_count": null,
      "outputs": []
    },
    {
      "cell_type": "code",
      "metadata": {
        "id": "v3S_G7JknJav"
      },
      "source": [
        "absolute_zero = torch.zeros(1, 20)"
      ],
      "execution_count": null,
      "outputs": []
    },
    {
      "cell_type": "code",
      "metadata": {
        "id": "b9RkgGV6nJa1",
        "outputId": "0892782f-adc2-4556-dd72-f7f04f771e7c"
      },
      "source": [
        "plt.scatter(X_encoded_umap[:,0], X_encoded_umap[:,1])\n",
        "plt.scatter(Z_samples_umap_transformed[:,0], Z_samples_umap_transformed[:,1])\n",
        "plt.scatter(absolute_zero[:,0], absolute_zero[:,1], c='red')"
      ],
      "execution_count": null,
      "outputs": [
        {
          "output_type": "execute_result",
          "data": {
            "text/plain": [
              "<matplotlib.collections.PathCollection at 0x13f8630a0>"
            ]
          },
          "metadata": {
            "tags": []
          },
          "execution_count": 115
        },
        {
          "output_type": "display_data",
          "data": {
            "image/png": "[encoded data removed]",
            "text/plain": [
              "<Figure size 432x288 with 1 Axes>"
            ]
          },
          "metadata": {
            "tags": [],
            "needs_background": "light"
          }
        }
      ]
    },
    {
      "cell_type": "code",
      "metadata": {
        "id": "G3GCrWqDnJa6"
      },
      "source": [
        "generated_decoded = None\n",
        "with torch.no_grad():\n",
        "    generated_decoded = vae.decoder(Z_samples)"
      ],
      "execution_count": null,
      "outputs": []
    },
    {
      "cell_type": "code",
      "metadata": {
        "id": "wd4958NgnJa_",
        "outputId": "fd75176a-c668-461b-9f2b-ac32aee20242"
      },
      "source": [
        "generated_decoded.shape"
      ],
      "execution_count": null,
      "outputs": [
        {
          "output_type": "execute_result",
          "data": {
            "text/plain": [
              "torch.Size([1000, 4000])"
            ]
          },
          "metadata": {
            "tags": []
          },
          "execution_count": 72
        }
      ]
    },
    {
      "cell_type": "code",
      "metadata": {
        "id": "A7GpRdSHnJbD"
      },
      "source": [
        ""
      ],
      "execution_count": null,
      "outputs": []
    }
  ]
}