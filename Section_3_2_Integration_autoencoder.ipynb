{
  "nbformat": 4,
  "nbformat_minor": 0,
  "metadata": {
    "kernelspec": {
      "display_name": "Python 3",
      "language": "python",
      "name": "python3"
    },
    "language_info": {
      "codemirror_mode": {
        "name": "ipython",
        "version": 3
      },
      "file_extension": ".py",
      "mimetype": "text/x-python",
      "name": "python",
      "nbconvert_exporter": "python",
      "pygments_lexer": "ipython3",
      "version": "3.8.5"
    },
    "colab": {
      "name": "Section 3.2 - Integration autoencoder.ipynb",
      "provenance": [],
      "collapsed_sections": [],
      "include_colab_link": true
    }
  },
  "cells": [
    {
      "cell_type": "markdown",
      "metadata": {
        "id": "view-in-github",
        "colab_type": "text"
      },
      "source": [
        "<a href=\"https://colab.research.google.com/github/kmrasmussen/cell_project/blob/main/Section_3_2_Integration_autoencoder.ipynb\" target=\"_parent\"><img src=\"https://colab.research.google.com/assets/colab-badge.svg\" alt=\"Open In Colab\"/></a>"
      ]
    },
    {
      "cell_type": "code",
      "metadata": {
        "id": "934wMK8qdd0I"
      },
      "source": [
        "import torch\n",
        "import torch.nn as nn\n",
        "import torch.nn.functional as F\n",
        "from torch.utils.data import DataLoader, Dataset\n",
        "import numpy as np\n",
        "from sklearn.model_selection import train_test_split\n",
        "\n",
        "class CellDataset(Dataset):\n",
        "    def __init__(self, numpy_matrix, labels = None):\n",
        "        self.X = torch.from_numpy(numpy_matrix)\n",
        "        self.n_genes = self.X.shape[1]\n",
        "        # Library sizes for each cell, mean and variance across cells\n",
        "        self.cell_library_sizes = torch.sum(self.X, dim = 1)\n",
        "        self.labels = labels\n",
        "        if labels is not None:\n",
        "            assert self.labels.shape[0] == self.X.shape[0]\n",
        "\n",
        "    def __len__(self):\n",
        "        return self.X.shape[0]\n",
        "\n",
        "    def __getitem__(self, idx):\n",
        "        if self.labels is not None:\n",
        "            return {'x': self.X[idx], 'l': self.cell_library_sizes[idx], 's': self.labels[idx]}\n",
        "        else:\n",
        "            return {'x': self.X[idx], 'l': self.cell_library_sizes[idx]}\n",
        "\n",
        "class BasicAutoencoderIntegration(nn.Module):\n",
        "    def __init__(self, n_genes, h_dim1, h_dim2,  z_dim, batch_id_max, dropout_rate):\n",
        "        super(BasicAutoencoderIntegration, self).__init__()\n",
        "        print(n_genes)\n",
        "        self.encode1 = nn.Linear(n_genes + batch_id_max + 1, h_dim1)\n",
        "        self.encode2 = nn.Linear(h_dim1, h_dim2)\n",
        "        self.encode3 = nn.Linear(h_dim2, z_dim)\n",
        "        self.decode1 = nn.Linear(z_dim + batch_id_max + 1, h_dim2)\n",
        "        self.decode2 = nn.Linear(h_dim2, h_dim1)\n",
        "        self.decode3 = nn.Linear(h_dim1, n_genes)\n",
        "\n",
        "        self.dropout = nn.Dropout(p=dropout_rate)\n",
        "    \n",
        "    def encode(self, x, batch_numbers):\n",
        "        x = torch.cat([x, batch_numbers], dim=1)\n",
        "        x = self.dropout(x)\n",
        "        x = F.relu(self.encode1(x))\n",
        "        x = self.dropout(x)\n",
        "        x = F.relu(self.encode2(x))\n",
        "        x = self.dropout(x)\n",
        "        x = self.encode3(x)\n",
        "        return x\n",
        "    \n",
        "    def decode(self, x, batch_numbers):\n",
        "        x = torch.cat([x, batch_numbers], dim=1)\n",
        "        x = self.dropout(x)\n",
        "        x = F.relu(self.decode1(x))\n",
        "        x = self.dropout(x)\n",
        "        x = F.relu(self.decode2(x))\n",
        "        x = self.dropout(x)\n",
        "        x = self.decode3(x)\n",
        "        return x\n",
        "    \n",
        "    def forward(self, x, batch_numbers):\n",
        "        encodings = self.encode(x, batch_numbers)\n",
        "        decodings = self.decode(encodings, batch_numbers)\n",
        "        return decodings"
      ],
      "execution_count": 15,
      "outputs": []
    },
    {
      "cell_type": "code",
      "metadata": {
        "id": "WXk7Q4dqdSKh"
      },
      "source": [
        "# one hot encoding for batch number\n",
        "def one_hot(n, max):\n",
        "    result = torch.zeros(max)\n",
        "    result[n] = 1.0\n",
        "    return result\n",
        "\n",
        "# one hot encodings for list of batch_numbers\n",
        "def make_sns_onehot(sns, sn_max):\n",
        "    one_hots = []\n",
        "    for el in sns:\n",
        "        sn = int(el.item())\n",
        "        one_hots.append(one_hot(sn, sn_max+1))\n",
        "    return torch.stack(one_hots)\n",
        "\n",
        "def train(model, dataloader, optimizer, loss_function, batch_number_max):\n",
        "    model.train()\n",
        "    running_loss = 0.0\n",
        "    print('Dataset length', len(dataloader.dataset))\n",
        "    for i, data in enumerate(dataloader):\n",
        "        optimizer.zero_grad()\n",
        "        \n",
        "        net_input = data['x']\n",
        "        batch_numbers_onehot = make_sns_onehot(data['s'], batch_number_max)\n",
        "        net_output = model(net_input.float(), batch_numbers_onehot)\n",
        "        loss = loss_function(net_input, net_output)\n",
        "\n",
        "        loss.backward()\n",
        "        optimizer.step()\n",
        "\n",
        "        running_loss += loss.item()\n",
        "    training_loss = running_loss / len(dataloader.dataset)\n",
        "    return training_loss\n",
        "\n",
        "def validate(model, dataloader, optimizer, loss_function, batch_number_max):\n",
        "    model.eval()\n",
        "    with torch.no_grad():\n",
        "        print('Dataset length', len(dataloader.dataset))\n",
        "        running_loss = 0.0\n",
        "        for i, data in enumerate(dataloader):\n",
        "\n",
        "            net_input = data['x']\n",
        "            batch_numbers_onehot = make_sns_onehot(data['s'], batch_number_max)\n",
        "            net_output = model(net_input.float(), batch_numbers_onehot)\n",
        "            loss = loss_function(net_input, net_output)\n",
        "\n",
        "            running_loss += loss.item()\n",
        "        validation_loss = running_loss / len(dataloader.dataset)\n",
        "        return validation_loss"
      ],
      "execution_count": 16,
      "outputs": []
    },
    {
      "cell_type": "markdown",
      "metadata": {
        "id": "0mz5YpOwQnpj"
      },
      "source": [
        "# Load data sets"
      ]
    },
    {
      "cell_type": "code",
      "metadata": {
        "id": "JzMNBS0YdkVp",
        "outputId": "9feb13ba-1482-4edf-fb46-7ad2b247ca1b",
        "colab": {
          "base_uri": "https://localhost:8080/",
          "height": 35
        }
      },
      "source": [
        "from google.colab import drive\n",
        "drive.mount('/content/gdrive')"
      ],
      "execution_count": 7,
      "outputs": [
        {
          "output_type": "stream",
          "text": [
            "Mounted at /content/gdrive\n"
          ],
          "name": "stdout"
        }
      ]
    },
    {
      "cell_type": "code",
      "metadata": {
        "id": "Kuz8d78xc7MZ"
      },
      "source": [
        "GAUSS_SIM = np.load('/content/gdrive/My Drive/uni_archive/cell_proj/experiments/experiment_outputs/simulated_gauss1_difficult1.npy')\n",
        "GAUSS_SIM_LABELS = np.load('/content/gdrive/My Drive/uni_archive/cell_proj/experiments/experiment_outputs/simulated_gauss1_labels2_difficult1.npy')\n",
        "GAUSS_SIM_BATCH_NUMBER = np.load('/content/gdrive/My Drive/uni_archive/cell_proj/experiments/experiment_outputs/simulated_gauss1_labels_difficult1.npy')\n",
        "batch_number_max = int(np.max(GAUSS_SIM_BATCH_NUMBER))"
      ],
      "execution_count": 8,
      "outputs": []
    },
    {
      "cell_type": "code",
      "metadata": {
        "id": "ZD8Xuqeec7Md"
      },
      "source": [
        "dataset = CellDataset(GAUSS_SIM, GAUSS_SIM_BATCH_NUMBER)\n",
        "train_set, val_set, test_set = torch.utils.data.random_split(dataset, [8000, 1000, 1000])"
      ],
      "execution_count": 9,
      "outputs": []
    },
    {
      "cell_type": "code",
      "metadata": {
        "id": "4O-Iu-8ac7Mf"
      },
      "source": [
        "minibatch_size = 32\n",
        "train_loader = DataLoader(train_set, batch_size=minibatch_size, shuffle=True)\n",
        "val_loader = DataLoader(val_set, batch_size=minibatch_size, shuffle=True)\n",
        "test_loader = DataLoader(test_set, batch_size=minibatch_size, shuffle=True)"
      ],
      "execution_count": 10,
      "outputs": []
    },
    {
      "cell_type": "code",
      "metadata": {
        "id": "JwYZMtfyc7Mi",
        "outputId": "2d469622-e3d4-44a7-ed6f-a853bae4e4df",
        "colab": {
          "base_uri": "https://localhost:8080/",
          "height": 589
        }
      },
      "source": [
        "representation_dimension = 2\n",
        "net = BasicAutoencoderIntegration(n_genes = dataset.n_genes, \n",
        "                                  h_dim1 = 200, \n",
        "                                  h_dim2 = 100,\n",
        "                                  z_dim = representation_dimension,\n",
        "                                  batch_id_max = batch_number_max,\n",
        "                                  dropout_rate=0.7)\n",
        "loss_function = nn.MSELoss(reduction = 'sum')\n",
        "optimizer = torch.optim.Adam(net.parameters())\n",
        "\n",
        "epoch = 0\n",
        "best_val_loss = 10e10\n",
        "stopEpochs = False\n",
        "\n",
        "history_epochs = []\n",
        "history_train = []\n",
        "history_val = []\n",
        "for epoch_i in range(5):\n",
        "    epoch += 1\n",
        "    print('Epoch', epoch)\n",
        "    train_loss = train(net, train_loader, optimizer, loss_function, batch_number_max)\n",
        "    print('Train loss', train_loss)\n",
        "    val_loss = validate(net, val_loader, optimizer, loss_function, batch_number_max)\n",
        "    print('Val loss', val_loss)\n",
        "    if val_loss < best_val_loss:\n",
        "        best_val_loss = val_loss\n",
        "    else:\n",
        "        print('Not better tha', best_val_loss)\n",
        "        stopEpochs = True\n",
        "        \n",
        "    history_epochs.append(epoch)\n",
        "    history_train.append(train_loss)\n",
        "    history_val.append(val_loss)\n",
        "    \n",
        "test_loss = validate(net, test_loader, optimizer, loss_function, batch_number_max)\n",
        "print('Test loss:', test_loss)"
      ],
      "execution_count": 17,
      "outputs": [
        {
          "output_type": "stream",
          "text": [
            "500\n",
            "Epoch 1\n",
            "Dataset length 8000\n",
            "Train loss 430709234328.5659\n",
            "Dataset length 1000\n",
            "Val loss 453455863853.60376\n",
            "Not better tha 100000000000.0\n",
            "Epoch 2\n",
            "Dataset length 8000\n",
            "Train loss 390853480894.6759\n",
            "Dataset length 1000\n",
            "Val loss 447752945774.84326\n",
            "Not better tha 100000000000.0\n",
            "Epoch 3\n",
            "Dataset length 8000\n",
            "Train loss 366257203603.8733\n",
            "Dataset length 1000\n",
            "Val loss 468144832257.07\n",
            "Not better tha 100000000000.0\n",
            "Epoch 4\n",
            "Dataset length 8000\n",
            "Train loss 357766352779.1045\n",
            "Dataset length 1000\n",
            "Val loss 454004389134.2748\n",
            "Not better tha 100000000000.0\n",
            "Epoch 5\n",
            "Dataset length 8000\n",
            "Train loss 362357818900.3647\n",
            "Dataset length 1000\n",
            "Val loss 439763202953.53754\n",
            "Not better tha 100000000000.0\n",
            "Dataset length 1000\n",
            "Test loss: 451637855909.3876\n"
          ],
          "name": "stdout"
        }
      ]
    },
    {
      "cell_type": "code",
      "metadata": {
        "id": "6YzNkXVTc7Ml",
        "outputId": "16540971-8fc1-44be-d32e-79740531970f",
        "colab": {
          "base_uri": "https://localhost:8080/",
          "height": 313
        }
      },
      "source": [
        "import matplotlib.pyplot as plt\n",
        "plt.ylabel('MSE loss')\n",
        "plt.xlabel('Epochs')\n",
        "plt.title('Experiment 1')\n",
        "plt.axhline(y=7668, color='r', linestyle='-', label='Test ' + str(int(test_loss)))\n",
        "plt.plot(history_epochs,history_train, label='Train')\n",
        "plt.plot(history_epochs,history_val, label='Validation')\n",
        "plt.legend()\n",
        "#plt.savefig('./experiment_plots/exp.2.1.simulated_history.png')"
      ],
      "execution_count": 21,
      "outputs": [
        {
          "output_type": "execute_result",
          "data": {
            "text/plain": [
              "<matplotlib.legend.Legend at 0x7f5183a542b0>"
            ]
          },
          "metadata": {
            "tags": []
          },
          "execution_count": 21
        },
        {
          "output_type": "display_data",
          "data": {
            "image/png": "[encoded data removed]",
            "text/plain": [
              "<Figure size 432x288 with 1 Axes>"
            ]
          },
          "metadata": {
            "tags": [],
            "needs_background": "light"
          }
        }
      ]
    },
    {
      "cell_type": "code",
      "metadata": {
        "id": "sA8gOf3Tc7Mn"
      },
      "source": [
        "y_one_hot = make_sns_onehot(GAUSS_SIM_BATCH_NUMBER, batch_number_max)"
      ],
      "execution_count": 19,
      "outputs": []
    },
    {
      "cell_type": "code",
      "metadata": {
        "id": "K9aghrkJc7Mq",
        "outputId": "658b9074-cdbd-4a6a-8246-3cdd3475d114",
        "colab": {
          "base_uri": "https://localhost:8080/",
          "height": 281
        }
      },
      "source": [
        "X_tensor = torch.tensor(GAUSS_SIM)\n",
        "net.eval()\n",
        "X_encoded = None\n",
        "with torch.no_grad():\n",
        "    X_encoded = net.encode(X_tensor.float(), y_one_hot)\n",
        "X_encoded_x = X_encoded[:,0].numpy()\n",
        "X_encoded_y = X_encoded[:,1].numpy()\n",
        "plt.title('Integration Autoencoder with d = 2, dropout 0.5 on GAUSS_SIM')\n",
        "plt.scatter(X_encoded_x[:7000], X_encoded_y[:7000], c=GAUSS_SIM_LABELS[:7000], marker='o')\n",
        "plt.scatter(X_encoded_x[7000:], X_encoded_y[7000:], c=GAUSS_SIM_LABELS[7000:], marker='^')\n",
        "plt.savefig('/content/gdrive/My Drive/Colab Notebooks/Colab Cell Experiments/plots/exp.2.2.gauss_sim_d2_dropout0.5.png')"
      ],
      "execution_count": 20,
      "outputs": [
        {
          "output_type": "display_data",
          "data": {
            "image/png": "[encoded data removed]",
            "text/plain": [
              "<Figure size 432x288 with 1 Axes>"
            ]
          },
          "metadata": {
            "tags": [],
            "needs_background": "light"
          }
        }
      ]
    },
    {
      "cell_type": "code",
      "metadata": {
        "id": "s4C1gQJwc7Mt"
      },
      "source": [
        ""
      ],
      "execution_count": null,
      "outputs": []
    }
  ]
}