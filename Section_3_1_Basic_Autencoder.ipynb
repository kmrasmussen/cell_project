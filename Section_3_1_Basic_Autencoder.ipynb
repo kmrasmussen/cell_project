{
  "nbformat": 4,
  "nbformat_minor": 0,
  "metadata": {
    "kernelspec": {
      "display_name": "Python 3",
      "language": "python",
      "name": "python3"
    },
    "language_info": {
      "codemirror_mode": {
        "name": "ipython",
        "version": 3
      },
      "file_extension": ".py",
      "mimetype": "text/x-python",
      "name": "python",
      "nbconvert_exporter": "python",
      "pygments_lexer": "ipython3",
      "version": "3.8.5"
    },
    "colab": {
      "name": "Section 3.1 - Basic Autencoder",
      "provenance": [],
      "collapsed_sections": [],
      "include_colab_link": true
    }
  },
  "cells": [
    {
      "cell_type": "markdown",
      "metadata": {
        "id": "view-in-github",
        "colab_type": "text"
      },
      "source": [
        "<a href=\"https://colab.research.google.com/github/kmrasmussen/cell_project/blob/main/Section_3_1_Basic_Autencoder.ipynb\" target=\"_parent\"><img src=\"https://colab.research.google.com/assets/colab-badge.svg\" alt=\"Open In Colab\"/></a>"
      ]
    },
    {
      "cell_type": "code",
      "metadata": {
        "id": "FyH6kOIbxirO",
        "outputId": "d0993183-58b3-449a-c909-d222db8e0e15",
        "colab": {
          "base_uri": "https://localhost:8080/",
          "height": 35
        }
      },
      "source": [
        "from google.colab import drive\n",
        "drive.mount('/content/gdrive')"
      ],
      "execution_count": null,
      "outputs": [
        {
          "output_type": "stream",
          "text": [
            "Mounted at /content/gdrive\n"
          ],
          "name": "stdout"
        }
      ]
    },
    {
      "cell_type": "code",
      "metadata": {
        "id": "MT0JadQiZ164"
      },
      "source": [
        "import numpy as np\n",
        "import torch\n",
        "from torch.utils.data import DataLoader, Dataset\n",
        "import torch.nn as nn\n",
        "import torch.nn.functional as F\n",
        "import matplotlib.pyplot as plt\n",
        "\n",
        "class CellDataset(Dataset):\n",
        "    def __init__(self, numpy_matrix):\n",
        "        self.X = torch.from_numpy(numpy_matrix)\n",
        "        self.n_genes = self.X.shape[1]\n",
        "        # Library sizes for each cell\n",
        "        self.cell_library_sizes = torch.sum(self.X, dim = 1)\n",
        "\n",
        "    def __len__(self):\n",
        "        return self.X.shape[0]\n",
        "\n",
        "    def __getitem__(self, idx):\n",
        "        return {'x': self.X[idx], 'l': self.cell_library_sizes[idx]}\n",
        "\n",
        "class BasicAutoencoder(nn.Module):\n",
        "    def __init__(self, n_genes, h_dim1, h_dim2,  z_dim):\n",
        "        super(BasicAutoencoder, self).__init__()\n",
        "        print(n_genes)\n",
        "        # encoder layers\n",
        "        self.encode1 = nn.Linear(n_genes, h_dim1)\n",
        "        self.encode2 = nn.Linear(h_dim1, h_dim2)\n",
        "        self.encode3 = nn.Linear(h_dim2, z_dim)\n",
        "        # decoder layers\n",
        "        self.decode1 = nn.Linear(z_dim, h_dim2)\n",
        "        self.decode2 = nn.Linear(h_dim2, h_dim1)\n",
        "        self.decode3 = nn.Linear(h_dim1, n_genes)\n",
        "    \n",
        "    def encode(self, x):\n",
        "        x = F.relu(self.encode1(x))\n",
        "        x = F.relu(self.encode2(x))\n",
        "        x = self.encode3(x)\n",
        "        return x\n",
        "    \n",
        "    def decode(self, x):\n",
        "        x = F.relu(self.decode1(x))\n",
        "        x = F.relu(self.decode2(x))\n",
        "        x = self.decode3(x)\n",
        "        return x\n",
        "    \n",
        "    def forward(self, x):\n",
        "        return self.decode(self.encode(x))"
      ],
      "execution_count": null,
      "outputs": []
    },
    {
      "cell_type": "code",
      "metadata": {
        "id": "riIvhDm0IyxV"
      },
      "source": [
        ""
      ],
      "execution_count": null,
      "outputs": []
    },
    {
      "cell_type": "markdown",
      "metadata": {
        "id": "pz2mcjXgI0qO"
      },
      "source": [
        "# Data sets"
      ]
    },
    {
      "cell_type": "code",
      "metadata": {
        "id": "xTq4j67XZ168"
      },
      "source": [
        "X = np.load('/content/gdrive/My Drive/uni_archive/cell/immune_control_subsampled_alone.npy')\n",
        "GAUSS_SIM = np.load('/content/gdrive/My Drive/uni_archive/cell_proj/experiments/experiment_outputs/simulated_gauss1_difficult1.npy')\n",
        "GAUSS_SIM_LABELS = np.load('/content/gdrive/My Drive/uni_archive/cell_proj/experiments/experiment_outputs/simulated_gauss1_labels2_difficult1.npy')"
      ],
      "execution_count": null,
      "outputs": []
    },
    {
      "cell_type": "code",
      "metadata": {
        "id": "uBhc_-HCZ17K"
      },
      "source": [
        "dataset = CellDataset(X)"
      ],
      "execution_count": null,
      "outputs": []
    },
    {
      "cell_type": "code",
      "metadata": {
        "id": "Xnuitt7dZ17N"
      },
      "source": [
        "train_set, val_set, test_set = torch.utils.data.random_split(dataset, [9000, 3000, 1019]) # 9000, 3000, 1019"
      ],
      "execution_count": null,
      "outputs": []
    },
    {
      "cell_type": "code",
      "metadata": {
        "id": "SGFbp8d3Z17P"
      },
      "source": [
        "minibatch_size = 32\n",
        "train_loader = DataLoader(train_set, batch_size=minibatch_size, shuffle=True)\n",
        "val_loader = DataLoader(val_set, batch_size=minibatch_size, shuffle=True)\n",
        "test_loader = DataLoader(test_set, batch_size=minibatch_size, shuffle=True)"
      ],
      "execution_count": null,
      "outputs": []
    },
    {
      "cell_type": "markdown",
      "metadata": {
        "id": "oQCTNWSII5il"
      },
      "source": [
        "# Training"
      ]
    },
    {
      "cell_type": "code",
      "metadata": {
        "id": "P9Q_aURGZ17U"
      },
      "source": [
        "def train(model, dataloader, optimizer, loss_function):\n",
        "    model.train()\n",
        "    running_loss = 0.0\n",
        "    # Move through all the cells with minibatches\n",
        "    for i, data in enumerate(dataloader):\n",
        "        optimizer.zero_grad()  \n",
        "        # Get the cell counts\n",
        "        net_input = data['x']\n",
        "        # Autoencode\n",
        "        net_output = model(net_input.float())\n",
        "        # Compute loss difference between input cells and autoencoded cells\n",
        "        loss = loss_function(net_input, net_output)\n",
        "        # Backpropagate and adjust weights\n",
        "        loss.backward()\n",
        "        optimizer.step()\n",
        "        running_loss += loss.item()\n",
        "    training_loss = running_loss / len(dataloader.dataset)\n",
        "    return training_loss\n",
        "\n",
        "# Validate is same as train but without adjusting weights\n",
        "def validate(model, dataloader, optimizer, loss_function):\n",
        "    model.eval()\n",
        "    with torch.no_grad():\n",
        "        running_loss = 0.0\n",
        "        for i, data in enumerate(dataloader):\n",
        "            net_input = data['x']\n",
        "            net_output = model(net_input.float())\n",
        "            loss = loss_function(net_input, net_output)\n",
        "            running_loss += loss.item()\n",
        "        validation_loss = running_loss / len(dataloader.dataset)\n",
        "        return validation_loss"
      ],
      "execution_count": null,
      "outputs": []
    },
    {
      "cell_type": "code",
      "metadata": {
        "id": "ogiao8WkZ17W",
        "outputId": "6be8c30b-e705-407e-8ed7-00db42cf80a0",
        "colab": {
          "base_uri": "https://localhost:8080/",
          "height": 641
        }
      },
      "source": [
        "# Make autoencoder with desired architecture\n",
        "net = BasicAutoencoder(dataset.n_genes, h_dim1 = 1000, h_dim2=200, z_dim=20)\n",
        "loss_function = torch.nn.MSELoss(reduction = 'sum')\n",
        "optimizer = torch.optim.Adam(net.parameters(), lr=0.001)\n",
        "\n",
        "history_epochs = []\n",
        "history_train = []\n",
        "history_val = []\n",
        "n_epochs = 10\n",
        "# Train for a number of epochs\n",
        "for epoch_i in range(n_epochs):\n",
        "    print('Epoch', epoch_i)\n",
        "    train_loss = train(net, train_loader, optimizer, loss_function)\n",
        "    print('Train loss', train_loss)\n",
        "    val_loss = validate(net, val_loader, optimizer, loss_function)\n",
        "    print('Val loss', val_loss)\n",
        "    history_epochs.append(epoch_i)\n",
        "    history_train.append(train_loss)\n",
        "    history_val.append(val_loss)\n",
        "    \n",
        "test_loss = validate(net, test_loader, optimizer, loss_function)\n",
        "print('Test loss:', test_loss)"
      ],
      "execution_count": null,
      "outputs": [
        {
          "output_type": "stream",
          "text": [
            "4000\n",
            "Epoch 1\n",
            "Train loss 20375.622361545138\n",
            "Val loss 39592.47049283854\n",
            "Epoch 2\n",
            "Train loss 22799.67225434028\n",
            "Val loss 41274.46894140625\n",
            "Not better tha 39592.47049283854\n",
            "Epoch 3\n",
            "Train loss 22271.828688802085\n",
            "Val loss 13095.043595052084\n",
            "Epoch 4\n",
            "Train loss 9995.516281358507\n",
            "Val loss 36207.12515755208\n",
            "Not better tha 13095.043595052084\n",
            "Epoch 5\n",
            "Train loss 10954.14424435764\n",
            "Val loss 2632.415803385417\n",
            "Epoch 6\n",
            "Train loss 2363.1876685112848\n",
            "Val loss 1975.965953125\n",
            "Epoch 7\n",
            "Train loss 1896.8291146918402\n",
            "Val loss 1824.0576126302083\n",
            "Epoch 8\n",
            "Train loss 2135.6446526692707\n",
            "Val loss 1951.6511910807292\n",
            "Not better tha 1824.0576126302083\n",
            "Epoch 9\n",
            "Train loss 1734.5162915039064\n",
            "Val loss 1806.5050387369793\n",
            "Epoch 10\n",
            "Train loss 8890.695299913194\n",
            "Val loss 2639.805196614583\n",
            "Not better tha 1806.5050387369793\n",
            "Test loss: 2023.7458656618007\n"
          ],
          "name": "stdout"
        }
      ]
    },
    {
      "cell_type": "markdown",
      "metadata": {
        "id": "90ThFuxIFhKL"
      },
      "source": [
        "# History"
      ]
    },
    {
      "cell_type": "code",
      "metadata": {
        "id": "-L-rTkmjZ17Y",
        "outputId": "c48dddf2-bf74-462c-e710-6babb38ddcc7",
        "colab": {
          "base_uri": "https://localhost:8080/",
          "height": 313
        }
      },
      "source": [
        "plt.ylabel('MSE loss')\n",
        "plt.xlabel('Epochs')\n",
        "plt.title('History for Basic Autoencoder to d = 20 on IMMUNE')\n",
        "plt.plot(history_epochs,history_train, label='Train')\n",
        "plt.plot(history_epochs,history_val, label='Validation')\n",
        "plt.axhline(y=test_loss, color='r', linestyle='-', label='Test ' + str(int(test_loss)))\n",
        "plt.legend()"
      ],
      "execution_count": null,
      "outputs": [
        {
          "output_type": "execute_result",
          "data": {
            "text/plain": [
              "<matplotlib.legend.Legend at 0x7f999eaa8710>"
            ]
          },
          "metadata": {
            "tags": []
          },
          "execution_count": 46
        },
        {
          "output_type": "display_data",
          "data": {
            "image/png": "[encoded data removed]",
            "text/plain": [
              "<Figure size 432x288 with 1 Axes>"
            ]
          },
          "metadata": {
            "tags": [],
            "needs_background": "light"
          }
        }
      ]
    },
    {
      "cell_type": "markdown",
      "metadata": {
        "id": "Auuej8cQFesL"
      },
      "source": [
        "# Scatter plots of cells"
      ]
    },
    {
      "cell_type": "code",
      "metadata": {
        "id": "5tBxaaEVZ17b"
      },
      "source": [
        "X_encoded = net.encode(torch.tensor(X).float()).detach()"
      ],
      "execution_count": null,
      "outputs": []
    },
    {
      "cell_type": "code",
      "metadata": {
        "id": "2BA8bT7c_7OG",
        "outputId": "d6e0d4ac-a30c-44d8-b9f9-c873bee28b9d",
        "colab": {
          "base_uri": "https://localhost:8080/",
          "height": 299
        }
      },
      "source": [
        "plt.title('Basic Autoencoder to d = 20 on GAUSS_SIM')\n",
        "plt.scatter(X_encoded[:,0], X_encoded[:,1])\n",
        "#plt.scatter(X_encoded[:7000][:,0], X_encoded[:7000][:,1], c=GAUSS_SIM_LABELS[:7000], marker='o', s=10, alpha=0.4)\n",
        "#plt.scatter(X_encoded[7000:][:,0], X_encoded[7000:][:,1], c=GAUSS_SIM_LABELS[7000:], marker='^', s=10, alpha=0.4)\n",
        "#plt.savefig('/content/gdrive/My Drive/Colab Notebooks/Colab Cell Experiments/plots/exp.2.1.gauss_sim_basicautoencoder_d2_plot.png')"
      ],
      "execution_count": null,
      "outputs": [
        {
          "output_type": "execute_result",
          "data": {
            "text/plain": [
              "<matplotlib.collections.PathCollection at 0x7f999e0c6d30>"
            ]
          },
          "metadata": {
            "tags": []
          },
          "execution_count": 48
        },
        {
          "output_type": "display_data",
          "data": {
            "image/png": "[encoded data removed]",
            "text/plain": [
              "<Figure size 432x288 with 1 Axes>"
            ]
          },
          "metadata": {
            "tags": [],
            "needs_background": "light"
          }
        }
      ]
    },
    {
      "cell_type": "code",
      "metadata": {
        "id": "1G0SUzQI2S-i"
      },
      "source": [
        "from sklearn.decomposition import PCA"
      ],
      "execution_count": null,
      "outputs": []
    },
    {
      "cell_type": "code",
      "metadata": {
        "id": "PtQaIEr32QxL",
        "outputId": "8c6868e1-8d69-4089-fdea-e97544654b6c",
        "colab": {
          "base_uri": "https://localhost:8080/",
          "height": 35
        }
      },
      "source": [
        "pca = PCA(n_components=2)\n",
        "pca.fit(X_encoded)\n",
        "print('Explained variance ratios', pca.explained_variance_ratio_)\n",
        "X_encoded_pca = pca.transform(X_encoded)"
      ],
      "execution_count": null,
      "outputs": [
        {
          "output_type": "stream",
          "text": [
            "Explained variance ratios [0.6785199  0.20293801]\n"
          ],
          "name": "stdout"
        }
      ]
    },
    {
      "cell_type": "code",
      "metadata": {
        "id": "uxwXUWlm2Yym",
        "outputId": "fe7a7d46-17da-4c04-df75-5e66b88753bf",
        "colab": {
          "base_uri": "https://localhost:8080/",
          "height": 283
        }
      },
      "source": [
        "plt.scatter(X_encoded_pca[:,0], X_encoded_pca[:,1])"
      ],
      "execution_count": null,
      "outputs": [
        {
          "output_type": "execute_result",
          "data": {
            "text/plain": [
              "<matplotlib.collections.PathCollection at 0x7f999e2feba8>"
            ]
          },
          "metadata": {
            "tags": []
          },
          "execution_count": 51
        },
        {
          "output_type": "display_data",
          "data": {
            "image/png": "[encoded data removed]",
            "text/plain": [
              "<Figure size 432x288 with 1 Axes>"
            ]
          },
          "metadata": {
            "tags": [],
            "needs_background": "light"
          }
        }
      ]
    },
    {
      "cell_type": "code",
      "metadata": {
        "id": "FqZR3HIs0xnC"
      },
      "source": [
        "import umap"
      ],
      "execution_count": null,
      "outputs": []
    },
    {
      "cell_type": "code",
      "metadata": {
        "id": "cyNMwXTU0zga"
      },
      "source": [
        "reducer = umap.UMAP()\n",
        "X_encoded_umap = reducer.fit_transform(X_encoded)"
      ],
      "execution_count": null,
      "outputs": []
    },
    {
      "cell_type": "code",
      "metadata": {
        "id": "-4LHoNur1FjY",
        "outputId": "5c291a38-f6e9-4029-87f3-6a780d4461b5",
        "colab": {
          "base_uri": "https://localhost:8080/",
          "height": 299
        }
      },
      "source": [
        "plt.title('UMAP of Basic Autoencoder d = 20 on IMMUNE')\n",
        "plt.scatter(X_encoded_umap[:,0], X_encoded_umap[:,1])\n",
        "#plt.savefig('/content/gdrive/My Drive/Colab Notebooks/Colab Cell Experiments/plots/exp.2.1_basic_autoencoder_d20_umap_b.png')"
      ],
      "execution_count": null,
      "outputs": [
        {
          "output_type": "execute_result",
          "data": {
            "text/plain": [
              "<matplotlib.collections.PathCollection at 0x7f999ebc5e48>"
            ]
          },
          "metadata": {
            "tags": []
          },
          "execution_count": 54
        },
        {
          "output_type": "display_data",
          "data": {
            "image/png": "[encoded data removed]",
            "text/plain": [
              "<Figure size 432x288 with 1 Axes>"
            ]
          },
          "metadata": {
            "tags": [],
            "needs_background": "light"
          }
        }
      ]
    },
    {
      "cell_type": "code",
      "metadata": {
        "id": "lwGMJapy1Lvl"
      },
      "source": [
        ""
      ],
      "execution_count": null,
      "outputs": []
    }
  ]
}