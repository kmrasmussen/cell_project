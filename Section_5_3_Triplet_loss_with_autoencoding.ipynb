{
  "nbformat": 4,
  "nbformat_minor": 0,
  "metadata": {
    "colab": {
      "name": "Section 5.3 - Triplet loss with autoencoding",
      "provenance": [],
      "collapsed_sections": [],
      "authorship_tag": "ABX9TyPzMTOs/MKQz5kmV30OwRVc",
      "include_colab_link": true
    },
    "kernelspec": {
      "name": "python3",
      "display_name": "Python 3"
    }
  },
  "cells": [
    {
      "cell_type": "markdown",
      "metadata": {
        "id": "view-in-github",
        "colab_type": "text"
      },
      "source": [
        "<a href=\"https://colab.research.google.com/github/kmrasmussen/cell_project/blob/main/Section_5_3_Triplet_loss_with_autoencoding.ipynb\" target=\"_parent\"><img src=\"https://colab.research.google.com/assets/colab-badge.svg\" alt=\"Open In Colab\"/></a>"
      ]
    },
    {
      "cell_type": "code",
      "metadata": {
        "id": "HUBeddGsCUFz",
        "outputId": "2b3f841b-1af3-45a0-ad64-fea66a8597bd",
        "colab": {
          "base_uri": "https://localhost:8080/",
          "height": 35
        }
      },
      "source": [
        "from google.colab import drive\n",
        "drive.mount('/content/gdrive')"
      ],
      "execution_count": null,
      "outputs": [
        {
          "output_type": "stream",
          "text": [
            "Mounted at /content/gdrive\n"
          ],
          "name": "stdout"
        }
      ]
    },
    {
      "cell_type": "code",
      "metadata": {
        "id": "rRtHM8qQCejZ"
      },
      "source": [
        "import numpy as np\n",
        "import torch\n",
        "import torch.nn as nn\n",
        "import torch.nn.functional as F\n",
        "from torch.utils.data import DataLoader, Dataset\n",
        "import torch.optim as optim\n",
        "from sklearn.neighbors import NearestNeighbors\n",
        "import matplotlib.pyplot as plt\n",
        "import umap\n",
        "from sklearn.decomposition import PCA"
      ],
      "execution_count": null,
      "outputs": []
    },
    {
      "cell_type": "code",
      "metadata": {
        "id": "ihvBxxriCfh9"
      },
      "source": [
        "X = np.load('/content/gdrive/My Drive/uni_archive/cell_proj/experiments/experiment_outputs/simulated_gauss1_difficult1.npy')\n",
        "y = np.load('/content/gdrive/My Drive/uni_archive/cell_proj/experiments/experiment_outputs/simulated_gauss1_labels_difficult1.npy')\n",
        "y2 = np.load('/content/gdrive/My Drive/uni_archive/cell_proj/experiments/experiment_outputs/simulated_gauss1_labels2_difficult1.npy')"
      ],
      "execution_count": null,
      "outputs": []
    },
    {
      "cell_type": "code",
      "metadata": {
        "id": "EJGEgkWtC_2D"
      },
      "source": [
        "batch1 = X[0:7000]\n",
        "batch1_y2 = y2[0:7000]"
      ],
      "execution_count": null,
      "outputs": []
    },
    {
      "cell_type": "code",
      "metadata": {
        "id": "Diy7VJFeD0II"
      },
      "source": [
        "batch2 = X[7000:]\n",
        "batch2_y2 = y2[7000:]"
      ],
      "execution_count": null,
      "outputs": []
    },
    {
      "cell_type": "code",
      "metadata": {
        "id": "yGb2av00D1j7"
      },
      "source": [
        "k = 5\n",
        "b1_nbrs = NearestNeighbors(n_neighbors=k, algorithm='ball_tree').fit(batch1)\n",
        "b2_nbrs = NearestNeighbors(n_neighbors=k, algorithm='ball_tree').fit(batch2)\n",
        "both_batches_nbrs = NearestNeighbors(n_neighbors=k, algorithm='ball_tree').fit(X)"
      ],
      "execution_count": null,
      "outputs": []
    },
    {
      "cell_type": "code",
      "metadata": {
        "id": "b92JwbhID-Gn"
      },
      "source": [
        "_, indices_knearest_b2_in_b1 = b1_nbrs.kneighbors(batch2)\n",
        "_, indices_knearest_b1_in_b2 = b2_nbrs.kneighbors(batch1)"
      ],
      "execution_count": null,
      "outputs": []
    },
    {
      "cell_type": "code",
      "metadata": {
        "id": "_VcM8cbfEDiB"
      },
      "source": [
        "def find_mnns(knearest_in_batch_2, knearest_in_batch_1):\n",
        "    mnns = []\n",
        "    # Go through each cell in batch 1 where you know its NN in batch 2\n",
        "    for i in range(knearest_in_batch_2.shape[0]):\n",
        "        # Select the batch 2 NNs for that batch 1 cell\n",
        "        knearest_a = knearest_in_batch_2[i,:]\n",
        "        # Go through all its NNs\n",
        "        for j in knearest_a:\n",
        "            # Does the NN in batch 2 also have this batch 1 cell as one of its NNs?\n",
        "            if i in knearest_in_batch_1[j,:]:\n",
        "                #i_vec = batch_1_with_effect[i,:]\n",
        "                #j_vec = batch_2_with_effect[j,:]\n",
        "                #cos_dist = distance.cosine(i_vec, j_vec)\n",
        "                mnns.append((i,j))\n",
        "    return mnns"
      ],
      "execution_count": null,
      "outputs": []
    },
    {
      "cell_type": "code",
      "metadata": {
        "id": "EqJR21AIELYp"
      },
      "source": [
        "all_mnns = find_mnns(indices_knearest_b1_in_b2, indices_knearest_b2_in_b1)"
      ],
      "execution_count": null,
      "outputs": []
    },
    {
      "cell_type": "code",
      "metadata": {
        "id": "FdAVkrHQFmaF"
      },
      "source": [
        "batch2_mnn_dict = {}\n",
        "batch1_mnn_dict = {}\n",
        "for batch1_cell, batch2_cell in all_mnns:\n",
        "  if batch2_cell in batch2_mnn_dict:\n",
        "    batch2_mnn_dict[batch2_cell].append(batch1_cell)\n",
        "  else:\n",
        "    batch2_mnn_dict[batch2_cell] = [batch1_cell]\n",
        "  \n",
        "  if batch1_cell in batch1_mnn_dict:\n",
        "    batch1_mnn_dict[batch1_cell].append(batch2_cell)\n",
        "  else:\n",
        "    batch1_mnn_dict[batch1_cell] = [batch2_cell]"
      ],
      "execution_count": null,
      "outputs": []
    },
    {
      "cell_type": "code",
      "metadata": {
        "id": "6j3wfuuPEp0e"
      },
      "source": [
        "class TripletCellDataset(Dataset):\n",
        "  def __init__(self, both_batches, batch1, batch2, batch1_mnn_dict, batch2_mnn_dict, positive_sample_mode = 'other'):\n",
        "    assert positive_sample_mode == 'other' or positive_sample_mode == 'all'\n",
        "    self.X = both_batches\n",
        "    self.b1 = batch1\n",
        "    self.b2 = batch2\n",
        "    self.b1_mnns = batch1_mnn_dict\n",
        "    self.b2_mnns = batch2_mnn_dict\n",
        "    self.positive_sample_mode = positive_sample_mode\n",
        "\n",
        "  def make_one_hot(self, x):\n",
        "    one_hot = torch.zeros(2)\n",
        "    one_hot[x - 1] = 1.\n",
        "    return one_hot\n",
        "    \n",
        "  def __len__(self):\n",
        "    return self.b1.shape[0] + self.b2.shape[0]\n",
        "\n",
        "  def __getitem__(self, idx):\n",
        "    anchor_batch_number = None\n",
        "    positive_batch_number = None\n",
        "    negative_batch_number = None\n",
        "    anchor_batch = None\n",
        "    anchor_id = None\n",
        "    anchor = None\n",
        "    positive_id = None\n",
        "    positive = None\n",
        "    negative_id = None\n",
        "    negative = None\n",
        "    if idx < self.b1.shape[0]:\n",
        "      anchor_batch_number = 1\n",
        "      negative_batch_number = 2\n",
        "      anchor_batch = self.b1\n",
        "      anchor_id = idx\n",
        "      anchor = self.b1[anchor_id]\n",
        "      if anchor_id in self.b1_mnns:\n",
        "        positive_batch_number = 2\n",
        "        anchor_mnns = np.array(self.b1_mnns[anchor_id])\n",
        "        #print('Yay', anchor_id, ' in B1 has mnns', anchor_mnns)\n",
        "        #print('labels', batch2_y2.take(anchor_mnns))\n",
        "        #print('Anchor label', batch1_y2[anchor_id])\n",
        "        positive_id = np.random.choice(anchor_mnns)\n",
        "        positive = self.b2[positive_id]\n",
        "      else:\n",
        "        #print('Oops', anchor_id, ' in B1 does not have mnns')\n",
        "        if self.positive_sample_mode == 'all':\n",
        "          _, indices = both_batches_nbrs.kneighbors(batch1[anchor_id:anchor_id + 1])\n",
        "          #print('K nearest in B2 to anchor', anchor_id, ' in B1', indices)\n",
        "          positive_id = np.random.choice(indices[0])\n",
        "          positive = self.X[positive_id]\n",
        "          if positive_id < self.b1.shape[0]:\n",
        "            positive_batch_number = 1\n",
        "          else:\n",
        "            positive_batch_number = 2\n",
        "        elif self.positive_sample_mode == 'other':\n",
        "          positive_batch_number = 2\n",
        "          _, indices = b2_nbrs.kneighbors(batch1[anchor_id:anchor_id + 1])\n",
        "          positive_id = np.random.choice(indices[0])\n",
        "          positive = self.b2[positive_id]\n",
        "      #print('Positive id', positive_id)\n",
        "      negative_id = np.random.randint(self.b1.shape[0])\n",
        "      negative = self.b1[negative_id]\n",
        "      #print('Choosing negative randomly', negative_id)\n",
        "    else:\n",
        "      anchor_batch_number = 2\n",
        "      negative_batch_number = 1\n",
        "      anchor_batch = self.b2\n",
        "      anchor_id = idx - self.b1.shape[0]\n",
        "      anchor = self.b2[anchor_id]\n",
        "      if anchor_id in self.b2_mnns:\n",
        "        positive_batch_number = 1\n",
        "        anchor_mnns = np.array(self.b2_mnns[anchor_id])\n",
        "        #print('Yay', anchor_id, ' in B2 has mnns', anchor_mnns, 'labels', batch1_y2.take(anchor_mnns))\n",
        "        #print('Anchor label', batch2_y2[anchor_id])\n",
        "        positive_id = np.random.choice(anchor_mnns)\n",
        "        positive = self.b1[positive_id]\n",
        "      else:\n",
        "        if self.positive_sample_mode == 'all':\n",
        "          #print('Oops', anchor_id, ' in B2 does not have mnns')\n",
        "          _, indices = both_batches_nbrs.kneighbors(batch2[anchor_id:anchor_id + 1])\n",
        "          #print('K nearest in B1 to anchor', anchor_id, ' in B2', indices)\n",
        "          positive_id = np.random.choice(indices[0])\n",
        "          positive = self.X[positive_id]\n",
        "          if positive_id < self.b1.shape[0]:\n",
        "            positive_batch_number = 1\n",
        "          else:\n",
        "            positive_batch_number = 2\n",
        "        elif self.positive_sample_mode == 'other':\n",
        "          positive_batch_number = 1\n",
        "          _, indices = b1_nbrs.kneighbors(batch2[anchor_id:anchor_id + 1])\n",
        "          positive_id = np.random.choice(indices[0])\n",
        "          positive = self.b1[positive_id]\n",
        "      #print('Positive id', positive_id)\n",
        "      negative_id = np.random.randint(self.b2.shape[0])\n",
        "      negative = self.b2[negative_id]\n",
        "      #print('Choosing negative randomly', negative_id)\n",
        "    # batch_number, anchor_id, anchor, positive_id, positive, negative_id, negative\n",
        "    return anchor, positive, negative, self.make_one_hot(anchor_batch_number), self.make_one_hot(positive_batch_number), self.make_one_hot(negative_batch_number)\n"
      ],
      "execution_count": null,
      "outputs": []
    },
    {
      "cell_type": "code",
      "metadata": {
        "id": "FK7mJo3XEw-Q"
      },
      "source": [
        "sim_dataset = TripletCellDataset(X, batch1, batch2, batch1_mnn_dict, batch2_mnn_dict, positive_sample_mode='other')"
      ],
      "execution_count": null,
      "outputs": []
    },
    {
      "cell_type": "code",
      "metadata": {
        "id": "jvxPY3h6Ou-V"
      },
      "source": [
        "minibatch_size = 32\n",
        "train_set, val_set, test_set = torch.utils.data.random_split(sim_dataset, [7000, 2000, 1000])\n",
        "train_loader = DataLoader(train_set, batch_size=minibatch_size, shuffle=True)\n",
        "val_loader = DataLoader(val_set, batch_size=minibatch_size, shuffle=True)\n",
        "test_loader = DataLoader(test_set, batch_size=minibatch_size, shuffle=True)"
      ],
      "execution_count": null,
      "outputs": []
    },
    {
      "cell_type": "code",
      "metadata": {
        "id": "vBBIIrwPTzsh"
      },
      "source": [
        "class TripletNet(nn.Module):\n",
        "  def __init__(self, input_dim, hidden_dim, rep_dim):\n",
        "    super().__init__()\n",
        "    self.dense1 = nn.Linear(in_features = input_dim, out_features = hidden_dim)\n",
        "    self.dense2 = nn.Linear(in_features = hidden_dim, out_features = rep_dim)\n",
        "\n",
        "    # reconstructing decoder\n",
        "    self.dec1 = nn.Linear(in_features=rep_dim, out_features=hidden_dim)\n",
        "    self.dec2 = nn.Linear(in_features=hidden_dim, out_features=input_dim)\n",
        "\n",
        "  def encode(self, x):\n",
        "    x = F.relu(self.dense1(x))\n",
        "    x = self.dense2(x)\n",
        "    return x\n",
        "\n",
        "  def decode(self, z):\n",
        "    z = F.relu(self.dec1(z))\n",
        "    z = self.dec2(z)\n",
        "    return z\n",
        "\n",
        "  def forward(self, x):\n",
        "    encoding = self.encode(x)\n",
        "    reconstruction = self.decode(encoding)\n",
        "    return encoding, reconstruction"
      ],
      "execution_count": null,
      "outputs": []
    },
    {
      "cell_type": "code",
      "metadata": {
        "id": "lcuDW8pwiIFu"
      },
      "source": [
        "def run_epoch(dataloader, mode = 'train'):\n",
        "  assert mode == 'train' or mode == 'eval'\n",
        "  running_loss = 0.\n",
        "  running_recons_loss = 0.\n",
        "  epoch_loss = 0.\n",
        "  epoch_recons_loss = 0.\n",
        "  for i, data in enumerate(dataloader):\n",
        "    anchor, positive, negative = data\n",
        "\n",
        "    if mode == 'train':\n",
        "      optimizer.zero_grad()\n",
        "      net.train()\n",
        "    else:\n",
        "      net.eval()\n",
        "      \n",
        "    anchor_embed, anchor_reconstruct = net(anchor.float())\n",
        "    positive_embed, positive_reconstruct = net(positive.float())\n",
        "    negative_embed, negative_reconstruct = net(negative.float())\n",
        "\n",
        "    ap_dists = pairwise_dist(anchor_embed, positive_embed)\n",
        "    an_dists = pairwise_dist(anchor_embed, negative_embed)\n",
        "    pn_dists = pairwise_dist(negative_embed, positive_embed)\n",
        "    losses = F.relu(ap_dists - an_dists + margin_hyperparam)\n",
        "    loss = losses.sum()\n",
        "\n",
        "    recons_loss_anchor = recons_loss(anchor_reconstruct, anchor) \n",
        "    recons_loss_postive = recons_loss(positive_reconstruct, positive) \n",
        "    recons_loss_negative = recons_loss(negative_reconstruct, negative)\n",
        "    recons_loss_total = recons_loss_anchor + recons_loss_postive + recons_loss_negative\n",
        "\n",
        "    if mode == 'train':\n",
        "      loss.backward()\n",
        "      optimizer.step()\n",
        "\n",
        "    epoch_loss += loss.item()\n",
        "    epoch_recons_loss += recons_loss_total.item()\n",
        "    running_loss += loss.item()\n",
        "    running_recons_loss += recons_loss_total.item()\n",
        "    if i % 100 == 99:\n",
        "      print('Running loss', np.round(running_loss / 100), ' RECONS', np.round(running_recons_loss / 100))\n",
        "      running_loss = 0.\n",
        "      running_recons_loss = 0.\n",
        "  epoch_loss = epoch_loss / len(dataloader.dataset)\n",
        "  epoch_recons_loss = epoch_recons_loss / len(dataloader.dataset)\n",
        "  return epoch_loss, epoch_recons_loss"
      ],
      "execution_count": null,
      "outputs": []
    },
    {
      "cell_type": "code",
      "metadata": {
        "id": "MtqTkVsqiXvi",
        "outputId": "c965f120-7517-4b5f-85a3-459ae8847c41",
        "colab": {
          "base_uri": "https://localhost:8080/",
          "height": 446
        }
      },
      "source": [
        "net = TripletNet(500, 100, 20)\n",
        "pairwise_dist = nn.PairwiseDistance(p = 2.)\n",
        "margin_hyperparam = 0.\n",
        "optimizer = optim.Adam(net.parameters())\n",
        "recons_loss = torch.nn.MSELoss(reduce='sum')\n",
        "\n",
        "train_history = []\n",
        "val_history = []\n",
        "\n",
        "n_epochs = 10\n",
        "for epoch_i in range(n_epochs):\n",
        "  print('')\n",
        "  print('Epoch', epoch_i)\n",
        "  train_loss, train_recons_loss = run_epoch(train_loader, mode = 'train')\n",
        "  print('Train loss', train_loss)\n",
        "\n",
        "  val_loss, val_recons_loss = run_epoch(val_loader, mode = 'eval')\n",
        "  print('Val loss', val_loss)\n",
        "\n",
        "  train_history.append(train_loss)\n",
        "  val_history.append(val_loss)"
      ],
      "execution_count": null,
      "outputs": [
        {
          "output_type": "stream",
          "text": [
            "\n",
            "Epoch 0\n"
          ],
          "name": "stdout"
        },
        {
          "output_type": "stream",
          "text": [
            "/usr/local/lib/python3.6/dist-packages/torch/nn/_reduction.py:44: UserWarning: size_average and reduce args will be deprecated, please use reduction='mean' instead.\n",
            "  warnings.warn(warning.format(ret))\n"
          ],
          "name": "stderr"
        },
        {
          "output_type": "error",
          "ename": "ValueError",
          "evalue": "ignored",
          "traceback": [
            "\u001b[0;31m---------------------------------------------------------------------------\u001b[0m",
            "\u001b[0;31mValueError\u001b[0m                                Traceback (most recent call last)",
            "\u001b[0;32m<ipython-input-22-f1b151f41b17>\u001b[0m in \u001b[0;36m<module>\u001b[0;34m()\u001b[0m\n\u001b[1;32m     12\u001b[0m   \u001b[0mprint\u001b[0m\u001b[0;34m(\u001b[0m\u001b[0;34m''\u001b[0m\u001b[0;34m)\u001b[0m\u001b[0;34m\u001b[0m\u001b[0;34m\u001b[0m\u001b[0m\n\u001b[1;32m     13\u001b[0m   \u001b[0mprint\u001b[0m\u001b[0;34m(\u001b[0m\u001b[0;34m'Epoch'\u001b[0m\u001b[0;34m,\u001b[0m \u001b[0mepoch_i\u001b[0m\u001b[0;34m)\u001b[0m\u001b[0;34m\u001b[0m\u001b[0;34m\u001b[0m\u001b[0m\n\u001b[0;32m---> 14\u001b[0;31m   \u001b[0mtrain_loss\u001b[0m\u001b[0;34m,\u001b[0m \u001b[0mtrain_recons_loss\u001b[0m \u001b[0;34m=\u001b[0m \u001b[0mrun_epoch\u001b[0m\u001b[0;34m(\u001b[0m\u001b[0mtrain_loader\u001b[0m\u001b[0;34m,\u001b[0m \u001b[0mmode\u001b[0m \u001b[0;34m=\u001b[0m \u001b[0;34m'train'\u001b[0m\u001b[0;34m)\u001b[0m\u001b[0;34m\u001b[0m\u001b[0;34m\u001b[0m\u001b[0m\n\u001b[0m\u001b[1;32m     15\u001b[0m   \u001b[0mprint\u001b[0m\u001b[0;34m(\u001b[0m\u001b[0;34m'Train loss'\u001b[0m\u001b[0;34m,\u001b[0m \u001b[0mtrain_loss\u001b[0m\u001b[0;34m)\u001b[0m\u001b[0;34m\u001b[0m\u001b[0;34m\u001b[0m\u001b[0m\n\u001b[1;32m     16\u001b[0m \u001b[0;34m\u001b[0m\u001b[0m\n",
            "\u001b[0;32m<ipython-input-21-cffb5eac743a>\u001b[0m in \u001b[0;36mrun_epoch\u001b[0;34m(dataloader, mode)\u001b[0m\n\u001b[1;32m      6\u001b[0m   \u001b[0mepoch_recons_loss\u001b[0m \u001b[0;34m=\u001b[0m \u001b[0;36m0.\u001b[0m\u001b[0;34m\u001b[0m\u001b[0;34m\u001b[0m\u001b[0m\n\u001b[1;32m      7\u001b[0m   \u001b[0;32mfor\u001b[0m \u001b[0mi\u001b[0m\u001b[0;34m,\u001b[0m \u001b[0mdata\u001b[0m \u001b[0;32min\u001b[0m \u001b[0menumerate\u001b[0m\u001b[0;34m(\u001b[0m\u001b[0mdataloader\u001b[0m\u001b[0;34m)\u001b[0m\u001b[0;34m:\u001b[0m\u001b[0;34m\u001b[0m\u001b[0;34m\u001b[0m\u001b[0m\n\u001b[0;32m----> 8\u001b[0;31m     \u001b[0manchor\u001b[0m\u001b[0;34m,\u001b[0m \u001b[0mpositive\u001b[0m\u001b[0;34m,\u001b[0m \u001b[0mnegative\u001b[0m \u001b[0;34m=\u001b[0m \u001b[0mdata\u001b[0m\u001b[0;34m\u001b[0m\u001b[0;34m\u001b[0m\u001b[0m\n\u001b[0m\u001b[1;32m      9\u001b[0m \u001b[0;34m\u001b[0m\u001b[0m\n\u001b[1;32m     10\u001b[0m     \u001b[0;32mif\u001b[0m \u001b[0mmode\u001b[0m \u001b[0;34m==\u001b[0m \u001b[0;34m'train'\u001b[0m\u001b[0;34m:\u001b[0m\u001b[0;34m\u001b[0m\u001b[0;34m\u001b[0m\u001b[0m\n",
            "\u001b[0;31mValueError\u001b[0m: too many values to unpack (expected 3)"
          ]
        }
      ]
    },
    {
      "cell_type": "code",
      "metadata": {
        "id": "IZVpwj-xQVD2",
        "outputId": "75975bdd-3ca3-465e-d192-c017523ef4d4",
        "colab": {
          "base_uri": "https://localhost:8080/",
          "height": 446
        }
      },
      "source": [
        "net = TripletNet(500, 100, 20)\n",
        "pairwise_dist = nn.PairwiseDistance(p = 2.)\n",
        "margin_hyperparam = 0.\n",
        "optimizer = optim.Adam(net.parameters())\n",
        "recons_loss = torch.nn.MSELoss(reduce='sum')\n",
        "\n",
        "siamese_history = []\n",
        "recons_history = []\n",
        "loss_history = []\n",
        "\n",
        "\n",
        "epoch_loss = 0.\n",
        "epoch_recons_loss = 0.\n",
        "epoch_siamese_loss = 0.\n",
        "recons_hyperparam = 0.\n",
        "epoch_activate_recons = 3\n",
        "for epoch_i in range(10):\n",
        "  print('')\n",
        "  print('Epoch', epoch_i)\n",
        "\n",
        "  running_loss = 0.\n",
        "  running_recons_loss = 0.\n",
        "  running_siamese_loss = 0.\n",
        "\n",
        "  if epoch_i >= epoch_activate_recons:\n",
        "    recons_hyperparam = 2e-6\n",
        "\n",
        "  for i, data in enumerate(train_loader):\n",
        "    anchor, positive, negative, a_batch, p_batch, n_batch = data\n",
        "    anchor = anchor.float()\n",
        "    positive = positive.float()\n",
        "    negative = negative.float()\n",
        "\n",
        "    optimizer.zero_grad()\n",
        "\n",
        "    anchor_embed, anchor_reconstruct = net(anchor, a_batch)\n",
        "    positive_embed, positive_reconstruct = net(positive, p_batch)\n",
        "    negative_embed, negative_reconstruct = net(negative, n_batch)\n",
        "\n",
        "    ap_dists = pairwise_dist(anchor_embed, positive_embed)\n",
        "    an_dists = pairwise_dist(anchor_embed, negative_embed)\n",
        "    pn_dists = pairwise_dist(negative_embed, positive_embed)\n",
        "    losses = F.relu(ap_dists - an_dists + margin_hyperparam)\n",
        "    siamese_loss = losses.sum()\n",
        "\n",
        "    recons_loss_anchor = recons_loss(anchor_reconstruct, anchor) \n",
        "    recons_loss_postive = recons_loss(positive_reconstruct, positive) \n",
        "    recons_loss_negative = recons_loss(negative_reconstruct, negative)\n",
        "    recons_loss_total = recons_hyperparam * (recons_loss_anchor + recons_loss_postive + recons_loss_negative)\n",
        "\n",
        "    loss = siamese_loss + recons_loss_total\n",
        "  \n",
        "    #print('Siam', siamese_loss, siamese_loss.dtype)\n",
        "    #print('Recons', recons_loss_total, recons_loss_total)\n",
        "    #print('Loss', loss, loss.dtype)\n",
        "\n",
        "    loss.backward()\n",
        "    optimizer.step()\n",
        "\n",
        "    running_loss += loss.item()\n",
        "    running_siamese_loss += siamese_loss.item()\n",
        "    running_recons_loss += recons_loss_total.item()\n",
        "    if i % 100 == 99:\n",
        "      print('Running loss', running_loss / (100 * bs), 'Siamese', running_siamese_loss / (100 * bs), ' RECONS', running_recons_loss / (100 * bs))\n",
        "      epoch_loss = running_loss\n",
        "      epoch_siamese_loss = running_siamese_loss\n",
        "      epoch_recons_loss =  running_recons_loss\n",
        "      running_loss = 0.\n",
        "      running_recons_loss = 0.\n",
        "      running_siamese_loss = 0.\n",
        "  print('Epoch result')\n",
        "  print('Loss', epoch_loss / len(dataloader.dataset))\n",
        "  print('Siamsese loss', epoch_siamese_loss / len(dataloader.dataset))\n",
        "  print('Reconstruction loss', epoch_recons_loss / len(dataloader.dataset))\n",
        "  loss_history.append(epoch_loss / len(dataloader.dataset))\n",
        "  siamese_history.append(epoch_siamese_loss / len(dataloader.dataset))\n",
        "  recons_history.append(epoch_recons_loss / len(dataloader.dataset))\n",
        "\n",
        "print(loss_history, siamese_history, recons_history)"
      ],
      "execution_count": null,
      "outputs": [
        {
          "output_type": "stream",
          "text": [
            "\n",
            "Epoch 0\n"
          ],
          "name": "stdout"
        },
        {
          "output_type": "stream",
          "text": [
            "/usr/local/lib/python3.6/dist-packages/torch/nn/_reduction.py:44: UserWarning: size_average and reduce args will be deprecated, please use reduction='mean' instead.\n",
            "  warnings.warn(warning.format(ret))\n"
          ],
          "name": "stderr"
        },
        {
          "output_type": "error",
          "ename": "TypeError",
          "evalue": "ignored",
          "traceback": [
            "\u001b[0;31m---------------------------------------------------------------------------\u001b[0m",
            "\u001b[0;31mTypeError\u001b[0m                                 Traceback (most recent call last)",
            "\u001b[0;32m<ipython-input-24-7671957170b7>\u001b[0m in \u001b[0;36m<module>\u001b[0;34m()\u001b[0m\n\u001b[1;32m     34\u001b[0m     \u001b[0moptimizer\u001b[0m\u001b[0;34m.\u001b[0m\u001b[0mzero_grad\u001b[0m\u001b[0;34m(\u001b[0m\u001b[0;34m)\u001b[0m\u001b[0;34m\u001b[0m\u001b[0;34m\u001b[0m\u001b[0m\n\u001b[1;32m     35\u001b[0m \u001b[0;34m\u001b[0m\u001b[0m\n\u001b[0;32m---> 36\u001b[0;31m     \u001b[0manchor_embed\u001b[0m\u001b[0;34m,\u001b[0m \u001b[0manchor_reconstruct\u001b[0m \u001b[0;34m=\u001b[0m \u001b[0mnet\u001b[0m\u001b[0;34m(\u001b[0m\u001b[0manchor\u001b[0m\u001b[0;34m,\u001b[0m \u001b[0ma_batch\u001b[0m\u001b[0;34m)\u001b[0m\u001b[0;34m\u001b[0m\u001b[0;34m\u001b[0m\u001b[0m\n\u001b[0m\u001b[1;32m     37\u001b[0m     \u001b[0mpositive_embed\u001b[0m\u001b[0;34m,\u001b[0m \u001b[0mpositive_reconstruct\u001b[0m \u001b[0;34m=\u001b[0m \u001b[0mnet\u001b[0m\u001b[0;34m(\u001b[0m\u001b[0mpositive\u001b[0m\u001b[0;34m,\u001b[0m \u001b[0mp_batch\u001b[0m\u001b[0;34m)\u001b[0m\u001b[0;34m\u001b[0m\u001b[0;34m\u001b[0m\u001b[0m\n\u001b[1;32m     38\u001b[0m     \u001b[0mnegative_embed\u001b[0m\u001b[0;34m,\u001b[0m \u001b[0mnegative_reconstruct\u001b[0m \u001b[0;34m=\u001b[0m \u001b[0mnet\u001b[0m\u001b[0;34m(\u001b[0m\u001b[0mnegative\u001b[0m\u001b[0;34m,\u001b[0m \u001b[0mn_batch\u001b[0m\u001b[0;34m)\u001b[0m\u001b[0;34m\u001b[0m\u001b[0;34m\u001b[0m\u001b[0m\n",
            "\u001b[0;32m/usr/local/lib/python3.6/dist-packages/torch/nn/modules/module.py\u001b[0m in \u001b[0;36m_call_impl\u001b[0;34m(self, *input, **kwargs)\u001b[0m\n\u001b[1;32m    720\u001b[0m             \u001b[0mresult\u001b[0m \u001b[0;34m=\u001b[0m \u001b[0mself\u001b[0m\u001b[0;34m.\u001b[0m\u001b[0m_slow_forward\u001b[0m\u001b[0;34m(\u001b[0m\u001b[0;34m*\u001b[0m\u001b[0minput\u001b[0m\u001b[0;34m,\u001b[0m \u001b[0;34m**\u001b[0m\u001b[0mkwargs\u001b[0m\u001b[0;34m)\u001b[0m\u001b[0;34m\u001b[0m\u001b[0;34m\u001b[0m\u001b[0m\n\u001b[1;32m    721\u001b[0m         \u001b[0;32melse\u001b[0m\u001b[0;34m:\u001b[0m\u001b[0;34m\u001b[0m\u001b[0;34m\u001b[0m\u001b[0m\n\u001b[0;32m--> 722\u001b[0;31m             \u001b[0mresult\u001b[0m \u001b[0;34m=\u001b[0m \u001b[0mself\u001b[0m\u001b[0;34m.\u001b[0m\u001b[0mforward\u001b[0m\u001b[0;34m(\u001b[0m\u001b[0;34m*\u001b[0m\u001b[0minput\u001b[0m\u001b[0;34m,\u001b[0m \u001b[0;34m**\u001b[0m\u001b[0mkwargs\u001b[0m\u001b[0;34m)\u001b[0m\u001b[0;34m\u001b[0m\u001b[0;34m\u001b[0m\u001b[0m\n\u001b[0m\u001b[1;32m    723\u001b[0m         for hook in itertools.chain(\n\u001b[1;32m    724\u001b[0m                 \u001b[0m_global_forward_hooks\u001b[0m\u001b[0;34m.\u001b[0m\u001b[0mvalues\u001b[0m\u001b[0;34m(\u001b[0m\u001b[0;34m)\u001b[0m\u001b[0;34m,\u001b[0m\u001b[0;34m\u001b[0m\u001b[0;34m\u001b[0m\u001b[0m\n",
            "\u001b[0;31mTypeError\u001b[0m: forward() takes 2 positional arguments but 3 were given"
          ]
        }
      ]
    },
    {
      "cell_type": "code",
      "metadata": {
        "id": "X2GE63_oI7Cx"
      },
      "source": [
        "y_onehot = torch.zeros(y.shape[0], 2)\n",
        "y_onehot[7000:,:] = 1."
      ],
      "execution_count": null,
      "outputs": []
    },
    {
      "cell_type": "code",
      "metadata": {
        "id": "QlP_ac-lQfjf"
      },
      "source": [
        "X_encoded, X_reconstructed = net(torch.tensor(X).float(), y_onehot)"
      ],
      "execution_count": null,
      "outputs": []
    },
    {
      "cell_type": "code",
      "metadata": {
        "id": "d2TR84Autig2"
      },
      "source": [
        "pca = PCA(n_components = 2)\n",
        "X_encoded_pca = pca.fit_transform(X_encoded.detach())"
      ],
      "execution_count": null,
      "outputs": []
    },
    {
      "cell_type": "code",
      "metadata": {
        "id": "o8dDfojSanmO"
      },
      "source": [
        "#from sklearn.cluster import KMeans\n",
        "#kmeans = KMeans(n_clusters=3, random_state=0).fit(X_encoded_umap)"
      ],
      "execution_count": null,
      "outputs": []
    },
    {
      "cell_type": "code",
      "metadata": {
        "id": "M37swABrt9Tu",
        "outputId": "37f16f79-aa5c-4607-982d-f00b8ab03fdd",
        "colab": {
          "base_uri": "https://localhost:8080/",
          "height": 299
        }
      },
      "source": [
        "plt.title('Exp 6.3: PCA of SiamRecons on GAUSS_SIM')\n",
        "plt.scatter(X_encoded_pca[:7000][:,0], X_encoded_pca[:7000][:,1], c=y2[:7000], marker='o', s=10, alpha=0.4)\n",
        "plt.scatter(X_encoded_pca[7000:][:,0], X_encoded_pca[7000:][:,1], c=y2[7000:], marker='^', s=10, alpha=0.4)\n",
        "#plt.savefig('/content/gdrive/My Drive/uni_archive/cell_proj/experiments/experiment_plots/exp.6.2.siamese_gauss_sim_pca.png')\n",
        "#plt.scatter(X_encoded_pca[:,0] + 5, X_encoded_pca[:,1] + 5, c=y2)"
      ],
      "execution_count": null,
      "outputs": [
        {
          "output_type": "execute_result",
          "data": {
            "text/plain": [
              "<matplotlib.collections.PathCollection at 0x7f0d3eb916d8>"
            ]
          },
          "metadata": {
            "tags": []
          },
          "execution_count": 267
        },
        {
          "output_type": "display_data",
          "data": {
            "image/png": "[encoded data removed]",
            "text/plain": [
              "<Figure size 432x288 with 1 Axes>"
            ]
          },
          "metadata": {
            "tags": [],
            "needs_background": "light"
          }
        }
      ]
    },
    {
      "cell_type": "code",
      "metadata": {
        "id": "_PZ-UnCBUh_M"
      },
      "source": [
        "reducer = umap.UMAP()\n",
        "X_encoded_umap = reducer.fit_transform(X_encoded.detach())"
      ],
      "execution_count": null,
      "outputs": []
    },
    {
      "cell_type": "code",
      "metadata": {
        "id": "nsxZbFyFUmnO",
        "outputId": "4f355c01-949d-41e2-c215-0385994b3966",
        "colab": {
          "base_uri": "https://localhost:8080/",
          "height": 281
        }
      },
      "source": [
        "plt.title('Exp 6.3: UMAP of SiamRecons on GAUSS_SIM with warm-up')\n",
        "plt.scatter(X_encoded_umap[:7000][:,0], X_encoded_umap[:7000][:,1], c=y2[:7000], marker='o', s=10, alpha=0.4)\n",
        "plt.scatter(X_encoded_umap[7000:][:,0], X_encoded_umap[7000:][:,1], c=y2[7000:], marker='^', s=10, alpha=0.4)\n",
        "plt.savefig('/content/gdrive/My Drive/uni_archive/cell_proj/experiments/experiment_plots/exp.6.3.with_warm_up_umap.png')"
      ],
      "execution_count": null,
      "outputs": [
        {
          "output_type": "display_data",
          "data": {
            "image/png": "[encoded data removed]",
            "text/plain": [
              "<Figure size 432x288 with 1 Axes>"
            ]
          },
          "metadata": {
            "tags": [],
            "needs_background": "light"
          }
        }
      ]
    }
  ]
}