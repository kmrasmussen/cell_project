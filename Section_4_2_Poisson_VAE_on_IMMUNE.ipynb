{
  "nbformat": 4,
  "nbformat_minor": 0,
  "metadata": {
    "kernelspec": {
      "display_name": "Python 3",
      "language": "python",
      "name": "python3"
    },
    "language_info": {
      "codemirror_mode": {
        "name": "ipython",
        "version": 3
      },
      "file_extension": ".py",
      "mimetype": "text/x-python",
      "name": "python",
      "nbconvert_exporter": "python",
      "pygments_lexer": "ipython3",
      "version": "3.8.5"
    },
    "colab": {
      "name": "Section 4.2 - Poisson VAE on IMMUNE.ipynb",
      "provenance": [],
      "collapsed_sections": [],
      "toc_visible": true,
      "include_colab_link": true
    },
    "accelerator": "GPU"
  },
  "cells": [
    {
      "cell_type": "markdown",
      "metadata": {
        "id": "view-in-github",
        "colab_type": "text"
      },
      "source": [
        "<a href=\"https://colab.research.google.com/github/kmrasmussen/cell_project/blob/main/Section_4_2_Poisson_VAE_on_IMMUNE.ipynb\" target=\"_parent\"><img src=\"https://colab.research.google.com/assets/colab-badge.svg\" alt=\"Open In Colab\"/></a>"
      ]
    },
    {
      "cell_type": "markdown",
      "metadata": {
        "id": "buzretRVnJYV"
      },
      "source": [
        "# Poisson\n",
        "\n",
        "Standard vanilla VAE, Poisson likelihood"
      ]
    },
    {
      "cell_type": "code",
      "metadata": {
        "id": "OnG9WdZ3d9yX",
        "outputId": "2cbe1bcc-1d91-4dd4-aad8-6ad4bf5e624c",
        "colab": {
          "base_uri": "https://localhost:8080/",
          "height": 245
        }
      },
      "source": [
        "!pip install pyro-ppl"
      ],
      "execution_count": null,
      "outputs": [
        {
          "output_type": "stream",
          "text": [
            "Collecting pyro-ppl\n",
            "\u001b[?25l  Downloading https://files.pythonhosted.org/packages/f9/85/c294ab8062bef14aac4f87770f22a0b7a5cd9204d0777c6eb37fa4b9320d/pyro_ppl-1.4.0-py3-none-any.whl (573kB)\n",
            "\r\u001b[K     |▋                               | 10kB 10.7MB/s eta 0:00:01\r\u001b[K     |█▏                              | 20kB 2.1MB/s eta 0:00:01\r\u001b[K     |█▊                              | 30kB 2.7MB/s eta 0:00:01\r\u001b[K     |██▎                             | 40kB 3.0MB/s eta 0:00:01\r\u001b[K     |██▉                             | 51kB 2.5MB/s eta 0:00:01\r\u001b[K     |███▍                            | 61kB 2.8MB/s eta 0:00:01\r\u001b[K     |████                            | 71kB 3.1MB/s eta 0:00:01\r\u001b[K     |████▋                           | 81kB 3.3MB/s eta 0:00:01\r\u001b[K     |█████▏                          | 92kB 3.5MB/s eta 0:00:01\r\u001b[K     |█████▊                          | 102kB 3.4MB/s eta 0:00:01\r\u001b[K     |██████▎                         | 112kB 3.4MB/s eta 0:00:01\r\u001b[K     |██████▉                         | 122kB 3.4MB/s eta 0:00:01\r\u001b[K     |███████▍                        | 133kB 3.4MB/s eta 0:00:01\r\u001b[K     |████████                        | 143kB 3.4MB/s eta 0:00:01\r\u001b[K     |████████▋                       | 153kB 3.4MB/s eta 0:00:01\r\u001b[K     |█████████▏                      | 163kB 3.4MB/s eta 0:00:01\r\u001b[K     |█████████▊                      | 174kB 3.4MB/s eta 0:00:01\r\u001b[K     |██████████▎                     | 184kB 3.4MB/s eta 0:00:01\r\u001b[K     |██████████▉                     | 194kB 3.4MB/s eta 0:00:01\r\u001b[K     |███████████▍                    | 204kB 3.4MB/s eta 0:00:01\r\u001b[K     |████████████                    | 215kB 3.4MB/s eta 0:00:01\r\u001b[K     |████████████▋                   | 225kB 3.4MB/s eta 0:00:01\r\u001b[K     |█████████████▏                  | 235kB 3.4MB/s eta 0:00:01\r\u001b[K     |█████████████▊                  | 245kB 3.4MB/s eta 0:00:01\r\u001b[K     |██████████████▎                 | 256kB 3.4MB/s eta 0:00:01\r\u001b[K     |██████████████▉                 | 266kB 3.4MB/s eta 0:00:01\r\u001b[K     |███████████████▍                | 276kB 3.4MB/s eta 0:00:01\r\u001b[K     |████████████████                | 286kB 3.4MB/s eta 0:00:01\r\u001b[K     |████████████████▋               | 296kB 3.4MB/s eta 0:00:01\r\u001b[K     |█████████████████▏              | 307kB 3.4MB/s eta 0:00:01\r\u001b[K     |█████████████████▊              | 317kB 3.4MB/s eta 0:00:01\r\u001b[K     |██████████████████▎             | 327kB 3.4MB/s eta 0:00:01\r\u001b[K     |██████████████████▉             | 337kB 3.4MB/s eta 0:00:01\r\u001b[K     |███████████████████▍            | 348kB 3.4MB/s eta 0:00:01\r\u001b[K     |████████████████████            | 358kB 3.4MB/s eta 0:00:01\r\u001b[K     |████████████████████▋           | 368kB 3.4MB/s eta 0:00:01\r\u001b[K     |█████████████████████▏          | 378kB 3.4MB/s eta 0:00:01\r\u001b[K     |█████████████████████▊          | 389kB 3.4MB/s eta 0:00:01\r\u001b[K     |██████████████████████▎         | 399kB 3.4MB/s eta 0:00:01\r\u001b[K     |██████████████████████▉         | 409kB 3.4MB/s eta 0:00:01\r\u001b[K     |███████████████████████▍        | 419kB 3.4MB/s eta 0:00:01\r\u001b[K     |████████████████████████        | 430kB 3.4MB/s eta 0:00:01\r\u001b[K     |████████████████████████▋       | 440kB 3.4MB/s eta 0:00:01\r\u001b[K     |█████████████████████████▏      | 450kB 3.4MB/s eta 0:00:01\r\u001b[K     |█████████████████████████▊      | 460kB 3.4MB/s eta 0:00:01\r\u001b[K     |██████████████████████████▎     | 471kB 3.4MB/s eta 0:00:01\r\u001b[K     |██████████████████████████▉     | 481kB 3.4MB/s eta 0:00:01\r\u001b[K     |███████████████████████████▍    | 491kB 3.4MB/s eta 0:00:01\r\u001b[K     |████████████████████████████    | 501kB 3.4MB/s eta 0:00:01\r\u001b[K     |████████████████████████████▋   | 512kB 3.4MB/s eta 0:00:01\r\u001b[K     |█████████████████████████████▏  | 522kB 3.4MB/s eta 0:00:01\r\u001b[K     |█████████████████████████████▊  | 532kB 3.4MB/s eta 0:00:01\r\u001b[K     |██████████████████████████████▎ | 542kB 3.4MB/s eta 0:00:01\r\u001b[K     |██████████████████████████████▉ | 552kB 3.4MB/s eta 0:00:01\r\u001b[K     |███████████████████████████████▍| 563kB 3.4MB/s eta 0:00:01\r\u001b[K     |████████████████████████████████| 573kB 3.4MB/s \n",
            "\u001b[?25hCollecting pyro-api>=0.1.1\n",
            "  Downloading https://files.pythonhosted.org/packages/fc/81/957ae78e6398460a7230b0eb9b8f1cb954c5e913e868e48d89324c68cec7/pyro_api-0.1.2-py3-none-any.whl\n",
            "Requirement already satisfied: opt-einsum>=2.3.2 in /usr/local/lib/python3.6/dist-packages (from pyro-ppl) (3.3.0)\n",
            "Requirement already satisfied: tqdm>=4.36 in /usr/local/lib/python3.6/dist-packages (from pyro-ppl) (4.41.1)\n",
            "Requirement already satisfied: numpy>=1.7 in /usr/local/lib/python3.6/dist-packages (from pyro-ppl) (1.18.5)\n",
            "Requirement already satisfied: torch>=1.5.0 in /usr/local/lib/python3.6/dist-packages (from pyro-ppl) (1.6.0+cu101)\n",
            "Requirement already satisfied: future in /usr/local/lib/python3.6/dist-packages (from torch>=1.5.0->pyro-ppl) (0.16.0)\n",
            "Installing collected packages: pyro-api, pyro-ppl\n",
            "Successfully installed pyro-api-0.1.2 pyro-ppl-1.4.0\n"
          ],
          "name": "stdout"
        }
      ]
    },
    {
      "cell_type": "code",
      "metadata": {
        "id": "KUe0SSgYnJYW"
      },
      "source": [
        "import torch\n",
        "import torch.nn as nn\n",
        "import torch.nn.functional as F\n",
        "from torch.utils.data import DataLoader, Dataset\n",
        "import numpy as np\n",
        "import torch.optim as optim\n",
        "import matplotlib.pyplot as plt\n",
        "from sklearn.manifold import TSNE\n",
        "import pyro"
      ],
      "execution_count": null,
      "outputs": []
    },
    {
      "cell_type": "code",
      "metadata": {
        "id": "Tf1QWZkNnf00",
        "outputId": "cf989b06-3280-41ae-fff9-5ffe48d71685",
        "colab": {
          "base_uri": "https://localhost:8080/",
          "height": 35
        }
      },
      "source": [
        "from google.colab import drive\n",
        "drive.mount('/content/gdrive')"
      ],
      "execution_count": null,
      "outputs": [
        {
          "output_type": "stream",
          "text": [
            "Mounted at /content/gdrive\n"
          ],
          "name": "stdout"
        }
      ]
    },
    {
      "cell_type": "code",
      "metadata": {
        "id": "U43uktD5n3TG"
      },
      "source": [
        "class CellDataset(Dataset):\n",
        "  def __init__(self, numpy_matrix, batch_labels):\n",
        "    self.X = torch.from_numpy(numpy_matrix)\n",
        "    self.n_genes = self.X.shape[1]\n",
        "    self.batch_labels = batch_labels.reshape(-1).astype(np.float32)\n",
        "    self.batch_label_max = int(np.max(self.batch_labels))\n",
        "\n",
        "    # Library sizes for each cell, mean and variance across cells\n",
        "    self.cell_log_library_sizes = torch.sum(self.X, dim = 1)\n",
        "    self.log_library_sizes_mean = self.cell_log_library_sizes.mean().item()\n",
        "    self.log_library_sizes_var = self.cell_log_library_sizes.var().item()\n",
        "    print('Library sizes mean', self.log_library_sizes_mean, 'var', self.log_library_sizes_var)\n",
        "    \n",
        "  def __len__(self):\n",
        "    return self.X.shape[0]\n",
        "\n",
        "  def __getitem__(self, idx):\n",
        "    return {'x': self.X[idx], 'library_size': self.cell_log_library_sizes[idx], 'batch_number': self.batch_labels[idx]}"
      ],
      "execution_count": null,
      "outputs": []
    },
    {
      "cell_type": "code",
      "metadata": {
        "id": "ZkIiolUfnJYg"
      },
      "source": [
        "X = np.load('/content/gdrive/My Drive/uni_archive/cell/immune_control_subsampled_alone.npy')\n",
        "y = np.zeros(X.shape[0])"
      ],
      "execution_count": null,
      "outputs": []
    },
    {
      "cell_type": "code",
      "metadata": {
        "id": "oHu2Aid1nJYx",
        "outputId": "741f5330-8799-48f9-9061-aa1abd1791fb",
        "colab": {
          "base_uri": "https://localhost:8080/",
          "height": 35
        }
      },
      "source": [
        "dataset = CellDataset(X, y)\n",
        "minibatch_size = 32\n",
        "train_set, val_set, test_set = torch.utils.data.random_split(dataset, [7000, 3000, 3019])\n",
        "train_loader = DataLoader(train_set, batch_size=minibatch_size, shuffle=True)\n",
        "val_loader = DataLoader(val_set, batch_size=minibatch_size, shuffle=True)\n",
        "test_loader = DataLoader(test_set, batch_size=minibatch_size, shuffle=True)"
      ],
      "execution_count": null,
      "outputs": [
        {
          "output_type": "stream",
          "text": [
            "Library sizes mean 545.81494140625 var 369664.1875\n"
          ],
          "name": "stdout"
        }
      ]
    },
    {
      "cell_type": "code",
      "metadata": {
        "id": "bPm4rZHjP-I8",
        "outputId": "eddac12d-3003-4f38-bc57-0e821e05f38b",
        "colab": {
          "base_uri": "https://localhost:8080/",
          "height": 35
        }
      },
      "source": [
        "torch.cuda.is_available()"
      ],
      "execution_count": null,
      "outputs": [
        {
          "output_type": "execute_result",
          "data": {
            "text/plain": [
              "True"
            ]
          },
          "metadata": {
            "tags": []
          },
          "execution_count": 7
        }
      ]
    },
    {
      "cell_type": "code",
      "metadata": {
        "id": "IUlTBKHtnJY8"
      },
      "source": [
        "class POIS_VAE_FORSOEG3(nn.Module):\n",
        "    def __init__(self, x_dim, h_dim1, h_dim2, z_dim):\n",
        "        super().__init__()\n",
        "        \n",
        "        # encoder part\n",
        "        self.mu_1 = nn.Linear(x_dim, h_dim1)\n",
        "        torch.nn.init.xavier_uniform_(self.mu_1.weight)\n",
        "        self.mu_2 = nn.Linear(h_dim1, h_dim2)\n",
        "        torch.nn.init.xavier_uniform_(self.mu_2.weight)\n",
        "        self.mu_3 = nn.Linear(h_dim1, z_dim)\n",
        "        torch.nn.init.xavier_uniform_(self.mu_3.weight)\n",
        "\n",
        "        self.var_1 = nn.Linear(x_dim, h_dim1)\n",
        "        torch.nn.init.xavier_uniform_(self.var_1.weight)\n",
        "        self.var_2 = nn.Linear(h_dim1, h_dim2)\n",
        "        torch.nn.init.xavier_uniform_(self.var_2.weight)\n",
        "        self.var_3 = nn.Linear(h_dim1, z_dim)\n",
        "        torch.nn.init.xavier_uniform_(self.var_3.weight)\n",
        "\n",
        "        # decoder part\n",
        "        self.dec_1 = nn.Linear(z_dim, h_dim2)\n",
        "        #self.dec_2 = nn.Linear(h_dim2, h_dim1)\n",
        "        self.dec_3 = nn.Linear(h_dim2, x_dim)\n",
        "        \n",
        "    def encoder(self, x):\n",
        "        mu = F.relu(self.mu_1(x))\n",
        "        #mu = F.relu(self.mu_2(mu))\n",
        "        mu = self.mu_3(mu)\n",
        "\n",
        "        log_var = F.relu(self.var_1(x))\n",
        "        #log_var = F.relu(self.var_2(log_var))\n",
        "        log_var = self.var_3(log_var)\n",
        "        return mu, log_var # mu, log_var\n",
        "    \n",
        "    def sampling(self, mu, log_var):\n",
        "        std = torch.exp(0.5*log_var)\n",
        "        eps = torch.randn_like(std)\n",
        "        return eps.mul(std).add_(mu) # return z sample\n",
        "        \n",
        "    def decoder(self, z):\n",
        "        h = F.relu(self.dec_1(z))\n",
        "        #h = F.relu(self.dec_2(h))\n",
        "        h = self.dec_3(h)\n",
        "        #h = F.sigmoid(h)\n",
        "\n",
        "        return h\n",
        "    \n",
        "    def forward(self, x):\n",
        "        mu, log_var = self.encoder(x)\n",
        "        z = self.sampling(mu, log_var)\n",
        "        log_lambdas = self.decoder(z)\n",
        "        return log_lambdas, mu, log_var"
      ],
      "execution_count": null,
      "outputs": []
    },
    {
      "cell_type": "code",
      "metadata": {
        "id": "IXFjmTUwnJZB"
      },
      "source": [
        "def train(model, dataloader, optimizer, loss_function, kld_beta):\n",
        "    model.train()\n",
        "    \n",
        "    total_train_loss = 0.\n",
        "    running_loss = 0.\n",
        "    running_recons_loss = 0.\n",
        "    running_kld_loss = 0.\n",
        "    for batch_idx, data in enumerate(dataloader):\n",
        "            \n",
        "        optimizer.zero_grad()\n",
        "\n",
        "        x = data['x']\n",
        "        if torch.cuda.is_available():\n",
        "          x = x.cuda()\n",
        "        log_lambdas, mu, log_var = model(x)\n",
        "        loss, recons_loss, kld_loss = loss_function(log_lambdas, mu, log_var, x, kld_beta)\n",
        "        #print('loss', loss)\n",
        "\n",
        "        if loss > 1e10:\n",
        "          print('Might want to skip this optimizing step')\n",
        "\n",
        "        loss.backward()\n",
        "        optimizer.step()\n",
        "\n",
        "        total_train_loss += loss.item()\n",
        "        running_loss += loss.item()\n",
        "        running_recons_loss += recons_loss.item()\n",
        "        running_kld_loss += kld_loss.item()\n",
        "        #if batch_idx % 100 == 99:\n",
        "        #    print('Running loss', np.round(running_loss / (100. * minibatch_size)))\n",
        "        #    running_loss = 0.\n",
        "    return total_train_loss / len(dataloader.dataset), running_recons_loss / len(dataloader.dataset), running_kld_loss / len(dataloader.dataset)"
      ],
      "execution_count": null,
      "outputs": []
    },
    {
      "cell_type": "code",
      "metadata": {
        "id": "0W4RayVDnJZH"
      },
      "source": [
        "def validate(model, dataloader, optimizer, loss_function, kld_beta):\n",
        "    model.eval()\n",
        "    \n",
        "    total_val_loss = 0.\n",
        "    running_loss = 0.\n",
        "    with torch.no_grad():\n",
        "        for batch_idx, data in enumerate(dataloader):\n",
        "\n",
        "            x = data['x']\n",
        "            if torch.cuda.is_available():\n",
        "              x = x.cuda()\n",
        "            log_lambdas, mu, log_var = model(x)\n",
        "            loss, recons_loss, kld_loss = loss_function(log_lambdas, mu, log_var, x, kld_beta)\n",
        "            \n",
        "            total_val_loss += loss.item()\n",
        "            running_loss += loss.item()\n",
        "            #if batch_idx % 100 == 99:\n",
        "            #    print('Running loss', np.round(running_loss / (100. * minibatch_size)))\n",
        "            #    running_loss = 0.\n",
        "    return total_val_loss / len(dataloader.dataset)"
      ],
      "execution_count": null,
      "outputs": []
    },
    {
      "cell_type": "code",
      "metadata": {
        "id": "mins_Rovnl9u"
      },
      "source": [
        "def poiss_loss_function_pyro(log_lambdas, mu, log_var, x, kld_beta):\n",
        "    log_lambdas = torch.clamp(input = log_lambdas, min=-9., max = 9.)\n",
        "    lambdas = torch.exp(log_lambdas) #+ 1.\n",
        "    poisson_dist = pyro.distributions.Poisson(lambdas) #pyro.distributions.Poisson(lambdas) #.to_event(1)\n",
        "    KLD = -0.5 * torch.sum(1 + log_var - mu.pow(2) - log_var.exp())\n",
        "    log_probs = poisson_dist.log_prob(x)\n",
        "    poisson_likelihood = log_probs.sum()\n",
        "    elbo = None\n",
        "    if kld_beta == 0.:\n",
        "        elbo = poisson_likelihood\n",
        "    else:\n",
        "        elbo = poisson_likelihood - kld_beta * KLD\n",
        "    loss = -elbo\n",
        "    if torch.isnan(loss) or torch.isinf(loss):\n",
        "        print('log lambdas', log_lambdas, torch.isnan(log_lambdas).sum())\n",
        "        print('lambdas', lambdas, torch.isnan(log_lambdas).sum())\n",
        "        print('log probs', log_probs, torch.isnan(log_lambdas).sum())\n",
        "        raise Exception('NaN loss')\n",
        "    return loss, poisson_likelihood, kld_beta * KLD"
      ],
      "execution_count": null,
      "outputs": []
    },
    {
      "cell_type": "code",
      "metadata": {
        "id": "rv_ihNUhnJZZ",
        "outputId": "03795c23-8ac3-4448-fbe6-920eaeebe053",
        "colab": {
          "base_uri": "https://localhost:8080/",
          "height": 1000
        }
      },
      "source": [
        "# build model\n",
        "vae = POIS_VAE_FORSOEG3(x_dim=dataset.n_genes, h_dim1= 512, h_dim2=256, z_dim=20)\n",
        "if torch.cuda.is_available():\n",
        "    vae.cuda()\n",
        "optimizer = optim.Adam(vae.parameters(), lr=0.00001)\n",
        "\n",
        "n_epochs = 500\n",
        "train_history = []\n",
        "kld_history = []\n",
        "recons_history = []\n",
        "val_history = []\n",
        "ready_to_activate_kld = False\n",
        "activate_kld_after = 10\n",
        "for epoch in range(n_epochs):\n",
        "    print('Epoch', epoch)\n",
        "    kld_beta = 0.\n",
        "    if ready_to_activate_kld:\n",
        "        kld_beta = min(1.0, 0.1 * (epoch - activate_kld_after))\n",
        "    print('kld beta:', kld_beta)\n",
        "    train_loss, recons_loss, kld_loss = train(vae, train_loader, optimizer, poiss_loss_function_pyro, kld_beta)\n",
        "    print('train loss', train_loss, 'recons', recons_loss, 'kld', kld_loss)\n",
        "    if train_loss < 1500. and ready_to_activate_kld == False:\n",
        "      activate_kld_after = epoch\n",
        "      #print('Ready for kld')\n",
        "      ready_to_activate_kld = True\n",
        "      #print('Increasing learning rate')\n",
        "      #for param_group in optimizer.param_groups:\n",
        "      #  param_group['lr'] = 0.0001\n",
        "    val_loss = validate(vae, val_loader, optimizer, poiss_loss_function_pyro, kld_beta)\n",
        "    print('validation loss', val_loss)\n",
        "    train_history.append(train_loss)\n",
        "    val_history.append(val_loss)"
      ],
      "execution_count": null,
      "outputs": [
        {
          "output_type": "stream",
          "text": [
            "Epoch 0\n",
            "kld beta: 0.0\n",
            "train loss 992103.2787678571 recons -992103.2787678571 kld 0.0\n",
            "validation loss 188743.98644270832\n",
            "Epoch 1\n",
            "kld beta: 0.0\n",
            "train loss 193659.9434888393 recons -193659.9434888393 kld 0.0\n",
            "validation loss 125687.75158333333\n",
            "Epoch 2\n",
            "kld beta: 0.0\n",
            "train loss 152708.58406919643 recons -152708.58406919643 kld 0.0\n",
            "validation loss 104085.79501041667\n",
            "Epoch 3\n",
            "kld beta: 0.0\n",
            "train loss 138913.36790401785 recons -138913.36790401785 kld 0.0\n",
            "validation loss 102332.99140625\n",
            "Epoch 4\n",
            "kld beta: 0.0\n",
            "train loss 129087.67877008929 recons -129087.67877008929 kld 0.0\n",
            "validation loss 94738.32807291667\n",
            "Epoch 5\n",
            "kld beta: 0.0\n",
            "train loss 125349.74965625 recons -125349.74965625 kld 0.0\n",
            "validation loss 92192.15130208334\n",
            "Epoch 6\n",
            "kld beta: 0.0\n",
            "train loss 122016.81577008929 recons -122016.81577008929 kld 0.0\n",
            "validation loss 81222.00292708333\n",
            "Epoch 7\n",
            "kld beta: 0.0\n",
            "train loss 112614.83252790179 recons -112614.83252790179 kld 0.0\n",
            "validation loss 72183.227734375\n",
            "Epoch 8\n",
            "kld beta: 0.0\n",
            "train loss 57955.24539732143 recons -57955.24539732143 kld 0.0\n",
            "validation loss 12451.269700520834\n",
            "Epoch 9\n",
            "kld beta: 0.0\n",
            "train loss 19704.451776785714 recons -19704.451776785714 kld 0.0\n",
            "validation loss 6305.8210390625\n",
            "Epoch 10\n",
            "kld beta: 0.0\n",
            "train loss 11555.977627232143 recons -11555.977627232143 kld 0.0\n",
            "validation loss 5093.1447708333335\n",
            "Epoch 11\n",
            "kld beta: 0.0\n",
            "train loss 9111.718077008929 recons -9111.718077008929 kld 0.0\n",
            "validation loss 5750.605760416666\n",
            "Epoch 12\n",
            "kld beta: 0.0\n",
            "train loss 8726.13346205357 recons -8726.13346205357 kld 0.0\n",
            "validation loss 5263.5249375\n",
            "Epoch 13\n",
            "kld beta: 0.0\n",
            "train loss 8620.597180803572 recons -8620.597180803572 kld 0.0\n",
            "validation loss 5116.109979166667\n",
            "Epoch 14\n",
            "kld beta: 0.0\n",
            "train loss 8490.553135044644 recons -8490.553135044644 kld 0.0\n",
            "validation loss 4895.398583333334\n",
            "Epoch 15\n",
            "kld beta: 0.0\n",
            "train loss 9639.274785714286 recons -9639.274785714286 kld 0.0\n",
            "validation loss 7357.541744791667\n",
            "Epoch 16\n",
            "kld beta: 0.0\n",
            "train loss 8292.082972098215 recons -8292.082972098215 kld 0.0\n",
            "validation loss 5741.62090625\n",
            "Epoch 17\n",
            "kld beta: 0.0\n",
            "train loss 8228.485871651787 recons -8228.485871651787 kld 0.0\n",
            "validation loss 4716.711830729167\n",
            "Epoch 18\n",
            "kld beta: 0.0\n",
            "train loss 8123.627301339286 recons -8123.627301339286 kld 0.0\n",
            "validation loss 4603.3475130208335\n",
            "Epoch 19\n",
            "kld beta: 0.0\n",
            "train loss 7749.564286830358 recons -7749.564286830358 kld 0.0\n",
            "validation loss 4495.203890625\n",
            "Epoch 20\n",
            "kld beta: 0.0\n",
            "train loss 4411.197458705357 recons -4411.197458705357 kld 0.0\n",
            "validation loss 4373.135786458333\n",
            "Epoch 21\n",
            "kld beta: 0.0\n",
            "train loss 4323.584410714286 recons -4323.584410714286 kld 0.0\n",
            "validation loss 4373.9619140625\n",
            "Epoch 22\n",
            "kld beta: 0.0\n",
            "train loss 4265.400993303571 recons -4265.400993303571 kld 0.0\n",
            "validation loss 4590.5431119791665\n",
            "Epoch 23\n",
            "kld beta: 0.0\n",
            "train loss 4195.559568080357 recons -4195.559568080357 kld 0.0\n",
            "validation loss 4288.417109375\n",
            "Epoch 24\n",
            "kld beta: 0.0\n",
            "train loss 4133.289467633928 recons -4133.289467633928 kld 0.0\n",
            "validation loss 4147.655252604167\n",
            "Epoch 25\n",
            "kld beta: 0.0\n",
            "train loss 4060.740482142857 recons -4060.740482142857 kld 0.0\n",
            "validation loss 4075.336921875\n",
            "Epoch 26\n",
            "kld beta: 0.0\n",
            "train loss 3992.042145089286 recons -3992.042145089286 kld 0.0\n",
            "validation loss 4288.4326458333335\n",
            "Epoch 27\n",
            "kld beta: 0.0\n",
            "train loss 3910.4987946428573 recons -3910.4987946428573 kld 0.0\n",
            "validation loss 4533.934104166667\n",
            "Epoch 28\n",
            "kld beta: 0.0\n",
            "train loss 3840.327892857143 recons -3840.327892857143 kld 0.0\n",
            "validation loss 3872.0198958333335\n",
            "Epoch 29\n",
            "kld beta: 0.0\n",
            "train loss 3752.7541707589285 recons -3752.7541707589285 kld 0.0\n",
            "validation loss 3755.5375598958335\n",
            "Epoch 30\n",
            "kld beta: 0.0\n",
            "train loss 3662.0461216517856 recons -3662.0461216517856 kld 0.0\n",
            "validation loss 3678.9196822916665\n",
            "Epoch 31\n",
            "kld beta: 0.0\n",
            "train loss 3568.280510044643 recons -3568.280510044643 kld 0.0\n",
            "validation loss 3585.106604166667\n",
            "Epoch 32\n",
            "kld beta: 0.0\n",
            "train loss 3459.647674107143 recons -3459.647674107143 kld 0.0\n",
            "validation loss 3480.0251953125\n",
            "Epoch 33\n",
            "kld beta: 0.0\n",
            "train loss 3342.3786015625 recons -3342.3786015625 kld 0.0\n",
            "validation loss 3362.6471692708333\n",
            "Epoch 34\n",
            "kld beta: 0.0\n",
            "train loss 3217.5439363839287 recons -3217.5439363839287 kld 0.0\n",
            "validation loss 3246.0649375\n",
            "Epoch 35\n",
            "kld beta: 0.0\n",
            "train loss 3076.5165982142858 recons -3076.5165982142858 kld 0.0\n",
            "validation loss 3107.756083333333\n",
            "Epoch 36\n",
            "kld beta: 0.0\n",
            "train loss 2915.9994720982145 recons -2915.9994720982145 kld 0.0\n",
            "validation loss 2929.9190546875\n",
            "Epoch 37\n",
            "kld beta: 0.0\n",
            "train loss 2743.308427455357 recons -2743.308427455357 kld 0.0\n",
            "validation loss 2754.299111979167\n",
            "Epoch 38\n",
            "kld beta: 0.0\n",
            "train loss 2547.8340044642855 recons -2547.8340044642855 kld 0.0\n",
            "validation loss 2577.5817630208335\n",
            "Epoch 39\n",
            "kld beta: 0.0\n",
            "train loss 2338.6801300223215 recons -2338.6801300223215 kld 0.0\n",
            "validation loss 2342.6628111979167\n",
            "Epoch 40\n",
            "kld beta: 0.0\n",
            "train loss 2119.8453074776785 recons -2119.8453074776785 kld 0.0\n",
            "validation loss 2111.1649296875\n",
            "Epoch 41\n",
            "kld beta: 0.0\n",
            "train loss 1909.45187890625 recons -1909.45187890625 kld 0.0\n",
            "validation loss 1914.7875859375\n",
            "Epoch 42\n",
            "kld beta: 0.0\n",
            "train loss 1706.33711328125 recons -1706.33711328125 kld 0.0\n",
            "validation loss 1728.1479934895833\n",
            "Epoch 43\n",
            "kld beta: 0.0\n",
            "train loss 1544.5260055803572 recons -1544.5260055803572 kld 0.0\n",
            "validation loss 1579.4548359375\n",
            "Epoch 44\n",
            "kld beta: 0.0\n",
            "train loss 1410.4591529017857 recons -1410.4591529017857 kld 0.0\n",
            "validation loss 1466.256404296875\n",
            "Epoch 45\n",
            "kld beta: 0.1\n",
            "train loss 1373.2880047433036 recons -1311.1472720424108 kld 62.14073709542411\n",
            "validation loss 1446.7285436197917\n",
            "Epoch 46\n",
            "kld beta: 0.2\n",
            "train loss 1368.2195675223215 recons -1244.9344988839287 kld 123.28507184709821\n",
            "validation loss 1452.545939453125\n",
            "Epoch 47\n",
            "kld beta: 0.30000000000000004\n",
            "train loss 1363.7476138392858 recons -1191.9197198660713 kld 171.82789114815847\n",
            "validation loss 1454.41692578125\n",
            "Epoch 48\n",
            "kld beta: 0.4\n",
            "train loss 1364.4334229910714 recons -1158.0602974330357 kld 206.37312841796876\n",
            "validation loss 1452.9235833333332\n",
            "Epoch 49\n",
            "kld beta: 0.5\n",
            "train loss 1359.6463903459821 recons -1127.7532845982143 kld 231.8931078404018\n",
            "validation loss 1461.0682799479166\n",
            "Epoch 50\n",
            "kld beta: 0.6000000000000001\n",
            "train loss 1355.6891121651786 recons -1106.7541403459823 kld 248.93496707589287\n",
            "validation loss 1461.3247161458332\n",
            "Epoch 51\n",
            "kld beta: 0.7000000000000001\n",
            "train loss 1348.0396877790179 recons -1082.5397522321427 kld 265.4999344308036\n",
            "validation loss 1446.25650390625\n",
            "Epoch 52\n",
            "kld beta: 0.8\n",
            "train loss 1340.5536383928572 recons -1066.3288013392857 kld 274.224833077567\n",
            "validation loss 1455.9224856770834\n",
            "Epoch 53\n",
            "kld beta: 0.9\n",
            "train loss 1324.3063141741072 recons -1044.3472952008929 kld 279.9590198102679\n",
            "validation loss 1449.79455078125\n",
            "Epoch 54\n",
            "kld beta: 1.0\n",
            "train loss 1309.9464349888392 recons -1025.303318638393 kld 284.6431154436384\n",
            "validation loss 1445.7155110677083\n",
            "Epoch 55\n",
            "kld beta: 1.0\n",
            "train loss 1270.51546875 recons -1006.3706096540178 kld 264.1448593052455\n",
            "validation loss 1391.4285833333333\n",
            "Epoch 56\n",
            "kld beta: 1.0\n",
            "train loss 1231.475255580357 recons -983.1841258370536 kld 248.29113434709822\n",
            "validation loss 1360.767240234375\n",
            "Epoch 57\n",
            "kld beta: 1.0\n",
            "train loss 1199.1854988839286 recons -963.8672368861608 kld 235.3182609514509\n",
            "validation loss 1325.7371725260416\n",
            "Epoch 58\n",
            "kld beta: 1.0\n",
            "train loss 1167.791040736607 recons -942.1955931919642 kld 225.59544810267857\n",
            "validation loss 1308.39089453125\n",
            "Epoch 59\n",
            "kld beta: 1.0\n",
            "train loss 1137.876584263393 recons -923.5573127790178 kld 214.3192705078125\n",
            "validation loss 1276.0843216145834\n",
            "Epoch 60\n",
            "kld beta: 1.0\n",
            "train loss 1110.638220703125 recons -905.5920477120536 kld 205.04616929408482\n",
            "validation loss 1244.5273841145834\n",
            "Epoch 61\n",
            "kld beta: 1.0\n",
            "train loss 1081.9365306919642 recons -885.9326224888392 kld 196.003908203125\n",
            "validation loss 1240.98678125\n",
            "Epoch 62\n",
            "kld beta: 1.0\n",
            "train loss 1059.358828404018 recons -871.5108345424107 kld 187.84799225725448\n",
            "validation loss 1217.9204140625\n",
            "Epoch 63\n",
            "kld beta: 1.0\n",
            "train loss 1036.4711515066965 recons -856.3902240513393 kld 180.08092592075892\n",
            "validation loss 1199.072322265625\n",
            "Epoch 64\n",
            "kld beta: 1.0\n",
            "train loss 1016.9696252790178 recons -844.0312491629464 kld 172.93837723214287\n",
            "validation loss 1167.717271484375\n",
            "Epoch 65\n",
            "kld beta: 1.0\n",
            "train loss 999.2087338169642 recons -833.1816018415178 kld 166.0271330217634\n",
            "validation loss 1141.2875149739584\n",
            "Epoch 66\n",
            "kld beta: 1.0\n",
            "train loss 978.5017290736607 recons -818.8588390066965 kld 159.64288912527903\n",
            "validation loss 1142.3227252604167\n",
            "Epoch 67\n",
            "kld beta: 1.0\n",
            "train loss 961.82259765625 recons -808.569685546875 kld 153.25291322544643\n",
            "validation loss 1122.7209231770833\n",
            "Epoch 68\n",
            "kld beta: 1.0\n",
            "train loss 946.3909439174107 recons -798.5007862723214 kld 147.8901578892299\n",
            "validation loss 1105.4068990885416\n",
            "Epoch 69\n",
            "kld beta: 1.0\n",
            "train loss 929.7343328683036 recons -787.0812106584822 kld 142.65312084960937\n",
            "validation loss 1092.2103333333334\n",
            "Epoch 70\n",
            "kld beta: 1.0\n",
            "train loss 914.9803409598214 recons -778.0388970424107 kld 136.9414446847098\n",
            "validation loss 1086.1582701822917\n",
            "Epoch 71\n",
            "kld beta: 1.0\n",
            "train loss 899.8319634486608 recons -768.4700569196428 kld 131.3619072265625\n",
            "validation loss 1079.4101119791667\n",
            "Epoch 72\n",
            "kld beta: 1.0\n",
            "train loss 886.2362234933036 recons -759.5099885602679 kld 126.72623294503349\n",
            "validation loss 1057.324447265625\n",
            "Epoch 73\n",
            "kld beta: 1.0\n",
            "train loss 875.2021107700892 recons -752.9739709821429 kld 122.22813950892858\n",
            "validation loss 1050.9920423177084\n",
            "Epoch 74\n",
            "kld beta: 1.0\n",
            "train loss 862.5989539620535 recons -745.3118236607143 kld 117.28713145228795\n",
            "validation loss 1024.2808619791667\n",
            "Epoch 75\n",
            "kld beta: 1.0\n",
            "train loss 853.1287502790178 recons -740.277818359375 kld 112.85093062918527\n",
            "validation loss 1019.027064453125\n",
            "Epoch 76\n",
            "kld beta: 1.0\n",
            "train loss 841.3878540736607 recons -731.84788671875 kld 109.53996355329241\n",
            "validation loss 1024.9302356770834\n",
            "Epoch 77\n",
            "kld beta: 1.0\n",
            "train loss 829.9816397879464 recons -724.465310546875 kld 105.51633021763392\n",
            "validation loss 1019.212068359375\n",
            "Epoch 78\n",
            "kld beta: 1.0\n",
            "train loss 820.0784065290179 recons -717.9968842075892 kld 102.08152392578126\n",
            "validation loss 1006.747599609375\n",
            "Epoch 79\n",
            "kld beta: 1.0\n",
            "train loss 810.53310546875 recons -712.3908278459821 kld 98.1422801688058\n",
            "validation loss 1005.8089778645833\n",
            "Epoch 80\n",
            "kld beta: 1.0\n",
            "train loss 801.2808370535714 recons -706.0714944196428 kld 95.20934329659599\n",
            "validation loss 984.5633079427083\n",
            "Epoch 81\n",
            "kld beta: 1.0\n",
            "train loss 793.4547845982142 recons -701.5517137276786 kld 91.90307045200893\n",
            "validation loss 993.21584765625\n",
            "Epoch 82\n",
            "kld beta: 1.0\n",
            "train loss 784.9414609375 recons -695.9168830915179 kld 89.02457643345424\n",
            "validation loss 976.8904173177083\n",
            "Epoch 83\n",
            "kld beta: 1.0\n",
            "train loss 777.7846554129464 recons -691.7151604352679 kld 86.0694976109096\n",
            "validation loss 959.6267350260416\n",
            "Epoch 84\n",
            "kld beta: 1.0\n",
            "train loss 769.078224609375 recons -685.5081160714286 kld 83.57010794503348\n",
            "validation loss 956.1228203125\n",
            "Epoch 85\n",
            "kld beta: 1.0\n",
            "train loss 761.5214835379464 recons -680.5991107700893 kld 80.92237090192522\n",
            "validation loss 961.4449173177084\n",
            "Epoch 86\n",
            "kld beta: 1.0\n",
            "train loss 755.4321640625 recons -676.8647756696429 kld 78.56738879394531\n",
            "validation loss 943.668361328125\n",
            "Epoch 87\n",
            "kld beta: 1.0\n",
            "train loss 747.0623585379465 recons -670.4836169084822 kld 76.57874213518416\n",
            "validation loss 937.617419921875\n",
            "Epoch 88\n",
            "kld beta: 1.0\n",
            "train loss 742.1083178013392 recons -667.9867600446429 kld 74.12155721609933\n",
            "validation loss 944.0993684895833\n",
            "Epoch 89\n",
            "kld beta: 1.0\n",
            "train loss 735.7154793526786 recons -663.4968180803571 kld 72.21866022600446\n",
            "validation loss 974.4249205729167\n",
            "Epoch 90\n",
            "kld beta: 1.0\n",
            "train loss 729.6220719866071 recons -659.2840153459822 kld 70.33805639648438\n",
            "validation loss 934.0324329427083\n",
            "Epoch 91\n",
            "kld beta: 1.0\n",
            "train loss 723.3782380022321 recons -654.7393058035715 kld 68.63893341936384\n",
            "validation loss 917.5364466145834\n",
            "Epoch 92\n",
            "kld beta: 1.0\n",
            "train loss 718.3868839285715 recons -651.585427734375 kld 66.80145553152902\n",
            "validation loss 916.7306048177084\n",
            "Epoch 93\n",
            "kld beta: 1.0\n",
            "train loss 712.9006872209821 recons -647.8621456473214 kld 65.03854152134487\n",
            "validation loss 916.62941796875\n",
            "Epoch 94\n",
            "kld beta: 1.0\n",
            "train loss 708.5298991350446 recons -644.5778409598214 kld 63.952058925083705\n",
            "validation loss 924.7279928385417\n",
            "Epoch 95\n",
            "kld beta: 1.0\n",
            "train loss 704.964474609375 recons -642.3580904017857 kld 62.60638436453683\n",
            "validation loss 899.7927350260417\n",
            "Epoch 96\n",
            "kld beta: 1.0\n",
            "train loss 698.6294143415179 recons -637.8537229352679 kld 60.77568940080915\n",
            "validation loss 901.8374026692709\n",
            "Epoch 97\n",
            "kld beta: 1.0\n",
            "train loss 696.3464910714285 recons -636.4678239397322 kld 59.878669991629465\n",
            "validation loss 917.25400390625\n",
            "Epoch 98\n",
            "kld beta: 1.0\n",
            "train loss 691.5180390625 recons -632.7834642857143 kld 58.73457512555804\n",
            "validation loss 917.044689453125\n",
            "Epoch 99\n",
            "kld beta: 1.0\n",
            "train loss 685.6404299665179 recons -628.257693359375 kld 57.3827367640904\n",
            "validation loss 903.5548626302083\n",
            "Epoch 100\n",
            "kld beta: 1.0\n",
            "train loss 683.0155809151786 recons -626.7187847377232 kld 56.29679581124442\n",
            "validation loss 910.1128359375\n",
            "Epoch 101\n",
            "kld beta: 1.0\n",
            "train loss 678.2784722377232 recons -623.188244280134 kld 55.09022874232701\n",
            "validation loss 907.1197623697917\n",
            "Epoch 102\n",
            "kld beta: 1.0\n",
            "train loss 674.6574935825893 recons -620.2418489118304 kld 54.415644112723214\n",
            "validation loss 889.8672718098958\n",
            "Epoch 103\n",
            "kld beta: 1.0\n",
            "train loss 673.3160700334821 recons -619.84151171875 kld 53.474559186662944\n",
            "validation loss 882.141623046875\n",
            "Epoch 104\n",
            "kld beta: 1.0\n",
            "train loss 669.4100954241071 recons -616.8448445870536 kld 52.56525245884487\n",
            "validation loss 884.725705078125\n",
            "Epoch 105\n",
            "kld beta: 1.0\n",
            "train loss 666.1925347377232 recons -614.0483822544643 kld 52.14415265764509\n",
            "validation loss 874.5370084635416\n",
            "Epoch 106\n",
            "kld beta: 1.0\n",
            "train loss 662.9318518415179 recons -611.88816796875 kld 51.04368439592634\n",
            "validation loss 890.841775390625\n",
            "Epoch 107\n",
            "kld beta: 1.0\n",
            "train loss 659.2858141741071 recons -609.0488929966518 kld 50.23692154366629\n",
            "validation loss 854.5985494791666\n",
            "Epoch 108\n",
            "kld beta: 1.0\n",
            "train loss 660.7213713727679 recons -611.1586280691964 kld 49.56274297223772\n",
            "validation loss 898.382345703125\n",
            "Epoch 109\n",
            "kld beta: 1.0\n",
            "train loss 654.360712890625 recons -605.3367354910714 kld 49.02397923060826\n",
            "validation loss 843.6572486979167\n",
            "Epoch 110\n",
            "kld beta: 1.0\n",
            "train loss 652.8383669084822 recons -604.6035789620536 kld 48.23478702218192\n",
            "validation loss 868.8815455729167\n",
            "Epoch 111\n",
            "kld beta: 1.0\n",
            "train loss 648.252640485491 recons -600.8045365513393 kld 47.44810245186942\n",
            "validation loss 856.440884765625\n",
            "Epoch 112\n",
            "kld beta: 1.0\n",
            "train loss 646.3733777901786 recons -599.2922406529018 kld 47.08113623046875\n",
            "validation loss 875.8859456380209\n",
            "Epoch 113\n",
            "kld beta: 1.0\n",
            "train loss 645.5149560546874 recons -599.1327490234376 kld 46.38220867047991\n",
            "validation loss 870.55303125\n",
            "Epoch 114\n",
            "kld beta: 1.0\n",
            "train loss 642.7736618303571 recons -596.8451474609375 kld 45.92851590401786\n",
            "validation loss 864.7397565104167\n",
            "Epoch 115\n",
            "kld beta: 1.0\n",
            "train loss 639.7802543247768 recons -594.1588387276786 kld 45.621415693010604\n",
            "validation loss 862.0227369791667\n",
            "Epoch 116\n",
            "kld beta: 1.0\n",
            "train loss 636.9385594308036 recons -591.918246233259 kld 45.02031502859933\n",
            "validation loss 851.74084375\n",
            "Epoch 117\n",
            "kld beta: 1.0\n",
            "train loss 634.479259765625 recons -589.8534031808035 kld 44.62585635811942\n",
            "validation loss 838.6562057291667\n",
            "Epoch 118\n",
            "kld beta: 1.0\n",
            "train loss 635.1875559430804 recons -590.929165876116 kld 44.258390921456474\n",
            "validation loss 862.068873046875\n",
            "Epoch 119\n",
            "kld beta: 1.0\n",
            "train loss 632.3113310546875 recons -588.503609514509 kld 43.80772281319754\n",
            "validation loss 835.253001953125\n",
            "Epoch 120\n",
            "kld beta: 1.0\n",
            "train loss 629.7991764787946 recons -586.317002092634 kld 43.482175885881695\n",
            "validation loss 843.7679739583333\n",
            "Epoch 121\n",
            "kld beta: 1.0\n",
            "train loss 669.7910538504465 recons -624.5817642299107 kld 45.20929170445034\n",
            "validation loss 853.4625852864583\n",
            "Epoch 122\n",
            "kld beta: 1.0\n",
            "train loss 632.3936036551339 recons -588.5516418805804 kld 43.8419613734654\n",
            "validation loss 860.9193997395834\n",
            "Epoch 123\n",
            "kld beta: 1.0\n",
            "train loss 625.8767576729911 recons -582.8553229631697 kld 43.0214352242606\n",
            "validation loss 851.9985247395833\n",
            "Epoch 124\n",
            "kld beta: 1.0\n",
            "train loss 623.3781258370535 recons -580.9737806919643 kld 42.40434504045759\n",
            "validation loss 837.4536204427084\n",
            "Epoch 125\n",
            "kld beta: 1.0\n",
            "train loss 621.8776392299108 recons -580.0172328404018 kld 41.860405831473216\n",
            "validation loss 836.43802734375\n",
            "Epoch 126\n",
            "kld beta: 1.0\n",
            "train loss 620.5980237165179 recons -579.04970703125 kld 41.54831633649554\n",
            "validation loss 845.40330078125\n",
            "Epoch 127\n",
            "kld beta: 1.0\n",
            "train loss 619.1976696428571 recons -578.0826597377232 kld 41.115009530203686\n",
            "validation loss 839.6527688802083\n",
            "Epoch 128\n",
            "kld beta: 1.0\n",
            "train loss 618.0153843470982 recons -577.0852806919643 kld 40.930103323800225\n",
            "validation loss 851.7758255208333\n",
            "Epoch 129\n",
            "kld beta: 1.0\n",
            "train loss 616.9448782087054 recons -576.1347897600447 kld 40.81008823067801\n",
            "validation loss 848.934962890625\n",
            "Epoch 130\n",
            "kld beta: 1.0\n",
            "train loss 615.1993150111607 recons -574.6954624720983 kld 40.50385193743025\n",
            "validation loss 830.2350970052083\n",
            "Epoch 131\n",
            "kld beta: 1.0\n",
            "train loss 613.1082911551339 recons -572.8533101283482 kld 40.25498201206752\n",
            "validation loss 829.6994166666667\n",
            "Epoch 132\n",
            "kld beta: 1.0\n",
            "train loss 613.7118070591517 recons -573.7642859933036 kld 39.94752002825056\n",
            "validation loss 831.2066881510417\n",
            "Epoch 133\n",
            "kld beta: 1.0\n",
            "train loss 610.9411418805804 recons -571.2438544921876 kld 39.69728633335659\n",
            "validation loss 823.2872135416667\n",
            "Epoch 134\n",
            "kld beta: 1.0\n",
            "train loss 611.9172650669643 recons -572.5890393415178 kld 39.328226126534595\n",
            "validation loss 818.9249947916667\n",
            "Epoch 135\n",
            "kld beta: 1.0\n",
            "train loss 609.3745756138393 recons -570.080956891741 kld 39.29361830357143\n",
            "validation loss 826.4847991536458\n",
            "Epoch 136\n",
            "kld beta: 1.0\n",
            "train loss 608.6275560825893 recons -569.6105302734375 kld 39.017025285993306\n",
            "validation loss 831.850484375\n",
            "Epoch 137\n",
            "kld beta: 1.0\n",
            "train loss 607.7686473214286 recons -568.9092283761161 kld 38.859420174734936\n",
            "validation loss 841.8198717447916\n",
            "Epoch 138\n",
            "kld beta: 1.0\n",
            "train loss 606.5485717075893 recons -567.7887060546875 kld 38.75986343819754\n",
            "validation loss 813.5935891927084\n",
            "Epoch 139\n",
            "kld beta: 1.0\n",
            "train loss 604.8795179966518 recons -566.2298005022321 kld 38.64971834019252\n",
            "validation loss 798.0280924479167\n",
            "Epoch 140\n",
            "kld beta: 1.0\n",
            "train loss 605.9039596819197 recons -567.3663882533482 kld 38.53757027762277\n",
            "validation loss 832.637603515625\n",
            "Epoch 141\n",
            "kld beta: 1.0\n",
            "train loss 604.924466796875 recons -566.655224609375 kld 38.2692400163923\n",
            "validation loss 817.8923880208333\n",
            "Epoch 142\n",
            "kld beta: 1.0\n",
            "train loss 603.1640385044643 recons -565.1119289899553 kld 38.05210949707031\n",
            "validation loss 823.13884375\n",
            "Epoch 143\n",
            "kld beta: 1.0\n",
            "train loss 602.1793091517857 recons -564.3011739676339 kld 37.878134303501675\n",
            "validation loss 822.8829837239583\n",
            "Epoch 144\n",
            "kld beta: 1.0\n",
            "train loss 601.812294782366 recons -563.995615094866 kld 37.816679164341515\n",
            "validation loss 809.6832473958333\n",
            "Epoch 145\n",
            "kld beta: 1.0\n",
            "train loss 600.1211549944196 recons -562.4652518136161 kld 37.655901096888954\n",
            "validation loss 826.0605859375\n",
            "Epoch 146\n",
            "kld beta: 1.0\n",
            "train loss 599.0869454520089 recons -561.5734920479911 kld 37.51345451136998\n",
            "validation loss 826.4476380208333\n",
            "Epoch 147\n",
            "kld beta: 1.0\n",
            "train loss 600.0943017578124 recons -562.8619359654018 kld 37.23236282784598\n",
            "validation loss 830.4890416666667\n",
            "Epoch 148\n",
            "kld beta: 1.0\n",
            "train loss 598.9925397600447 recons -561.721183733259 kld 37.27135669817243\n",
            "validation loss 823.3055654296875\n",
            "Epoch 149\n",
            "kld beta: 1.0\n",
            "train loss 597.5986004464286 recons -560.5660980747767 kld 37.03250265938895\n",
            "validation loss 794.3312701822916\n",
            "Epoch 150\n",
            "kld beta: 1.0\n",
            "train loss 596.6470046037947 recons -559.7097145647322 kld 36.937287493024556\n",
            "validation loss 803.8239251302083\n",
            "Epoch 151\n",
            "kld beta: 1.0\n",
            "train loss 597.3721272321428 recons -560.608558733259 kld 36.76356856863839\n",
            "validation loss 800.74276171875\n",
            "Epoch 152\n",
            "kld beta: 1.0\n",
            "train loss 595.8199790736608 recons -559.1653404017857 kld 36.654636832101005\n",
            "validation loss 815.0311110026041\n",
            "Epoch 153\n",
            "kld beta: 1.0\n",
            "train loss 594.6310182756696 recons -557.8951061662947 kld 36.73591279820033\n",
            "validation loss 817.7187994791667\n",
            "Epoch 154\n",
            "kld beta: 1.0\n",
            "train loss 595.3108683035714 recons -558.8069635881697 kld 36.50390498570034\n",
            "validation loss 813.5509095052083\n",
            "Epoch 155\n",
            "kld beta: 1.0\n"
          ],
          "name": "stdout"
        },
        {
          "output_type": "error",
          "ename": "KeyboardInterrupt",
          "evalue": "ignored",
          "traceback": [
            "\u001b[0;31m---------------------------------------------------------------------------\u001b[0m",
            "\u001b[0;31mKeyboardInterrupt\u001b[0m                         Traceback (most recent call last)",
            "\u001b[0;32m<ipython-input-13-b87567a2de85>\u001b[0m in \u001b[0;36m<module>\u001b[0;34m()\u001b[0m\n\u001b[1;32m     18\u001b[0m         \u001b[0mkld_beta\u001b[0m \u001b[0;34m=\u001b[0m \u001b[0mmin\u001b[0m\u001b[0;34m(\u001b[0m\u001b[0;36m1.0\u001b[0m\u001b[0;34m,\u001b[0m \u001b[0;36m0.1\u001b[0m \u001b[0;34m*\u001b[0m \u001b[0;34m(\u001b[0m\u001b[0mepoch\u001b[0m \u001b[0;34m-\u001b[0m \u001b[0mactivate_kld_after\u001b[0m\u001b[0;34m)\u001b[0m\u001b[0;34m)\u001b[0m\u001b[0;34m\u001b[0m\u001b[0;34m\u001b[0m\u001b[0m\n\u001b[1;32m     19\u001b[0m     \u001b[0mprint\u001b[0m\u001b[0;34m(\u001b[0m\u001b[0;34m'kld beta:'\u001b[0m\u001b[0;34m,\u001b[0m \u001b[0mkld_beta\u001b[0m\u001b[0;34m)\u001b[0m\u001b[0;34m\u001b[0m\u001b[0;34m\u001b[0m\u001b[0m\n\u001b[0;32m---> 20\u001b[0;31m     \u001b[0mtrain_loss\u001b[0m\u001b[0;34m,\u001b[0m \u001b[0mrecons_loss\u001b[0m\u001b[0;34m,\u001b[0m \u001b[0mkld_loss\u001b[0m \u001b[0;34m=\u001b[0m \u001b[0mtrain\u001b[0m\u001b[0;34m(\u001b[0m\u001b[0mvae\u001b[0m\u001b[0;34m,\u001b[0m \u001b[0mtrain_loader\u001b[0m\u001b[0;34m,\u001b[0m \u001b[0moptimizer\u001b[0m\u001b[0;34m,\u001b[0m \u001b[0mpoiss_loss_function_pyro\u001b[0m\u001b[0;34m,\u001b[0m \u001b[0mkld_beta\u001b[0m\u001b[0;34m)\u001b[0m\u001b[0;34m\u001b[0m\u001b[0;34m\u001b[0m\u001b[0m\n\u001b[0m\u001b[1;32m     21\u001b[0m     \u001b[0mprint\u001b[0m\u001b[0;34m(\u001b[0m\u001b[0;34m'train loss'\u001b[0m\u001b[0;34m,\u001b[0m \u001b[0mtrain_loss\u001b[0m\u001b[0;34m,\u001b[0m \u001b[0;34m'recons'\u001b[0m\u001b[0;34m,\u001b[0m \u001b[0mrecons_loss\u001b[0m\u001b[0;34m,\u001b[0m \u001b[0;34m'kld'\u001b[0m\u001b[0;34m,\u001b[0m \u001b[0mkld_loss\u001b[0m\u001b[0;34m)\u001b[0m\u001b[0;34m\u001b[0m\u001b[0;34m\u001b[0m\u001b[0m\n\u001b[1;32m     22\u001b[0m     \u001b[0;32mif\u001b[0m \u001b[0mtrain_loss\u001b[0m \u001b[0;34m<\u001b[0m \u001b[0;36m1500.\u001b[0m \u001b[0;32mand\u001b[0m \u001b[0mready_to_activate_kld\u001b[0m \u001b[0;34m==\u001b[0m \u001b[0;32mFalse\u001b[0m\u001b[0;34m:\u001b[0m\u001b[0;34m\u001b[0m\u001b[0;34m\u001b[0m\u001b[0m\n",
            "\u001b[0;32m<ipython-input-9-bc3d27c25c4b>\u001b[0m in \u001b[0;36mtrain\u001b[0;34m(model, dataloader, optimizer, loss_function, kld_beta)\u001b[0m\n\u001b[1;32m     20\u001b[0m           \u001b[0mprint\u001b[0m\u001b[0;34m(\u001b[0m\u001b[0;34m'Might want to skip this optimizing step'\u001b[0m\u001b[0;34m)\u001b[0m\u001b[0;34m\u001b[0m\u001b[0;34m\u001b[0m\u001b[0m\n\u001b[1;32m     21\u001b[0m \u001b[0;34m\u001b[0m\u001b[0m\n\u001b[0;32m---> 22\u001b[0;31m         \u001b[0mloss\u001b[0m\u001b[0;34m.\u001b[0m\u001b[0mbackward\u001b[0m\u001b[0;34m(\u001b[0m\u001b[0;34m)\u001b[0m\u001b[0;34m\u001b[0m\u001b[0;34m\u001b[0m\u001b[0m\n\u001b[0m\u001b[1;32m     23\u001b[0m         \u001b[0moptimizer\u001b[0m\u001b[0;34m.\u001b[0m\u001b[0mstep\u001b[0m\u001b[0;34m(\u001b[0m\u001b[0;34m)\u001b[0m\u001b[0;34m\u001b[0m\u001b[0;34m\u001b[0m\u001b[0m\n\u001b[1;32m     24\u001b[0m \u001b[0;34m\u001b[0m\u001b[0m\n",
            "\u001b[0;32m/usr/local/lib/python3.6/dist-packages/torch/tensor.py\u001b[0m in \u001b[0;36mbackward\u001b[0;34m(self, gradient, retain_graph, create_graph)\u001b[0m\n\u001b[1;32m    183\u001b[0m                 \u001b[0mproducts\u001b[0m\u001b[0;34m.\u001b[0m \u001b[0mDefaults\u001b[0m \u001b[0mto\u001b[0m\u001b[0;31m \u001b[0m\u001b[0;31m`\u001b[0m\u001b[0;31m`\u001b[0m\u001b[0;32mFalse\u001b[0m\u001b[0;31m`\u001b[0m\u001b[0;31m`\u001b[0m\u001b[0;34m.\u001b[0m\u001b[0;34m\u001b[0m\u001b[0;34m\u001b[0m\u001b[0m\n\u001b[1;32m    184\u001b[0m         \"\"\"\n\u001b[0;32m--> 185\u001b[0;31m         \u001b[0mtorch\u001b[0m\u001b[0;34m.\u001b[0m\u001b[0mautograd\u001b[0m\u001b[0;34m.\u001b[0m\u001b[0mbackward\u001b[0m\u001b[0;34m(\u001b[0m\u001b[0mself\u001b[0m\u001b[0;34m,\u001b[0m \u001b[0mgradient\u001b[0m\u001b[0;34m,\u001b[0m \u001b[0mretain_graph\u001b[0m\u001b[0;34m,\u001b[0m \u001b[0mcreate_graph\u001b[0m\u001b[0;34m)\u001b[0m\u001b[0;34m\u001b[0m\u001b[0;34m\u001b[0m\u001b[0m\n\u001b[0m\u001b[1;32m    186\u001b[0m \u001b[0;34m\u001b[0m\u001b[0m\n\u001b[1;32m    187\u001b[0m     \u001b[0;32mdef\u001b[0m \u001b[0mregister_hook\u001b[0m\u001b[0;34m(\u001b[0m\u001b[0mself\u001b[0m\u001b[0;34m,\u001b[0m \u001b[0mhook\u001b[0m\u001b[0;34m)\u001b[0m\u001b[0;34m:\u001b[0m\u001b[0;34m\u001b[0m\u001b[0;34m\u001b[0m\u001b[0m\n",
            "\u001b[0;32m/usr/local/lib/python3.6/dist-packages/torch/autograd/__init__.py\u001b[0m in \u001b[0;36mbackward\u001b[0;34m(tensors, grad_tensors, retain_graph, create_graph, grad_variables)\u001b[0m\n\u001b[1;32m    125\u001b[0m     Variable._execution_engine.run_backward(\n\u001b[1;32m    126\u001b[0m         \u001b[0mtensors\u001b[0m\u001b[0;34m,\u001b[0m \u001b[0mgrad_tensors\u001b[0m\u001b[0;34m,\u001b[0m \u001b[0mretain_graph\u001b[0m\u001b[0;34m,\u001b[0m \u001b[0mcreate_graph\u001b[0m\u001b[0;34m,\u001b[0m\u001b[0;34m\u001b[0m\u001b[0;34m\u001b[0m\u001b[0m\n\u001b[0;32m--> 127\u001b[0;31m         allow_unreachable=True)  # allow_unreachable flag\n\u001b[0m\u001b[1;32m    128\u001b[0m \u001b[0;34m\u001b[0m\u001b[0m\n\u001b[1;32m    129\u001b[0m \u001b[0;34m\u001b[0m\u001b[0m\n",
            "\u001b[0;31mKeyboardInterrupt\u001b[0m: "
          ]
        }
      ]
    },
    {
      "cell_type": "code",
      "metadata": {
        "id": "56BJ6eyfnJZi",
        "outputId": "a1cb6bb5-bf0d-4b89-d14b-eea75b2888c1",
        "colab": {
          "base_uri": "https://localhost:8080/",
          "height": 35
        }
      },
      "source": [
        "test_loss = validate(vae, test_loader, optimizer, poiss_loss_function_pyro, kld_beta = 1.0)\n",
        "print('Test loss', test_loss)"
      ],
      "execution_count": null,
      "outputs": [
        {
          "output_type": "stream",
          "text": [
            "Test loss 811.1107814570222\n"
          ],
          "name": "stdout"
        }
      ]
    },
    {
      "cell_type": "code",
      "metadata": {
        "id": "vxUReD9zsNyu",
        "outputId": "6568d8c4-8354-46c5-907f-7d4b50a498a3",
        "colab": {
          "base_uri": "https://localhost:8080/",
          "height": 225
        }
      },
      "source": [
        "vae"
      ],
      "execution_count": null,
      "outputs": [
        {
          "output_type": "execute_result",
          "data": {
            "text/plain": [
              "ZIP_VAE_FORSOEG2(\n",
              "  (mu_1): Linear(in_features=4000, out_features=512, bias=True)\n",
              "  (mu_2): Linear(in_features=512, out_features=256, bias=True)\n",
              "  (mu_3): Linear(in_features=512, out_features=20, bias=True)\n",
              "  (var_1): Linear(in_features=4000, out_features=512, bias=True)\n",
              "  (var_2): Linear(in_features=512, out_features=256, bias=True)\n",
              "  (var_3): Linear(in_features=512, out_features=20, bias=True)\n",
              "  (dec_1): Linear(in_features=20, out_features=256, bias=True)\n",
              "  (dec_3): Linear(in_features=256, out_features=4000, bias=True)\n",
              "  (dec_dropout_1): Linear(in_features=20, out_features=256, bias=True)\n",
              "  (dec_dropout_3): Linear(in_features=256, out_features=4000, bias=True)\n",
              ")"
            ]
          },
          "metadata": {
            "tags": []
          },
          "execution_count": 36
        }
      ]
    },
    {
      "cell_type": "code",
      "metadata": {
        "id": "eVtP5VI3nJZ4",
        "outputId": "618a053e-e6ab-46ea-f959-920a91b461ef",
        "colab": {
          "base_uri": "https://localhost:8080/",
          "height": 295
        }
      },
      "source": [
        "plt.plot(np.arange(2,len(train_history)), train_history[2:], label='train')\n",
        "plt.plot(np.arange(2,len(train_history)), val_history[2:], label='val')\n",
        "plt.axhline(test_loss, c='red', label='test ' + str(int(test_loss)))\n",
        "plt.title('Loss Poisson VAE on IMMUNE')\n",
        "plt.xlabel('Epochs')\n",
        "plt.ylabel('Loss')\n",
        "plt.legend()\n",
        "plt.savefig('/content/gdrive/My Drive/Colab Notebooks/Colab Cell Experiments/plots/pois_vae_forsoeg3_history.png')"
      ],
      "execution_count": null,
      "outputs": [
        {
          "output_type": "display_data",
          "data": {
            "image/png": "[encoded data removed]",
            "text/plain": [
              "<Figure size 432x288 with 1 Axes>"
            ]
          },
          "metadata": {
            "tags": [],
            "needs_background": "light"
          }
        }
      ]
    },
    {
      "cell_type": "code",
      "metadata": {
        "id": "sLyPtofMgDug"
      },
      "source": [
        "#torch.save(vae, '/content/gdrive/My Drive/Colab Notebooks/Colab Cell Experiments/outputs/poisvae_forsoeg3_1.pkl')"
      ],
      "execution_count": null,
      "outputs": []
    },
    {
      "cell_type": "markdown",
      "metadata": {
        "id": "mO18SAW5nJaB"
      },
      "source": [
        "# Plot it all"
      ]
    },
    {
      "cell_type": "code",
      "metadata": {
        "id": "GSn1mOVFnJaC"
      },
      "source": [
        "X_tensor = torch.tensor(X)"
      ],
      "execution_count": null,
      "outputs": []
    },
    {
      "cell_type": "code",
      "metadata": {
        "id": "mhaD8jP1TSAK",
        "outputId": "af6a5451-88b4-4459-c7f8-3512a0cbb4cc",
        "colab": {
          "base_uri": "https://localhost:8080/",
          "height": 35
        }
      },
      "source": [
        "torch.cuda.is_available()"
      ],
      "execution_count": null,
      "outputs": [
        {
          "output_type": "execute_result",
          "data": {
            "text/plain": [
              "True"
            ]
          },
          "metadata": {
            "tags": []
          },
          "execution_count": 26
        }
      ]
    },
    {
      "cell_type": "code",
      "metadata": {
        "id": "3DCxkA1YU98R"
      },
      "source": [
        "if torch.cuda.is_available():\n",
        "  X_tensor = X_tensor.cuda()"
      ],
      "execution_count": null,
      "outputs": []
    },
    {
      "cell_type": "code",
      "metadata": {
        "id": "PJAgt8mVnJaL"
      },
      "source": [
        "X_encoded = vae.encoder(X_tensor.float())"
      ],
      "execution_count": null,
      "outputs": []
    },
    {
      "cell_type": "code",
      "metadata": {
        "id": "DoOLQ89EnJaT"
      },
      "source": [
        "X_encoded_means = X_encoded[0]"
      ],
      "execution_count": null,
      "outputs": []
    },
    {
      "cell_type": "code",
      "metadata": {
        "id": "ClspdiYtVwry",
        "outputId": "095d40e3-8d28-4e15-91a6-244919870e1a",
        "colab": {
          "base_uri": "https://localhost:8080/",
          "height": 156
        }
      },
      "source": [
        "X_encoded_means.cpu()"
      ],
      "execution_count": null,
      "outputs": [
        {
          "output_type": "execute_result",
          "data": {
            "text/plain": [
              "tensor([[ 3.3849,  2.5698, -1.9601,  ...,  1.1221,  3.0540,  2.3205],\n",
              "        [ 0.7856, -0.8237, -2.3367,  ..., -1.2840, -2.3143,  3.1530],\n",
              "        [ 1.8605,  3.5744,  0.8010,  ..., -0.1980,  1.3907, -0.5242],\n",
              "        ...,\n",
              "        [-0.3784, -1.6401,  1.9797,  ...,  0.2251,  1.0258, -0.0113],\n",
              "        [ 1.7513,  1.4263,  1.7406,  ...,  0.7733,  1.4043,  2.9395],\n",
              "        [-0.4658,  0.7528,  2.3080,  ...,  0.8526, -0.4642,  0.7590]],\n",
              "       grad_fn=<CopyBackwards>)"
            ]
          },
          "metadata": {
            "tags": []
          },
          "execution_count": 30
        }
      ]
    },
    {
      "cell_type": "code",
      "metadata": {
        "id": "rF2GKJgoVzTM",
        "outputId": "5a680e97-aa47-4345-d166-f38bdf821d5f",
        "colab": {
          "base_uri": "https://localhost:8080/",
          "height": 156
        }
      },
      "source": [
        "X_encoded_means"
      ],
      "execution_count": null,
      "outputs": [
        {
          "output_type": "execute_result",
          "data": {
            "text/plain": [
              "tensor([[ 3.3849,  2.5698, -1.9601,  ...,  1.1221,  3.0540,  2.3205],\n",
              "        [ 0.7856, -0.8237, -2.3367,  ..., -1.2840, -2.3143,  3.1530],\n",
              "        [ 1.8605,  3.5744,  0.8010,  ..., -0.1980,  1.3907, -0.5242],\n",
              "        ...,\n",
              "        [-0.3784, -1.6401,  1.9797,  ...,  0.2251,  1.0258, -0.0113],\n",
              "        [ 1.7513,  1.4263,  1.7406,  ...,  0.7733,  1.4043,  2.9395],\n",
              "        [-0.4658,  0.7528,  2.3080,  ...,  0.8526, -0.4642,  0.7590]],\n",
              "       device='cuda:0', grad_fn=<AddmmBackward>)"
            ]
          },
          "metadata": {
            "tags": []
          },
          "execution_count": 31
        }
      ]
    },
    {
      "cell_type": "code",
      "metadata": {
        "id": "RBM55rqqnJaX"
      },
      "source": [
        "import umap\n",
        "reducer = umap.UMAP()\n",
        "X_encoded_umap = reducer.fit_transform(X_encoded_means.detach().cpu())"
      ],
      "execution_count": null,
      "outputs": []
    },
    {
      "cell_type": "code",
      "metadata": {
        "id": "pLQSSB54nJac",
        "outputId": "f9f28f97-6df5-47f9-eedb-97b2845b5468",
        "colab": {
          "base_uri": "https://localhost:8080/",
          "height": 295
        }
      },
      "source": [
        "plt.title('Poisson VAE + UMAP on IMMUNE')\n",
        "plt.xlabel('Dimension 1')\n",
        "plt.ylabel('Dimension 2')\n",
        "plt.scatter(X_encoded_umap[:,0], X_encoded_umap[:,1])\n",
        "plt.savefig('/content/gdrive/My Drive/Colab Notebooks/Colab Cell Experiments/plots/pois_vae_forsoeg3_umap_a.png')"
      ],
      "execution_count": null,
      "outputs": [
        {
          "output_type": "display_data",
          "data": {
            "image/png": "[encoded data removed]",
            "text/plain": [
              "<Figure size 432x288 with 1 Axes>"
            ]
          },
          "metadata": {
            "tags": [],
            "needs_background": "light"
          }
        }
      ]
    },
    {
      "cell_type": "markdown",
      "metadata": {
        "id": "DR_z3qmanJak"
      },
      "source": [
        "## Generate cells"
      ]
    },
    {
      "cell_type": "code",
      "metadata": {
        "id": "wyVdl0QynJak"
      },
      "source": [
        "Z_samples = torch.randn(1000, 20)"
      ],
      "execution_count": null,
      "outputs": []
    },
    {
      "cell_type": "code",
      "metadata": {
        "id": "5rH0uTdWnJaq"
      },
      "source": [
        "Z_samples_umap_transformed = reducer.transform(Z_samples)"
      ],
      "execution_count": null,
      "outputs": []
    },
    {
      "cell_type": "code",
      "metadata": {
        "id": "v3S_G7JknJav"
      },
      "source": [
        "absolute_zero = torch.zeros(1, 20)"
      ],
      "execution_count": null,
      "outputs": []
    },
    {
      "cell_type": "code",
      "metadata": {
        "id": "b9RkgGV6nJa1",
        "outputId": "0892782f-adc2-4556-dd72-f7f04f771e7c"
      },
      "source": [
        "plt.scatter(X_encoded_umap[:,0], X_encoded_umap[:,1])\n",
        "plt.scatter(Z_samples_umap_transformed[:,0], Z_samples_umap_transformed[:,1])\n",
        "plt.scatter(absolute_zero[:,0], absolute_zero[:,1], c='red')"
      ],
      "execution_count": null,
      "outputs": [
        {
          "output_type": "execute_result",
          "data": {
            "text/plain": [
              "<matplotlib.collections.PathCollection at 0x13f8630a0>"
            ]
          },
          "metadata": {
            "tags": []
          },
          "execution_count": 115
        },
        {
          "output_type": "display_data",
          "data": {
            "image/png": "[encoded data removed]",
            "text/plain": [
              "<Figure size 432x288 with 1 Axes>"
            ]
          },
          "metadata": {
            "tags": [],
            "needs_background": "light"
          }
        }
      ]
    },
    {
      "cell_type": "code",
      "metadata": {
        "id": "G3GCrWqDnJa6"
      },
      "source": [
        "generated_decoded = None\n",
        "with torch.no_grad():\n",
        "    generated_decoded = vae.decoder(Z_samples)"
      ],
      "execution_count": null,
      "outputs": []
    },
    {
      "cell_type": "code",
      "metadata": {
        "id": "wd4958NgnJa_",
        "outputId": "fd75176a-c668-461b-9f2b-ac32aee20242"
      },
      "source": [
        "generated_decoded.shape"
      ],
      "execution_count": null,
      "outputs": [
        {
          "output_type": "execute_result",
          "data": {
            "text/plain": [
              "torch.Size([1000, 4000])"
            ]
          },
          "metadata": {
            "tags": []
          },
          "execution_count": 72
        }
      ]
    },
    {
      "cell_type": "code",
      "metadata": {
        "id": "A7GpRdSHnJbD"
      },
      "source": [
        ""
      ],
      "execution_count": null,
      "outputs": []
    }
  ]
}