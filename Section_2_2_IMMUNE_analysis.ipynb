{
  "nbformat": 4,
  "nbformat_minor": 0,
  "metadata": {
    "colab": {
      "name": "Section 2.2 - IMMUNE analysis",
      "provenance": [],
      "collapsed_sections": [],
      "authorship_tag": "ABX9TyNdln5/Q84Yqj62lbjRLa8t",
      "include_colab_link": true
    },
    "kernelspec": {
      "name": "python3",
      "display_name": "Python 3"
    }
  },
  "cells": [
    {
      "cell_type": "markdown",
      "metadata": {
        "id": "view-in-github",
        "colab_type": "text"
      },
      "source": [
        "<a href=\"https://colab.research.google.com/github/kmrasmussen/cell_project/blob/main/Section_2_2_IMMUNE_analysis.ipynb\" target=\"_parent\"><img src=\"https://colab.research.google.com/assets/colab-badge.svg\" alt=\"Open In Colab\"/></a>"
      ]
    },
    {
      "cell_type": "code",
      "metadata": {
        "id": "0JOg2Pr5vC0C"
      },
      "source": [
        "import numpy as np\n",
        "from sklearn.decomposition import PCA\n",
        "import matplotlib.pyplot as plt\n",
        "import umap\n",
        "import torch.nn.functional as F\n",
        "import torch"
      ],
      "execution_count": null,
      "outputs": []
    },
    {
      "cell_type": "code",
      "metadata": {
        "id": "pcdo_-DFunQv",
        "outputId": "138990fb-60fb-4d0a-8cf9-4fe70838d3c2",
        "colab": {
          "base_uri": "https://localhost:8080/",
          "height": 35
        }
      },
      "source": [
        "from google.colab import drive\n",
        "drive.mount('/content/gdrive')"
      ],
      "execution_count": null,
      "outputs": [
        {
          "output_type": "stream",
          "text": [
            "Mounted at /content/gdrive\n"
          ],
          "name": "stdout"
        }
      ]
    },
    {
      "cell_type": "code",
      "metadata": {
        "id": "sZXY13NQu7Ws"
      },
      "source": [
        "X = np.load('/content/gdrive/My Drive/uni_archive/cell/immune_control_subsampled_alone.npy')"
      ],
      "execution_count": null,
      "outputs": []
    },
    {
      "cell_type": "code",
      "metadata": {
        "id": "wKcPXmUJvEi6",
        "outputId": "f4633534-80de-41c4-d2f6-5562295069a2",
        "colab": {
          "base_uri": "https://localhost:8080/",
          "height": 104
        }
      },
      "source": [
        "pca = PCA(n_components=20)\n",
        "pca.fit(X)\n",
        "print('Explained variance ratios', pca.explained_variance_ratio_)\n",
        "print('Explained variance by 2D', pca.explained_variance_ratio_[:2].sum())\n",
        "X_pca = pca.transform(X)"
      ],
      "execution_count": null,
      "outputs": [
        {
          "output_type": "stream",
          "text": [
            "Explained variance ratios [5.5850554e-01 3.6542737e-01 3.5301287e-02 1.6329695e-02 4.1106222e-03\n",
            " 2.6323223e-03 2.5918081e-03 1.5429870e-03 1.1329027e-03 1.0267891e-03\n",
            " 7.0413295e-04 5.4367620e-04 4.4349086e-04 3.9486348e-04 3.8008176e-04\n",
            " 3.4228485e-04 3.3162013e-04 3.0946519e-04 2.5750653e-04 2.3688696e-04]\n",
            "Explained variance by 2D 0.9239329\n"
          ],
          "name": "stdout"
        }
      ]
    },
    {
      "cell_type": "code",
      "metadata": {
        "id": "vEM00mhWvYbD",
        "outputId": "dd2b0620-3f45-4571-96c4-ed860d6bd57f",
        "colab": {
          "base_uri": "https://localhost:8080/",
          "height": 281
        }
      },
      "source": [
        "plt.title('PCA of IMMUNE')\n",
        "plt.scatter(X_pca[:,0], X_pca[:,1])\n",
        "#plt.savefig('/content/gdrive/My Drive/uni_archive/cell_proj/experiments/experiment_plots/exp.1.2.2.immune_pca.png')"
      ],
      "execution_count": null,
      "outputs": [
        {
          "output_type": "display_data",
          "data": {
            "image/png": "[encoded data removed]",
            "text/plain": [
              "<Figure size 432x288 with 1 Axes>"
            ]
          },
          "metadata": {
            "tags": [],
            "needs_background": "light"
          }
        }
      ]
    },
    {
      "cell_type": "code",
      "metadata": {
        "id": "jAMLMRoCvfI2"
      },
      "source": [
        "umap_ = umap.UMAP()\n",
        "X_umap = umap_.fit_transform(X)"
      ],
      "execution_count": null,
      "outputs": []
    },
    {
      "cell_type": "code",
      "metadata": {
        "id": "m7qltJ0fwMGE",
        "outputId": "4f9c724e-335c-483b-816a-a3529556144a",
        "colab": {
          "base_uri": "https://localhost:8080/",
          "height": 299
        }
      },
      "source": [
        "plt.title('UMAP of IMMUNE')\n",
        "plt.scatter(X_umap[:,0], X_umap[:,1])\n",
        "#plt.savefig('/content/gdrive/My Drive/uni_archive/cell_proj/experiments/experiment_plots/exp.1.2.2.immune_umap.png')"
      ],
      "execution_count": null,
      "outputs": [
        {
          "output_type": "execute_result",
          "data": {
            "text/plain": [
              "<matplotlib.collections.PathCollection at 0x7f2e81523d68>"
            ]
          },
          "metadata": {
            "tags": []
          },
          "execution_count": 88
        },
        {
          "output_type": "display_data",
          "data": {
            "image/png": "[encoded data removed]",
            "text/plain": [
              "<Figure size 432x288 with 1 Axes>"
            ]
          },
          "metadata": {
            "tags": [],
            "needs_background": "light"
          }
        }
      ]
    },
    {
      "cell_type": "code",
      "metadata": {
        "id": "ydOSqYwIOKw9",
        "outputId": "f9f7db37-dadd-405c-807b-b4a707d32b79",
        "colab": {
          "base_uri": "https://localhost:8080/",
          "height": 35
        }
      },
      "source": [
        "np.median(X.sum(axis = 1))"
      ],
      "execution_count": null,
      "outputs": [
        {
          "output_type": "execute_result",
          "data": {
            "text/plain": [
              "242.0"
            ]
          },
          "metadata": {
            "tags": []
          },
          "execution_count": 18
        }
      ]
    },
    {
      "cell_type": "code",
      "metadata": {
        "id": "C3gC7hVZwUOH",
        "outputId": "09f6d6fd-45f6-4f90-b34e-83c73a483790",
        "colab": {
          "base_uri": "https://localhost:8080/",
          "height": 295
        }
      },
      "source": [
        "plt.hist(X.sum(axis = 1), bins = 100)\n",
        "plt.axvline(x = X.sum(axis = 1).mean(), color = 'red', label = 'mean = ' + str(int(X.sum(axis = 1).mean())))\n",
        "plt.axvline(x = np.median(X.sum(axis = 1)), color = 'black', label = 'median = ' + str(int(np.median(X.sum(axis = 1)))))\n",
        "plt.legend()\n",
        "plt.title('Distribution over library sizes in IMMUNE')\n",
        "plt.xlabel('Library size')\n",
        "plt.ylabel('Frequency of cells')\n",
        "#plt.savefig('/content/gdrive/My Drive/uni_archive/cell_proj/experiments/experiment_plots/exp.1.2.2.immune_library_sizes.png')"
      ],
      "execution_count": null,
      "outputs": [
        {
          "output_type": "display_data",
          "data": {
            "image/png": "[encoded data removed]",
            "text/plain": [
              "<Figure size 432x288 with 1 Axes>"
            ]
          },
          "metadata": {
            "tags": [],
            "needs_background": "light"
          }
        }
      ]
    },
    {
      "cell_type": "code",
      "metadata": {
        "id": "PVCGX7c93F5V",
        "outputId": "f092b4ff-af69-4625-eec8-ef8791a77de2",
        "colab": {
          "base_uri": "https://localhost:8080/",
          "height": 295
        }
      },
      "source": [
        "plt.hist(np.log(X.sum(axis = 1)), bins = 100)\n",
        "plt.title('Distribution over log library sizes in IMMUNE')\n",
        "plt.xlabel('Library size')\n",
        "plt.ylabel('Number of cells with that library size')\n",
        "#plt.axvline(x = np.log(X.sum(axis = 1)).mean(), color = 'red', label = 'mean = ' + str(int(np.log(X.sum(axis = 1)).mean())))\n",
        "plt.savefig('/content/gdrive/My Drive/uni_archive/cell_proj/experiments/experiment_plots/exp.1.2.2.immune_log_library_sizes.png')"
      ],
      "execution_count": null,
      "outputs": [
        {
          "output_type": "display_data",
          "data": {
            "image/png": "[encoded data removed]",
            "text/plain": [
              "<Figure size 432x288 with 1 Axes>"
            ]
          },
          "metadata": {
            "tags": [],
            "needs_background": "light"
          }
        }
      ]
    },
    {
      "cell_type": "code",
      "metadata": {
        "id": "L-CHmuvaGmOm"
      },
      "source": [
        ""
      ],
      "execution_count": null,
      "outputs": []
    },
    {
      "cell_type": "markdown",
      "metadata": {
        "id": "YQ8qqJm-QMiD"
      },
      "source": [
        "# Normalization"
      ]
    },
    {
      "cell_type": "code",
      "metadata": {
        "id": "nUruEn6ZP8Zf"
      },
      "source": [
        "X_norm = F.normalize(input = torch.tensor(X), p = 1.)"
      ],
      "execution_count": null,
      "outputs": []
    },
    {
      "cell_type": "code",
      "metadata": {
        "id": "4hN-pmhJQUTx"
      },
      "source": [
        "X_lognorm = torch.log(X_norm * 10000 + 1)"
      ],
      "execution_count": null,
      "outputs": []
    },
    {
      "cell_type": "code",
      "metadata": {
        "id": "k15cuyU7QOol",
        "outputId": "d8f35186-9283-4543-def0-09589dfc8dc1",
        "colab": {
          "base_uri": "https://localhost:8080/",
          "height": 104
        }
      },
      "source": [
        "pca = PCA(n_components=20)\n",
        "pca.fit(X_lognorm)\n",
        "print('Explained variance ratios', pca.explained_variance_ratio_)\n",
        "print('Explained variance by 2D', pca.explained_variance_ratio_[:2].sum())\n",
        "X_pca = pca.transform(X_lognorm)"
      ],
      "execution_count": null,
      "outputs": [
        {
          "output_type": "stream",
          "text": [
            "Explained variance ratios [0.08706415 0.01969838 0.01723197 0.01101777 0.00778753 0.00669713\n",
            " 0.00608273 0.00406232 0.00369369 0.00351749 0.00341003 0.00321706\n",
            " 0.00302534 0.00283211 0.00274516 0.00263535 0.00257595 0.00255791\n",
            " 0.00248913 0.00246559]\n",
            "Explained variance by 2D 0.10676253222174512\n"
          ],
          "name": "stdout"
        }
      ]
    },
    {
      "cell_type": "code",
      "metadata": {
        "id": "axcHU_0VQoU7"
      },
      "source": [
        "umap_ = umap.UMAP()\n",
        "X_umap = umap_.fit_transform(X_pca)"
      ],
      "execution_count": null,
      "outputs": []
    },
    {
      "cell_type": "code",
      "metadata": {
        "id": "9wPJ01O2QZrg",
        "outputId": "78f09e26-9bd1-481f-82f3-0d8004edc6df",
        "colab": {
          "base_uri": "https://localhost:8080/",
          "height": 281
        }
      },
      "source": [
        "plt.title('PCA to d = 20 + UMAP of Log normalized IMMUNE')\n",
        "plt.scatter(X_umap[:,0], X_umap[:,1])\n",
        "plt.savefig('/content/gdrive/My Drive/uni_archive/cell_proj/experiments/experiment_plots/exp.1.2.2.lognorm_umap.png')"
      ],
      "execution_count": null,
      "outputs": [
        {
          "output_type": "display_data",
          "data": {
            "image/png": "[encoded data removed]",
            "text/plain": [
              "<Figure size 432x288 with 1 Axes>"
            ]
          },
          "metadata": {
            "tags": [],
            "needs_background": "light"
          }
        }
      ]
    },
    {
      "cell_type": "code",
      "metadata": {
        "id": "x3o7kshsQiu6"
      },
      "source": [
        ""
      ],
      "execution_count": null,
      "outputs": []
    },
    {
      "cell_type": "markdown",
      "metadata": {
        "id": "M-bfqd47Sp5D"
      },
      "source": [
        "# Looking at genes"
      ]
    },
    {
      "cell_type": "code",
      "metadata": {
        "id": "yyqHG_DESrvQ",
        "outputId": "9327fb4f-09b4-4e56-bd58-46f3d8ff1746",
        "colab": {
          "base_uri": "https://localhost:8080/",
          "height": 295
        }
      },
      "source": [
        "plt.title('Distribution of genes over log expression levels after log-normalization')\n",
        "plt.xlabel('Log expression level x')\n",
        "plt.ylabel('Number of genes with log expression level x')\n",
        "plt.hist(np.log(X_lognorm.sum(axis = 0)), bins=50)\n",
        "plt.savefig('/content/gdrive/My Drive/uni_archive/cell_proj/experiments/experiment_plots/exp.1.2.2.lognorm_expression_levels.png')"
      ],
      "execution_count": null,
      "outputs": [
        {
          "output_type": "display_data",
          "data": {
            "image/png": "[encoded data removed]",
            "text/plain": [
              "<Figure size 432x288 with 1 Axes>"
            ]
          },
          "metadata": {
            "tags": [],
            "needs_background": "light"
          }
        }
      ]
    },
    {
      "cell_type": "code",
      "metadata": {
        "id": "WBp8n6T8SsRm"
      },
      "source": [
        ""
      ],
      "execution_count": null,
      "outputs": []
    }
  ]
}