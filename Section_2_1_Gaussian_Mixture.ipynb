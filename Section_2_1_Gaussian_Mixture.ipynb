{
  "nbformat": 4,
  "nbformat_minor": 0,
  "metadata": {
    "kernelspec": {
      "display_name": "Python 3",
      "language": "python",
      "name": "python3"
    },
    "language_info": {
      "codemirror_mode": {
        "name": "ipython",
        "version": 3
      },
      "file_extension": ".py",
      "mimetype": "text/x-python",
      "name": "python",
      "nbconvert_exporter": "python",
      "pygments_lexer": "ipython3",
      "version": "3.8.5"
    },
    "colab": {
      "name": "Section 2.1 - Gaussian-Mixture.ipynb",
      "provenance": [],
      "collapsed_sections": [
        "OAKslI7ASQDi",
        "2ktmIRrTSQEU",
        "YvVSwe3vSQE4"
      ],
      "toc_visible": true,
      "include_colab_link": true
    }
  },
  "cells": [
    {
      "cell_type": "markdown",
      "metadata": {
        "id": "view-in-github",
        "colab_type": "text"
      },
      "source": [
        "<a href=\"https://colab.research.google.com/github/kmrasmussen/cell_project/blob/main/Section_2_1_Gaussian_Mixture.ipynb\" target=\"_parent\"><img src=\"https://colab.research.google.com/assets/colab-badge.svg\" alt=\"Open In Colab\"/></a>"
      ]
    },
    {
      "cell_type": "markdown",
      "metadata": {
        "id": "xBgSYAkJSP9V"
      },
      "source": [
        "# Gaussian mixture"
      ]
    },
    {
      "cell_type": "code",
      "metadata": {
        "id": "Uv1F8Qa5SP9Z"
      },
      "source": [
        "import numpy as np\n",
        "import matplotlib.pyplot as plt\n",
        "from scipy.spatial import distance\n",
        "import umap\n",
        "from sklearn.metrics.pairwise import rbf_kernel\n",
        "from sklearn.decomposition import PCA"
      ],
      "execution_count": 1,
      "outputs": []
    },
    {
      "cell_type": "code",
      "metadata": {
        "id": "QWV9mCsNSP9q"
      },
      "source": [
        "# Simulate 3 cell types sequencs in 2 different batches as Gaussian mixtures in 2D\n",
        "component_means = [[-14., 8.], [15.,-30.], [78.,0.]]\n",
        "component_vars = [[5.,3.], [20.,7], [13,0.7]]\n",
        "batch1_mixing_coefficients = [0.2, 0.3, 0.5]\n",
        "batch2_mixing_coefficients = [0.3, 0.3, 0.4]"
      ],
      "execution_count": 2,
      "outputs": []
    },
    {
      "cell_type": "code",
      "metadata": {
        "id": "fXlLRRkeSP95"
      },
      "source": [
        "def make_batch(mixing_coefficients, n_samples):\n",
        "    samples = []\n",
        "    labels = []\n",
        "    for i in range(n_samples):\n",
        "        # Select the cell type based on the mixing coefficients\n",
        "        component = np.random.choice(3, p = mixing_coefficients)\n",
        "        # Get mean and var\n",
        "        mean = np.array(component_means[component])\n",
        "        var = np.array(component_vars[component])\n",
        "        # make a sample\n",
        "        sample = np.random.multivariate_normal(mean, np.diag(var))\n",
        "        # add sample to list of samples\n",
        "        samples.append(sample)\n",
        "        labels.append(component)\n",
        "    return np.vstack(samples), np.array(labels)"
      ],
      "execution_count": 3,
      "outputs": []
    },
    {
      "cell_type": "code",
      "metadata": {
        "id": "4REHr02qSP-I",
        "outputId": "78afa8ee-9cb3-4eb4-b1f2-ec59571000c7",
        "colab": {
          "base_uri": "https://localhost:8080/",
          "height": 283
        }
      },
      "source": [
        "# Make 2 different batches based with different mixing coefficients\n",
        "b1_size = 7000\n",
        "b2_size = 3000\n",
        "batch_1, batch_1_labels = make_batch(batch1_mixing_coefficients, b1_size)\n",
        "batch_2, batch_2_labels = make_batch(batch2_mixing_coefficients, b2_size)\n",
        "plt.scatter(batch_1[:,0], batch_1[:,1], c=batch_1_labels)"
      ],
      "execution_count": 6,
      "outputs": [
        {
          "output_type": "execute_result",
          "data": {
            "text/plain": [
              "<matplotlib.collections.PathCollection at 0x7fb82ea37eb8>"
            ]
          },
          "metadata": {
            "tags": []
          },
          "execution_count": 6
        },
        {
          "output_type": "display_data",
          "data": {
            "image/png": "[encoded data removed]",
            "text/plain": [
              "<Figure size 432x288 with 1 Axes>"
            ]
          },
          "metadata": {
            "tags": [],
            "needs_background": "light"
          }
        }
      ]
    },
    {
      "cell_type": "code",
      "metadata": {
        "id": "F_d3x644LmLA",
        "outputId": "674f1868-2495-4387-f569-b49109395f0e",
        "colab": {
          "base_uri": "https://localhost:8080/",
          "height": 139
        }
      },
      "source": [
        "batch_1"
      ],
      "execution_count": 8,
      "outputs": [
        {
          "output_type": "execute_result",
          "data": {
            "text/plain": [
              "array([[ 82.16987468,   0.51638513],\n",
              "       [ 86.56114113,  -1.16335779],\n",
              "       [ 13.9325012 , -28.91985584],\n",
              "       ...,\n",
              "       [ 82.44744721,  -0.96714555],\n",
              "       [ 81.50850525,   0.49688112],\n",
              "       [ 79.41753172,  -0.10987107]])"
            ]
          },
          "metadata": {
            "tags": []
          },
          "execution_count": 8
        }
      ]
    },
    {
      "cell_type": "code",
      "metadata": {
        "id": "1cfaLzr4SP-X",
        "outputId": "768e0c25-c12b-429b-bbf8-c1af9c0aff42",
        "colab": {
          "base_uri": "https://localhost:8080/",
          "height": 283
        }
      },
      "source": [
        "both_batches = np.vstack([batch_1, batch_2])\n",
        "both_batches_labels = np.hstack([batch_1_labels, batch_2_labels + 3])\n",
        "batch_labels = np.hstack([np.zeros(b1_size),np.ones(b2_size)])\n",
        "plt.scatter(batch_1[:,0], batch_1[:,1], c=batch_1_labels, marker = 'o')\n",
        "plt.scatter(batch_2[:,0], batch_2[:,1], c=batch_2_labels, marker = '^')"
      ],
      "execution_count": 10,
      "outputs": [
        {
          "output_type": "execute_result",
          "data": {
            "text/plain": [
              "<matplotlib.collections.PathCollection at 0x7fb82ec153c8>"
            ]
          },
          "metadata": {
            "tags": []
          },
          "execution_count": 10
        },
        {
          "output_type": "display_data",
          "data": {
            "image/png": "[encoded data removed]",
            "text/plain": [
              "<Figure size 432x288 with 1 Axes>"
            ]
          },
          "metadata": {
            "tags": [],
            "needs_background": "light"
          }
        }
      ]
    },
    {
      "cell_type": "markdown",
      "metadata": {
        "id": "gKODmuuuSP-m"
      },
      "source": [
        "# Project to d = 100"
      ]
    },
    {
      "cell_type": "code",
      "metadata": {
        "id": "xo0hHsBVSP-p"
      },
      "source": [
        "original_dim = 2"
      ],
      "execution_count": 11,
      "outputs": []
    },
    {
      "cell_type": "code",
      "metadata": {
        "id": "sdMC9-gQSP-3"
      },
      "source": [
        "projection_dim = 500"
      ],
      "execution_count": 12,
      "outputs": []
    },
    {
      "cell_type": "code",
      "metadata": {
        "id": "rYuj_USWSP_J"
      },
      "source": [
        "projection_matrix_std = 500\n",
        "gauss_projection_matrix = np.random.randn(original_dim * projection_dim).reshape(projection_dim,original_dim) * projection_matrix_std"
      ],
      "execution_count": 13,
      "outputs": []
    },
    {
      "cell_type": "code",
      "metadata": {
        "id": "Z179H4C9SP_z"
      },
      "source": [
        "# Project the 2D cells into higher dimension\n",
        "batch_1_projected = np.dot(gauss_projection_matrix, batch_1.T).T\n",
        "batch_2_projected = np.dot(gauss_projection_matrix, batch_2.T).T\n",
        "both_projected = np.vstack([batch_1_projected, batch_2_projected])"
      ],
      "execution_count": 14,
      "outputs": []
    },
    {
      "cell_type": "code",
      "metadata": {
        "id": "rAIxNr37SQAU",
        "outputId": "5e052545-53a2-49f8-cbfa-407692be103f",
        "colab": {
          "base_uri": "https://localhost:8080/",
          "height": 281
        }
      },
      "source": [
        "# Use UMAP to plot how they end up\n",
        "pca = PCA(n_components=2)\n",
        "both_projected_pca = pca.fit_transform(both_projected)\n",
        "plt.scatter(both_projected_pca[:7000][:,0], both_projected_pca[:7000][:,1], c=both_batches_labels[:7000], marker='o', s=10)\n",
        "plt.scatter(both_projected_pca[7000:][:,0], both_projected_pca[7000:][:,1], c=both_batches_labels[7000:], marker='^', s=10)\n",
        "plt.title('PCA: GAUSS_SIM, projected before batch effects')\n",
        "#plt.savefig('/content/gdrive/My Drive/uni_archive/cell_proj/experiments/experiment_plots/exp1.1.projected_no_effects_pca.png')"
      ],
      "execution_count": null,
      "outputs": [
        {
          "output_type": "display_data",
          "data": {
            "image/png": "[encoded data removed]",
            "text/plain": [
              "<Figure size 432x288 with 1 Axes>"
            ]
          },
          "metadata": {
            "tags": [],
            "needs_background": "light"
          }
        }
      ]
    },
    {
      "cell_type": "code",
      "metadata": {
        "id": "Clv9udUwSQAv",
        "outputId": "04bc709e-9465-4bbb-c244-314e212161d1",
        "colab": {
          "base_uri": "https://localhost:8080/",
          "height": 283
        }
      },
      "source": [
        "# Use UMAP to plot how they end up\n",
        "reducer_no_effect = umap.UMAP()\n",
        "both_projected_umap = reducer_no_effect.fit_transform(both_projected)\n",
        "plt.scatter(both_projected_umap[:7000][:,0], both_projected_umap[:7000][:,1], c=both_batches_labels[:7000], marker='o', s=10)\n",
        "plt.scatter(both_projected_umap[7000:][:,0], both_projected_umap[7000:][:,1], c=both_batches_labels[7000:], marker='^', s=10)\n",
        "#plt.savefig('./experiment_plots/exp1.1.proj.nobatch.png')"
      ],
      "execution_count": 16,
      "outputs": [
        {
          "output_type": "execute_result",
          "data": {
            "text/plain": [
              "<matplotlib.collections.PathCollection at 0x7fb821bba630>"
            ]
          },
          "metadata": {
            "tags": []
          },
          "execution_count": 16
        },
        {
          "output_type": "display_data",
          "data": {
            "image/png": "[encoded data removed]",
            "text/plain": [
              "<Figure size 432x288 with 1 Axes>"
            ]
          },
          "metadata": {
            "tags": [],
            "needs_background": "light"
          }
        }
      ]
    },
    {
      "cell_type": "markdown",
      "metadata": {
        "id": "H6b5rk1cSQA9"
      },
      "source": [
        "## Adding batch effect vectors"
      ]
    },
    {
      "cell_type": "code",
      "metadata": {
        "id": "0FPPvxE3SQBA"
      },
      "source": [
        "# Model batch effects as a vector displacement for each batch\n",
        "# the scaling is made in order to make sure they are separated\n",
        "batch_1_scaler = 15000\n",
        "batch_2_scaler = 15000\n",
        "batch_1_batch_effect_vector = np.random.randn(projection_dim) * batch_1_scaler\n",
        "batch_2_batch_effect_vector = np.random.randn(projection_dim) * batch_2_scaler"
      ],
      "execution_count": 26,
      "outputs": []
    },
    {
      "cell_type": "code",
      "metadata": {
        "id": "sT-IP6wdSQBP"
      },
      "source": [
        "# Add the bach effect vectors to the high dim cells\n",
        "batch_1_with_effect = batch_1_projected + batch_1_batch_effect_vector\n",
        "batch_2_with_effect = batch_2_projected + batch_2_batch_effect_vector\n",
        "both_batches_with_effect = np.vstack([batch_1_with_effect, batch_2_with_effect])"
      ],
      "execution_count": 27,
      "outputs": []
    },
    {
      "cell_type": "code",
      "metadata": {
        "id": "9LSKLxCBqYMC",
        "outputId": "86cce633-ab65-4f06-8395-ac149058b1f9",
        "colab": {
          "base_uri": "https://localhost:8080/",
          "height": 299
        }
      },
      "source": [
        "pca = PCA(n_components=2)\n",
        "both_batches_with_effect_pca = pca.fit_transform(both_batches_with_effect)\n",
        "plt.scatter(both_batches_with_effect_pca[:7000][:,0], both_batches_with_effect_pca[:7000][:,1], c=both_batches_labels[:7000], marker='o', s=10)\n",
        "plt.scatter(both_batches_with_effect_pca[7000:][:,0], both_batches_with_effect_pca[7000:][:,1], c=both_batches_labels[7000:], marker='^', s=10)\n",
        "plt.title('PCA: GAUSS_SIM, after adding batch effect')\n",
        "#plt.savefig('/content/gdrive/My Drive/uni_archive/cell_proj/experiments/experiment_plots/exp1.1.proj.witheffects_difficult_pca.png')"
      ],
      "execution_count": 28,
      "outputs": [
        {
          "output_type": "execute_result",
          "data": {
            "text/plain": [
              "Text(0.5, 1.0, 'PCA: GAUSS_SIM, after adding batch effect')"
            ]
          },
          "metadata": {
            "tags": []
          },
          "execution_count": 28
        },
        {
          "output_type": "display_data",
          "data": {
            "image/png": "[encoded data removed]",
            "text/plain": [
              "<Figure size 432x288 with 1 Axes>"
            ]
          },
          "metadata": {
            "tags": [],
            "needs_background": "light"
          }
        }
      ]
    },
    {
      "cell_type": "code",
      "metadata": {
        "id": "sgy37QwgSQBn",
        "outputId": "1065f4e1-ec75-4dfe-839d-8735dfe7f3b6",
        "colab": {
          "base_uri": "https://localhost:8080/",
          "height": 72
        }
      },
      "source": [
        "# Use UMAP to see how it ends up\n",
        "reducer_with_effect = umap.UMAP()\n",
        "both_batches_with_effect_umap = reducer_with_effect.fit_transform(both_batches_with_effect)"
      ],
      "execution_count": 29,
      "outputs": [
        {
          "output_type": "stream",
          "text": [
            "/usr/local/lib/python3.6/dist-packages/sklearn/manifold/_spectral_embedding.py:236: UserWarning: Graph is not fully connected, spectral embedding may not work as expected.\n",
            "  warnings.warn(\"Graph is not fully connected, spectral embedding\"\n"
          ],
          "name": "stderr"
        }
      ]
    },
    {
      "cell_type": "code",
      "metadata": {
        "id": "5r1FEvtt3Flh",
        "outputId": "7e283fb4-54dd-400b-9874-5b6834ba7fd4",
        "colab": {
          "base_uri": "https://localhost:8080/",
          "height": 299
        }
      },
      "source": [
        "plt.scatter(both_batches_with_effect_umap[:7000][:,0], both_batches_with_effect_umap[:7000][:,1], c=both_batches_labels[:7000], marker='o', s=10, alpha=0.4)\n",
        "plt.scatter(both_batches_with_effect_umap[7000:][:,0], both_batches_with_effect_umap[7000:][:,1], c=both_batches_labels[7000:], marker='^', s=10, alpha=0.4)\n",
        "plt.title('UMAP: GAUSS_SIM, 2 batches, 3 cell types, 10k cells')\n",
        "#plt.savefig('/content/gdrive/My Drive/uni_archive/cell_proj/experiments/experiment_plots/exp1.1.proj.witheffects_difficult_umap.png')"
      ],
      "execution_count": 30,
      "outputs": [
        {
          "output_type": "execute_result",
          "data": {
            "text/plain": [
              "Text(0.5, 1.0, 'UMAP: GAUSS_SIM, 2 batches, 3 cell types, 10k cells')"
            ]
          },
          "metadata": {
            "tags": []
          },
          "execution_count": 30
        },
        {
          "output_type": "display_data",
          "data": {
            "image/png": "[encoded data removed]",
            "text/plain": [
              "<Figure size 432x288 with 1 Axes>"
            ]
          },
          "metadata": {
            "tags": [],
            "needs_background": "light"
          }
        }
      ]
    },
    {
      "cell_type": "code",
      "metadata": {
        "id": "7mnh664QBy2U",
        "outputId": "2614369d-a3f9-421b-dd32-e8b487b62364",
        "colab": {
          "base_uri": "https://localhost:8080/",
          "height": 35
        }
      },
      "source": [
        "from google.colab import drive\n",
        "drive.mount('/content/gdrive')"
      ],
      "execution_count": null,
      "outputs": [
        {
          "output_type": "stream",
          "text": [
            "Mounted at /content/gdrive\n"
          ],
          "name": "stdout"
        }
      ]
    },
    {
      "cell_type": "code",
      "metadata": {
        "id": "eNL5XUsRBivV"
      },
      "source": [
        "np.save('/content/gdrive/My Drive/uni_archive/cell_proj/experiments/experiment_outputs/simulated_gauss1_difficult1.npy', both_batches_with_effect)"
      ],
      "execution_count": null,
      "outputs": []
    },
    {
      "cell_type": "code",
      "metadata": {
        "id": "I-uviaI3BpPm"
      },
      "source": [
        "np.save('/content/gdrive/My Drive/uni_archive/cell_proj/experiments/experiment_outputs/simulated_gauss1_labels_difficult1.npy', batch_labels)"
      ],
      "execution_count": null,
      "outputs": []
    },
    {
      "cell_type": "code",
      "metadata": {
        "id": "TjK7TfuiDLyN"
      },
      "source": [
        "np.save('/content/gdrive/My Drive/uni_archive/cell_proj/experiments/experiment_outputs/simulated_gauss1_labels2_difficult1.npy', both_batches_labels)"
      ],
      "execution_count": null,
      "outputs": []
    },
    {
      "cell_type": "markdown",
      "metadata": {
        "id": "jZ9vVzdvNLJV"
      },
      "source": [
        "# IGNORE:"
      ]
    },
    {
      "cell_type": "markdown",
      "metadata": {
        "id": "N8-L9YgsSQCV"
      },
      "source": [
        "# Finding MNNs"
      ]
    },
    {
      "cell_type": "markdown",
      "metadata": {
        "id": "KlQaec8rSQCY"
      },
      "source": [
        "The method only finds MNNs with respect to the HVG"
      ]
    },
    {
      "cell_type": "code",
      "metadata": {
        "id": "1YRhBIgTSQCa"
      },
      "source": [
        "def cos_normalize(X):\n",
        "    return (1 / np.linalg.norm(X, axis=1).reshape(-1,1)) * X\n",
        "\n",
        "batch_1_with_effect = cos_normalize(batch_1_with_effect)\n",
        "batch_2_with_effect = cos_normalize(batch_2_with_effect)"
      ],
      "execution_count": null,
      "outputs": []
    },
    {
      "cell_type": "code",
      "metadata": {
        "id": "OiM17qX6SQCp"
      },
      "source": [
        "# Split batch 1 up into two parts by selecting only the HVG columns and also only the non-HVG columns\n",
        "b1_hvg = batch_1_with_effect[:,:n_highly_variable_genes]\n",
        "b1_inq = batch_1_with_effect[:,n_highly_variable_genes:]\n",
        "print(b1_hvg.shape, b1_inq.shape)\n",
        "# Do the same for batch 2\n",
        "b2_hvg = batch_2_with_effect[:,:n_highly_variable_genes]\n",
        "b2_inq = batch_2_with_effect[:,n_highly_variable_genes:]\n",
        "print(b2_hvg.shape, b2_inq.shape)"
      ],
      "execution_count": null,
      "outputs": []
    },
    {
      "cell_type": "code",
      "metadata": {
        "id": "vy08ZMIBSQC_"
      },
      "source": [
        "#b1_hvg = cos_normalize(b1_hvg)\n",
        "#b1_inq = cos_normalize(b1_inq)\n",
        "#b2_hvg = cos_normalize(b2_hvg)\n",
        "#b2_inq = cos_normalize(b2_inq)"
      ],
      "execution_count": null,
      "outputs": []
    },
    {
      "cell_type": "code",
      "metadata": {
        "id": "2lKLEB5USQDK"
      },
      "source": [
        "both_hvg = np.vstack([b1_hvg, b2_hvg])\n",
        "both_hvg_reducer = umap.UMAP()\n",
        "both_hvg_umap = both_hvg_reducer.fit_transform(both_hvg)\n",
        "plt.scatter(both_hvg_umap[:,0], both_hvg_umap[:,1], c=both_batches_labels)"
      ],
      "execution_count": null,
      "outputs": []
    },
    {
      "cell_type": "code",
      "metadata": {
        "id": "JwmXTk-rSQDX"
      },
      "source": [
        "from sklearn.neighbors import NearestNeighbors"
      ],
      "execution_count": null,
      "outputs": []
    },
    {
      "cell_type": "markdown",
      "metadata": {
        "id": "OAKslI7ASQDi"
      },
      "source": [
        "### For each cell find the k nearest neighbors in the other batch"
      ]
    },
    {
      "cell_type": "code",
      "metadata": {
        "id": "Mc_DnPr1SQDk"
      },
      "source": [
        "k = 5\n",
        "b1_hvg_nbrs = NearestNeighbors(n_neighbors=k, algorithm='ball_tree').fit(b1_hvg)\n",
        "b2_hvg_nbrs = NearestNeighbors(n_neighbors=k, algorithm='ball_tree').fit(b2_hvg)"
      ],
      "execution_count": null,
      "outputs": []
    },
    {
      "cell_type": "code",
      "metadata": {
        "id": "DeWUvwqtSQDv"
      },
      "source": [
        "_, indices_knearest_b2_in_b1 = b1_hvg_nbrs.kneighbors(b2_hvg)\n",
        "_, indices_knearest_b1_in_b2 = b2_hvg_nbrs.kneighbors(b1_hvg)"
      ],
      "execution_count": null,
      "outputs": []
    },
    {
      "cell_type": "code",
      "metadata": {
        "id": "Ulr4ILwVSQD6"
      },
      "source": [
        "indices_knearest_b2_in_b1.shape"
      ],
      "execution_count": null,
      "outputs": []
    },
    {
      "cell_type": "code",
      "metadata": {
        "id": "WpJ0wHS5SQEK"
      },
      "source": [
        "indices_knearest_b1_in_b2.shape"
      ],
      "execution_count": null,
      "outputs": []
    },
    {
      "cell_type": "markdown",
      "metadata": {
        "id": "2ktmIRrTSQEU"
      },
      "source": [
        "### Find MNNs"
      ]
    },
    {
      "cell_type": "code",
      "metadata": {
        "id": "TrqtUclESQEX"
      },
      "source": [
        "def find_mnns(knearest_in_batch_2, knearest_in_batch_1):\n",
        "    mnns = []\n",
        "    # Go through each cell in batch 1 where you know its NN in batch 2\n",
        "    for i in range(knearest_in_batch_2.shape[0]):\n",
        "        # Select the batch 2 NNs for that batch 1 cell\n",
        "        knearest_a = knearest_in_batch_2[i,:]\n",
        "        # Go through all its NNs\n",
        "        for j in knearest_a:\n",
        "            # Does the NN in batch 2 also have this batch 1 cell as one of its NNs?\n",
        "            if i in knearest_in_batch_1[j,:]:\n",
        "                #i_vec = batch_1_with_effect[i,:]\n",
        "                #j_vec = batch_2_with_effect[j,:]\n",
        "                #cos_dist = distance.cosine(i_vec, j_vec)\n",
        "                mnns.append((i,j))\n",
        "    return mnns"
      ],
      "execution_count": null,
      "outputs": []
    },
    {
      "cell_type": "code",
      "metadata": {
        "id": "PhFJYitYSQEh"
      },
      "source": [
        "all_mnns = find_mnns(indices_knearest_b1_in_b2, indices_knearest_b2_in_b1)"
      ],
      "execution_count": null,
      "outputs": []
    },
    {
      "cell_type": "code",
      "metadata": {
        "id": "7CGuqp3vSQEt"
      },
      "source": [
        "len(all_mnns)"
      ],
      "execution_count": null,
      "outputs": []
    },
    {
      "cell_type": "markdown",
      "metadata": {
        "id": "YvVSwe3vSQE4"
      },
      "source": [
        "### Find batch vectors v"
      ]
    },
    {
      "cell_type": "code",
      "metadata": {
        "id": "-1ohy-C_SQE6"
      },
      "source": [
        "# Find the batch vectors for both inquiry and HVG\n",
        "mnns_with_batch_vectors = []\n",
        "vml_inq = []\n",
        "vml_hvg = []\n",
        "for b1_cell_index, b2_cell_index in all_mnns:\n",
        "    hvg_vector = b2_hvg[b2_cell_index,:] - b1_hvg[b1_cell_index,:]\n",
        "    inq_vector = b2_inq[b2_cell_index,:] - b1_inq[b1_cell_index,:]\n",
        "    vml_inq.append(inq_vector)\n",
        "    vml_hvg.append(hvg_vector)\n",
        "    mnns_with_batch_vectors.append((b1_cell_index, b2_cell_index, hvg_vector, inq_vector))"
      ],
      "execution_count": null,
      "outputs": []
    },
    {
      "cell_type": "code",
      "metadata": {
        "id": "v4ZR1xSWSQFE"
      },
      "source": [
        "len(mnns_with_batch_vectors)"
      ],
      "execution_count": null,
      "outputs": []
    },
    {
      "cell_type": "code",
      "metadata": {
        "id": "bEzBfHYUSQFQ"
      },
      "source": [
        "vml_inq_rows = np.vstack(vml_inq)\n",
        "vml_hvg_rows = np.vstack(vml_hvg)"
      ],
      "execution_count": null,
      "outputs": []
    },
    {
      "cell_type": "code",
      "metadata": {
        "id": "srB_-lcFSQFd"
      },
      "source": [
        "vml_hvg_rows.shape"
      ],
      "execution_count": null,
      "outputs": []
    },
    {
      "cell_type": "code",
      "metadata": {
        "id": "-klKerNnSQFo"
      },
      "source": [
        "m_indices = []\n",
        "m_vecs = []\n",
        "for l_index, m_index, hvg_vec, inq_vec in mnns_with_batch_vectors:\n",
        "    if m_index not in m_indices:\n",
        "        m_indices.append(m_index)\n",
        "        m_vecs.append(b2_hvg[m_index,:])\n",
        "m_vecs = np.vstack(m_vecs)\n",
        "m_vecs.shape"
      ],
      "execution_count": null,
      "outputs": []
    },
    {
      "cell_type": "code",
      "metadata": {
        "id": "diGDNFRYSQF1"
      },
      "source": [
        "m_cell_index_lookup_dict = {}\n",
        "for i in range(len(m_indices)):\n",
        "    m_cell_index_lookup_dict[m_indices[i]] = i\n",
        "len(m_cell_index_lookup_dict)"
      ],
      "execution_count": null,
      "outputs": []
    },
    {
      "cell_type": "code",
      "metadata": {
        "id": "eZW_vWbSSQGM"
      },
      "source": [
        "w_hvg_xm = rbf_kernel(b2_hvg, m_vecs)\n",
        "print(w_hvg_xm.shape)\n",
        "#w_inq_xm = rbf_kernel(b2_inq, m_vecs)\n",
        "for x_i in range(b2_size):\n",
        "    if x_i > 0:\n",
        "        break\n",
        "    print('x_i', x_i)\n",
        "    gauss_kernel_weights = []\n",
        "    for b1_cell_index, b2_cell_index in all_mnns:\n",
        "        gauss_kernel_weight = w_hvg_xm[x_i, m_cell_index_lookup_dict[b2_cell_index]]\n",
        "        gauss_kernel_weights.append(gauss_kernel_weight)\n",
        "    gauss_kernel_weights = np.array(gauss_kernel_weights)\n",
        "    weighted_vml_hvg_rows = gauss_kernel_weights.reshape(-1,1) * vml_hvg_rows\n",
        "    print(weighted_vml_hvg_rows.shape)\n",
        "    print(weighted_vml_hvg_rows.sum(axis=0).shape)"
      ],
      "execution_count": null,
      "outputs": []
    },
    {
      "cell_type": "code",
      "metadata": {
        "id": "zQazxE_JSQGX"
      },
      "source": [
        ""
      ],
      "execution_count": null,
      "outputs": []
    }
  ]
}