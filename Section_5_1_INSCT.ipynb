{
  "nbformat": 4,
  "nbformat_minor": 0,
  "metadata": {
    "colab": {
      "name": "Section 5.1 - INSCT",
      "provenance": [],
      "authorship_tag": "ABX9TyNuvOlDEFpRrKVylQTZcMbY",
      "include_colab_link": true
    },
    "kernelspec": {
      "name": "python3",
      "display_name": "Python 3"
    }
  },
  "cells": [
    {
      "cell_type": "markdown",
      "metadata": {
        "id": "view-in-github",
        "colab_type": "text"
      },
      "source": [
        "<a href=\"https://colab.research.google.com/github/kmrasmussen/cell_project/blob/main/Section_5_1_INSCT.ipynb\" target=\"_parent\"><img src=\"https://colab.research.google.com/assets/colab-badge.svg\" alt=\"Open In Colab\"/></a>"
      ]
    },
    {
      "cell_type": "code",
      "metadata": {
        "id": "HUBeddGsCUFz",
        "outputId": "2f0d8df5-5538-4843-bda5-1c8195c6e65b",
        "colab": {
          "base_uri": "https://localhost:8080/",
          "height": 35
        }
      },
      "source": [
        "from google.colab import drive\n",
        "drive.mount('/content/gdrive')"
      ],
      "execution_count": null,
      "outputs": [
        {
          "output_type": "stream",
          "text": [
            "Mounted at /content/gdrive\n"
          ],
          "name": "stdout"
        }
      ]
    },
    {
      "cell_type": "code",
      "metadata": {
        "id": "rRtHM8qQCejZ"
      },
      "source": [
        "import numpy as np\n",
        "import torch\n",
        "import torch.nn as nn\n",
        "import torch.nn.functional as F\n",
        "from torch.utils.data import DataLoader, Dataset\n",
        "import torch.optim as optim\n",
        "from sklearn.neighbors import NearestNeighbors\n",
        "import matplotlib.pyplot as plt\n",
        "import umap\n",
        "from sklearn.decomposition import PCA"
      ],
      "execution_count": null,
      "outputs": []
    },
    {
      "cell_type": "code",
      "metadata": {
        "id": "ihvBxxriCfh9"
      },
      "source": [
        "X = np.load('/content/gdrive/My Drive/uni_archive/cell_proj/experiments/experiment_outputs/simulated_gauss1_difficult1.npy')\n",
        "y = np.load('/content/gdrive/My Drive/uni_archive/cell_proj/experiments/experiment_outputs/simulated_gauss1_labels_difficult1.npy')\n",
        "y2 = np.load('/content/gdrive/My Drive/uni_archive/cell_proj/experiments/experiment_outputs/simulated_gauss1_labels2_difficult1.npy')"
      ],
      "execution_count": null,
      "outputs": []
    },
    {
      "cell_type": "code",
      "metadata": {
        "id": "slxTJeKaCpQM",
        "outputId": "70de5376-9490-4e8e-c7a1-447ae66fd46f",
        "colab": {
          "base_uri": "https://localhost:8080/",
          "height": 35
        }
      },
      "source": [
        "y2.take(np.arange(6995, 7005))"
      ],
      "execution_count": null,
      "outputs": [
        {
          "output_type": "execute_result",
          "data": {
            "text/plain": [
              "array([1, 2, 1, 2, 2, 3, 4, 3, 5, 5])"
            ]
          },
          "metadata": {
            "tags": []
          },
          "execution_count": 27
        }
      ]
    },
    {
      "cell_type": "code",
      "metadata": {
        "id": "H_SN4WNOC2jG",
        "outputId": "68c7cc07-d810-4954-d4d8-1bbdcde9ec88",
        "colab": {
          "base_uri": "https://localhost:8080/",
          "height": 35
        }
      },
      "source": [
        "y2[6995:7005]"
      ],
      "execution_count": null,
      "outputs": [
        {
          "output_type": "execute_result",
          "data": {
            "text/plain": [
              "array([1, 2, 1, 2, 2, 3, 4, 3, 5, 5])"
            ]
          },
          "metadata": {
            "tags": []
          },
          "execution_count": 28
        }
      ]
    },
    {
      "cell_type": "code",
      "metadata": {
        "id": "EJGEgkWtC_2D"
      },
      "source": [
        "batch1 = X[0:7000]\n",
        "batch1_y2 = y2[0:7000]"
      ],
      "execution_count": null,
      "outputs": []
    },
    {
      "cell_type": "code",
      "metadata": {
        "id": "Diy7VJFeD0II"
      },
      "source": [
        "batch2 = X[7000:]\n",
        "batch2_y2 = y2[7000:]"
      ],
      "execution_count": null,
      "outputs": []
    },
    {
      "cell_type": "code",
      "metadata": {
        "id": "yGb2av00D1j7"
      },
      "source": [
        "k = 5\n",
        "b1_nbrs = NearestNeighbors(n_neighbors=k, algorithm='ball_tree').fit(batch1)\n",
        "b2_nbrs = NearestNeighbors(n_neighbors=k, algorithm='ball_tree').fit(batch2)\n",
        "both_batches_nbrs = NearestNeighbors(n_neighbors=k, algorithm='ball_tree').fit(X)"
      ],
      "execution_count": null,
      "outputs": []
    },
    {
      "cell_type": "code",
      "metadata": {
        "id": "b92JwbhID-Gn"
      },
      "source": [
        "_, indices_knearest_b2_in_b1 = b1_nbrs.kneighbors(batch2)\n",
        "_, indices_knearest_b1_in_b2 = b2_nbrs.kneighbors(batch1)"
      ],
      "execution_count": null,
      "outputs": []
    },
    {
      "cell_type": "code",
      "metadata": {
        "id": "_VcM8cbfEDiB"
      },
      "source": [
        "def find_mnns(knearest_in_batch_2, knearest_in_batch_1):\n",
        "    mnns = []\n",
        "    # Go through each cell in batch 1 where you know its NN in batch 2\n",
        "    for i in range(knearest_in_batch_2.shape[0]):\n",
        "        # Select the batch 2 NNs for that batch 1 cell\n",
        "        knearest_a = knearest_in_batch_2[i,:]\n",
        "        # Go through all its NNs\n",
        "        for j in knearest_a:\n",
        "            # Does the NN in batch 2 also have this batch 1 cell as one of its NNs?\n",
        "            if i in knearest_in_batch_1[j,:]:\n",
        "                #i_vec = batch_1_with_effect[i,:]\n",
        "                #j_vec = batch_2_with_effect[j,:]\n",
        "                #cos_dist = distance.cosine(i_vec, j_vec)\n",
        "                mnns.append((i,j))\n",
        "    return mnns"
      ],
      "execution_count": null,
      "outputs": []
    },
    {
      "cell_type": "code",
      "metadata": {
        "id": "EqJR21AIELYp"
      },
      "source": [
        "all_mnns = find_mnns(indices_knearest_b1_in_b2, indices_knearest_b2_in_b1)"
      ],
      "execution_count": null,
      "outputs": []
    },
    {
      "cell_type": "code",
      "metadata": {
        "id": "FdAVkrHQFmaF"
      },
      "source": [
        "batch2_mnn_dict = {}\n",
        "batch1_mnn_dict = {}\n",
        "for batch1_cell, batch2_cell in all_mnns:\n",
        "  if batch2_cell in batch2_mnn_dict:\n",
        "    batch2_mnn_dict[batch2_cell].append(batch1_cell)\n",
        "  else:\n",
        "    batch2_mnn_dict[batch2_cell] = [batch1_cell]\n",
        "  \n",
        "  if batch1_cell in batch1_mnn_dict:\n",
        "    batch1_mnn_dict[batch1_cell].append(batch2_cell)\n",
        "  else:\n",
        "    batch1_mnn_dict[batch1_cell] = [batch2_cell]"
      ],
      "execution_count": null,
      "outputs": []
    },
    {
      "cell_type": "code",
      "metadata": {
        "id": "6j3wfuuPEp0e"
      },
      "source": [
        "class TripletCellDataset(Dataset):\n",
        "  def __init__(self, both_batches, batch1, batch2, batch1_mnn_dict, batch2_mnn_dict, positive_sample_mode = 'other'):\n",
        "    assert positive_sample_mode == 'other' or positive_sample_mode == 'all'\n",
        "    self.X = both_batches\n",
        "    self.b1 = batch1\n",
        "    self.b2 = batch2\n",
        "    self.b1_mnns = batch1_mnn_dict\n",
        "    self.b2_mnns = batch2_mnn_dict\n",
        "    self.positive_sample_mode = positive_sample_mode\n",
        "    \n",
        "  def __len__(self):\n",
        "    return self.b1.shape[0] + self.b2.shape[0]\n",
        "\n",
        "  def __getitem__(self, idx):\n",
        "    batch_number = None\n",
        "    anchor_batch = None\n",
        "    anchor_id = None\n",
        "    anchor = None\n",
        "    positive_id = None\n",
        "    positive = None\n",
        "    negative_id = None\n",
        "    negative = None\n",
        "    if idx < self.b1.shape[0]:\n",
        "      batch_number = 1\n",
        "      anchor_batch = self.b1\n",
        "      anchor_id = idx\n",
        "      anchor = self.b1[anchor_id]\n",
        "      if anchor_id in self.b1_mnns:\n",
        "        anchor_mnns = np.array(self.b1_mnns[anchor_id])\n",
        "        #print('Yay', anchor_id, ' in B1 has mnns', anchor_mnns)\n",
        "        #print('labels', batch2_y2.take(anchor_mnns))\n",
        "        #print('Anchor label', batch1_y2[anchor_id])\n",
        "        positive_id = np.random.choice(anchor_mnns)\n",
        "        positive = self.b2[positive_id]\n",
        "      else:\n",
        "        #print('Oops', anchor_id, ' in B1 does not have mnns')\n",
        "        if self.positive_sample_mode == 'all':\n",
        "          _, indices = both_batches_nbrs.kneighbors(batch1[anchor_id:anchor_id + 1])\n",
        "          #print('K nearest in B2 to anchor', anchor_id, ' in B1', indices)\n",
        "          positive_id = np.random.choice(indices[0])\n",
        "          positive = self.X[positive_id]\n",
        "        elif self.positive_sample_mode == 'other':\n",
        "          _, indices = b2_nbrs.kneighbors(batch1[anchor_id:anchor_id + 1])\n",
        "          positive_id = np.random.choice(indices[0])\n",
        "          positive = self.b2[positive_id]\n",
        "      #print('Positive id', positive_id)\n",
        "      negative_id = np.random.randint(self.b1.shape[0])\n",
        "      negative = self.b1[negative_id]\n",
        "      #print('Choosing negative randomly', negative_id)\n",
        "    else:\n",
        "      batch_number = 2\n",
        "      anchor_batch = self.b2\n",
        "      anchor_id = idx - self.b1.shape[0]\n",
        "      anchor = self.b2[anchor_id]\n",
        "      if anchor_id in self.b2_mnns:\n",
        "        anchor_mnns = np.array(self.b2_mnns[anchor_id])\n",
        "        #print('Yay', anchor_id, ' in B2 has mnns', anchor_mnns, 'labels', batch1_y2.take(anchor_mnns))\n",
        "        #print('Anchor label', batch2_y2[anchor_id])\n",
        "        positive_id = np.random.choice(anchor_mnns)\n",
        "        positive = self.b1[positive_id]\n",
        "      else:\n",
        "        if self.positive_sample_mode == 'all':\n",
        "          #print('Oops', anchor_id, ' in B2 does not have mnns')\n",
        "          _, indices = both_batches_nbrs.kneighbors(batch2[anchor_id:anchor_id + 1])\n",
        "          #print('K nearest in B1 to anchor', anchor_id, ' in B2', indices)\n",
        "          positive_id = np.random.choice(indices[0])\n",
        "          positive = self.X[positive_id]\n",
        "        elif self.positive_sample_mode == 'other':\n",
        "          _, indices = b1_nbrs.kneighbors(batch2[anchor_id:anchor_id + 1])\n",
        "          positive_id = np.random.choice(indices[0])\n",
        "          positive = self.b1[positive_id]\n",
        "      #print('Positive id', positive_id)\n",
        "      negative_id = np.random.randint(self.b2.shape[0])\n",
        "      negative = self.b2[negative_id]\n",
        "      #print('Choosing negative randomly', negative_id)\n",
        "    # batch_number, anchor_id, anchor, positive_id, positive, negative_id, negative\n",
        "    return anchor, positive, negative"
      ],
      "execution_count": null,
      "outputs": []
    },
    {
      "cell_type": "code",
      "metadata": {
        "id": "FK7mJo3XEw-Q"
      },
      "source": [
        "sim_dataset = TripletCellDataset(X, batch1, batch2, batch1_mnn_dict, batch2_mnn_dict, positive_sample_mode='all')"
      ],
      "execution_count": null,
      "outputs": []
    },
    {
      "cell_type": "code",
      "metadata": {
        "id": "jvxPY3h6Ou-V"
      },
      "source": [
        "dataloader = DataLoader(sim_dataset, shuffle=False, batch_size=16)"
      ],
      "execution_count": null,
      "outputs": []
    },
    {
      "cell_type": "code",
      "metadata": {
        "id": "upf4cG9HQsJH"
      },
      "source": [
        "class TripletNet(nn.Module):\n",
        "  def __init__(self, input_dim, hidden_dim, rep_dim):\n",
        "    super().__init__()\n",
        "    self.dense1 = nn.Linear(in_features = input_dim, out_features = hidden_dim)\n",
        "    self.dense2 = nn.Linear(in_features = hidden_dim, out_features = rep_dim)\n",
        "  def forward(self, x):\n",
        "    x = F.relu(self.dense1(x))\n",
        "    x = self.dense2(x)\n",
        "    return x"
      ],
      "execution_count": null,
      "outputs": []
    },
    {
      "cell_type": "code",
      "metadata": {
        "id": "IZVpwj-xQVD2",
        "outputId": "daa40bd7-27ea-49ba-dd55-10d753bc339c",
        "colab": {
          "base_uri": "https://localhost:8080/",
          "height": 295
        }
      },
      "source": [
        "net = TripletNet(500, 100, 20)\n",
        "pairwise_dist = nn.PairwiseDistance(p = 2.)\n",
        "margin_hyperparam = 0.\n",
        "optimizer = optim.Adam(net.parameters())\n",
        "\n",
        "for epoch_i in range(2):\n",
        "  print('')\n",
        "  print('Epoch', epoch_i)\n",
        "\n",
        "  running_loss = 0.\n",
        "  for i, data in enumerate(dataloader):\n",
        "    anchor, positive, negative = data\n",
        "\n",
        "    optimizer.zero_grad()\n",
        "\n",
        "    anchor_embed = net(anchor.float())\n",
        "    positive_embed = net(positive.float())\n",
        "    negative_embed = net(negative.float())\n",
        "\n",
        "    ap_dists = pairwise_dist(anchor_embed, positive_embed)\n",
        "    an_dists = pairwise_dist(anchor_embed, negative_embed)\n",
        "    pn_dists = pairwise_dist(negative_embed, positive_embed)\n",
        "    losses = ap_dists - torch.min(an_dists, pn_dists) + margin_hyperparam\n",
        "    loss = losses.sum()\n",
        "\n",
        "    loss.backward()\n",
        "    optimizer.step()\n",
        "\n",
        "    running_loss += loss.item()\n",
        "    if i % 100 == 99:\n",
        "      print('Running loss', running_loss / 100)\n",
        "      running_loss = 0."
      ],
      "execution_count": null,
      "outputs": [
        {
          "output_type": "stream",
          "text": [
            "\n",
            "Epoch 0\n",
            "Running loss -143186039.34328124\n",
            "Running loss -1147705324.48\n",
            "Running loss -3524236038.4\n",
            "Running loss -8113721896.96\n",
            "Running loss -12461834685.44\n",
            "Running loss -17825909176.32\n",
            "\n",
            "Epoch 1\n",
            "Running loss -27825119252.48\n",
            "Running loss -36612621045.76\n",
            "Running loss -46282478100.48\n",
            "Running loss -60350736250.88\n",
            "Running loss -67834101309.44\n",
            "Running loss -81689939476.48\n"
          ],
          "name": "stdout"
        }
      ]
    },
    {
      "cell_type": "code",
      "metadata": {
        "id": "QlP_ac-lQfjf"
      },
      "source": [
        "X_encoded = net(torch.tensor(X).float())"
      ],
      "execution_count": null,
      "outputs": []
    },
    {
      "cell_type": "code",
      "metadata": {
        "id": "RE0bivh6SQ7T",
        "outputId": "c68c63f5-20ff-4d28-9c64-9800b8e960b2",
        "colab": {
          "base_uri": "https://localhost:8080/",
          "height": 35
        }
      },
      "source": [
        "X_encoded.shape"
      ],
      "execution_count": null,
      "outputs": [
        {
          "output_type": "execute_result",
          "data": {
            "text/plain": [
              "torch.Size([10000, 20])"
            ]
          },
          "metadata": {
            "tags": []
          },
          "execution_count": 60
        }
      ]
    },
    {
      "cell_type": "code",
      "metadata": {
        "id": "3rynSpTJzkG2"
      },
      "source": [
        "pca = PCA(n_components=2)\n",
        "X_encoded_pca = pca.fit_transform(X_encoded.detach())"
      ],
      "execution_count": null,
      "outputs": []
    },
    {
      "cell_type": "code",
      "metadata": {
        "id": "67fFX1CYzuNm",
        "outputId": "5e008951-3e93-4660-e378-4418de47f91f",
        "colab": {
          "base_uri": "https://localhost:8080/",
          "height": 294
        }
      },
      "source": [
        "plt.title('Exp 6.1. PCA of INSCT on GAUSS_SIM')\n",
        "plt.scatter(X_encoded_pca[:7000][:,0], X_encoded_pca[:7000][:,1], c=y2[:7000], marker='o', s=10, alpha=0.4)\n",
        "plt.scatter(X_encoded_pca[7000:][:,0], X_encoded_pca[7000:][:,1], c=y2[7000:], marker='^', s=10, alpha=0.4)\n",
        "plt.savefig('/content/gdrive/My Drive/uni_archive/cell_proj/experiments/experiment_plots/exp.6.1.insct_gauss_sim_pca.png')\n",
        "#plt.scatter(X_encoded_pca[:,0] + 5, X_encoded_pca[:,1] + 5, c=y2)"
      ],
      "execution_count": null,
      "outputs": [
        {
          "output_type": "display_data",
          "data": {
            "image/png": "[encoded data removed]",
            "text/plain": [
              "<Figure size 432x288 with 1 Axes>"
            ]
          },
          "metadata": {
            "tags": [],
            "needs_background": "light"
          }
        }
      ]
    },
    {
      "cell_type": "code",
      "metadata": {
        "id": "_PZ-UnCBUh_M"
      },
      "source": [
        "reducer = umap.UMAP()\n",
        "X_encoded_umap = reducer.fit_transform(X_encoded.detach())"
      ],
      "execution_count": null,
      "outputs": []
    },
    {
      "cell_type": "code",
      "metadata": {
        "id": "o8dDfojSanmO"
      },
      "source": [
        "from sklearn.cluster import KMeans\n",
        "kmeans = KMeans(n_clusters=3, random_state=0).fit(X_encoded_umap)"
      ],
      "execution_count": null,
      "outputs": []
    },
    {
      "cell_type": "code",
      "metadata": {
        "id": "nsxZbFyFUmnO",
        "outputId": "3e1c09b8-45c3-44a6-dd40-38bbc9ddf271",
        "colab": {
          "base_uri": "https://localhost:8080/",
          "height": 281
        }
      },
      "source": [
        "plt.title('Exp 6.1. UMAP of INSCT on GAUSS_SIM')\n",
        "plt.scatter(X_encoded_umap[:7000][:,0], X_encoded_umap[:7000][:,1], c=y2[:7000], marker='o', s=10, alpha=0.4)\n",
        "plt.scatter(X_encoded_umap[7000:][:,0], X_encoded_umap[7000:][:,1], c=y2[7000:], marker='^', s=10, alpha=0.4)\n",
        "plt.savefig('/content/gdrive/My Drive/uni_archive/cell_proj/experiments/experiment_plots/exp.6.1.insct_gauss_sim_umap.png')"
      ],
      "execution_count": null,
      "outputs": [
        {
          "output_type": "display_data",
          "data": {
            "image/png": "[encoded data removed]",
            "text/plain": [
              "<Figure size 432x288 with 1 Axes>"
            ]
          },
          "metadata": {
            "tags": [],
            "needs_background": "light"
          }
        }
      ]
    }
  ]
}